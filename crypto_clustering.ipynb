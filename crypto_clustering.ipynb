{
 "cells": [
  {
   "cell_type": "code",
   "execution_count": 112,
   "metadata": {},
   "outputs": [],
   "source": [
    "# Initial imports\n",
    "import pandas as pd\n",
    "import hvplot.pandas\n",
    "from path import Path\n",
    "import plotly.express as px\n",
    "from sklearn.preprocessing import StandardScaler, MinMaxScaler\n",
    "from sklearn.decomposition import PCA\n",
    "from sklearn.cluster import KMeans"
   ]
  },
  {
   "cell_type": "markdown",
   "metadata": {},
   "source": [
    "### Deliverable 1: Preprocessing the Data for PCA"
   ]
  },
  {
   "cell_type": "code",
   "execution_count": 113,
   "metadata": {},
   "outputs": [
    {
     "data": {
      "text/plain": [
       "CoinName            object\n",
       "Algorithm           object\n",
       "IsTrading             bool\n",
       "ProofType           object\n",
       "TotalCoinsMined    float64\n",
       "TotalCoinSupply     object\n",
       "dtype: object"
      ]
     },
     "execution_count": 113,
     "metadata": {},
     "output_type": "execute_result"
    }
   ],
   "source": [
    "# Load the crypto_data.csv dataset.\n",
    "file_path = \"crypto_data.csv\"\n",
    "crypto_df = pd.read_csv(file_path, index_col=0)\n",
    "crypto_df.dtypes"
   ]
  },
  {
   "cell_type": "code",
   "execution_count": 114,
   "metadata": {},
   "outputs": [
    {
     "data": {
      "text/html": [
       "<div>\n",
       "<style scoped>\n",
       "    .dataframe tbody tr th:only-of-type {\n",
       "        vertical-align: middle;\n",
       "    }\n",
       "\n",
       "    .dataframe tbody tr th {\n",
       "        vertical-align: top;\n",
       "    }\n",
       "\n",
       "    .dataframe thead th {\n",
       "        text-align: right;\n",
       "    }\n",
       "</style>\n",
       "<table border=\"1\" class=\"dataframe\">\n",
       "  <thead>\n",
       "    <tr style=\"text-align: right;\">\n",
       "      <th></th>\n",
       "      <th>CoinName</th>\n",
       "      <th>Algorithm</th>\n",
       "      <th>IsTrading</th>\n",
       "      <th>ProofType</th>\n",
       "      <th>TotalCoinsMined</th>\n",
       "      <th>TotalCoinSupply</th>\n",
       "    </tr>\n",
       "  </thead>\n",
       "  <tbody>\n",
       "    <tr>\n",
       "      <th>42</th>\n",
       "      <td>42 Coin</td>\n",
       "      <td>Scrypt</td>\n",
       "      <td>True</td>\n",
       "      <td>PoW/PoS</td>\n",
       "      <td>4.199995e+01</td>\n",
       "      <td>42</td>\n",
       "    </tr>\n",
       "    <tr>\n",
       "      <th>365</th>\n",
       "      <td>365Coin</td>\n",
       "      <td>X11</td>\n",
       "      <td>True</td>\n",
       "      <td>PoW/PoS</td>\n",
       "      <td>NaN</td>\n",
       "      <td>2300000000</td>\n",
       "    </tr>\n",
       "    <tr>\n",
       "      <th>404</th>\n",
       "      <td>404Coin</td>\n",
       "      <td>Scrypt</td>\n",
       "      <td>True</td>\n",
       "      <td>PoW/PoS</td>\n",
       "      <td>1.055185e+09</td>\n",
       "      <td>532000000</td>\n",
       "    </tr>\n",
       "    <tr>\n",
       "      <th>611</th>\n",
       "      <td>SixEleven</td>\n",
       "      <td>SHA-256</td>\n",
       "      <td>True</td>\n",
       "      <td>PoW</td>\n",
       "      <td>NaN</td>\n",
       "      <td>611000</td>\n",
       "    </tr>\n",
       "    <tr>\n",
       "      <th>808</th>\n",
       "      <td>808</td>\n",
       "      <td>SHA-256</td>\n",
       "      <td>True</td>\n",
       "      <td>PoW/PoS</td>\n",
       "      <td>0.000000e+00</td>\n",
       "      <td>0</td>\n",
       "    </tr>\n",
       "    <tr>\n",
       "      <th>...</th>\n",
       "      <td>...</td>\n",
       "      <td>...</td>\n",
       "      <td>...</td>\n",
       "      <td>...</td>\n",
       "      <td>...</td>\n",
       "      <td>...</td>\n",
       "    </tr>\n",
       "    <tr>\n",
       "      <th>SERO</th>\n",
       "      <td>Super Zero</td>\n",
       "      <td>Ethash</td>\n",
       "      <td>True</td>\n",
       "      <td>PoW</td>\n",
       "      <td>NaN</td>\n",
       "      <td>1000000000</td>\n",
       "    </tr>\n",
       "    <tr>\n",
       "      <th>UOS</th>\n",
       "      <td>UOS</td>\n",
       "      <td>SHA-256</td>\n",
       "      <td>True</td>\n",
       "      <td>DPoI</td>\n",
       "      <td>NaN</td>\n",
       "      <td>1000000000</td>\n",
       "    </tr>\n",
       "    <tr>\n",
       "      <th>BDX</th>\n",
       "      <td>Beldex</td>\n",
       "      <td>CryptoNight</td>\n",
       "      <td>True</td>\n",
       "      <td>PoW</td>\n",
       "      <td>9.802226e+08</td>\n",
       "      <td>1400222610</td>\n",
       "    </tr>\n",
       "    <tr>\n",
       "      <th>ZEN</th>\n",
       "      <td>Horizen</td>\n",
       "      <td>Equihash</td>\n",
       "      <td>True</td>\n",
       "      <td>PoW</td>\n",
       "      <td>7.296538e+06</td>\n",
       "      <td>21000000</td>\n",
       "    </tr>\n",
       "    <tr>\n",
       "      <th>XBC</th>\n",
       "      <td>BitcoinPlus</td>\n",
       "      <td>Scrypt</td>\n",
       "      <td>True</td>\n",
       "      <td>PoS</td>\n",
       "      <td>1.283270e+05</td>\n",
       "      <td>1000000</td>\n",
       "    </tr>\n",
       "  </tbody>\n",
       "</table>\n",
       "<p>1144 rows × 6 columns</p>\n",
       "</div>"
      ],
      "text/plain": [
       "         CoinName    Algorithm  IsTrading ProofType  TotalCoinsMined  \\\n",
       "42        42 Coin       Scrypt       True   PoW/PoS     4.199995e+01   \n",
       "365       365Coin          X11       True   PoW/PoS              NaN   \n",
       "404       404Coin       Scrypt       True   PoW/PoS     1.055185e+09   \n",
       "611     SixEleven      SHA-256       True       PoW              NaN   \n",
       "808           808      SHA-256       True   PoW/PoS     0.000000e+00   \n",
       "...           ...          ...        ...       ...              ...   \n",
       "SERO   Super Zero       Ethash       True       PoW              NaN   \n",
       "UOS           UOS      SHA-256       True      DPoI              NaN   \n",
       "BDX        Beldex  CryptoNight       True       PoW     9.802226e+08   \n",
       "ZEN       Horizen     Equihash       True       PoW     7.296538e+06   \n",
       "XBC   BitcoinPlus       Scrypt       True       PoS     1.283270e+05   \n",
       "\n",
       "     TotalCoinSupply  \n",
       "42                42  \n",
       "365       2300000000  \n",
       "404        532000000  \n",
       "611           611000  \n",
       "808                0  \n",
       "...              ...  \n",
       "SERO      1000000000  \n",
       "UOS       1000000000  \n",
       "BDX       1400222610  \n",
       "ZEN         21000000  \n",
       "XBC          1000000  \n",
       "\n",
       "[1144 rows x 6 columns]"
      ]
     },
     "execution_count": 114,
     "metadata": {},
     "output_type": "execute_result"
    }
   ],
   "source": [
    "# Keep all the cryptocurrencies that are being traded.\n",
    "crypto_df = crypto_df[crypto_df['IsTrading'] == True]\n",
    "crypto_df"
   ]
  },
  {
   "cell_type": "code",
   "execution_count": 115,
   "metadata": {},
   "outputs": [
    {
     "data": {
      "text/html": [
       "<div>\n",
       "<style scoped>\n",
       "    .dataframe tbody tr th:only-of-type {\n",
       "        vertical-align: middle;\n",
       "    }\n",
       "\n",
       "    .dataframe tbody tr th {\n",
       "        vertical-align: top;\n",
       "    }\n",
       "\n",
       "    .dataframe thead th {\n",
       "        text-align: right;\n",
       "    }\n",
       "</style>\n",
       "<table border=\"1\" class=\"dataframe\">\n",
       "  <thead>\n",
       "    <tr style=\"text-align: right;\">\n",
       "      <th></th>\n",
       "      <th>CoinName</th>\n",
       "      <th>Algorithm</th>\n",
       "      <th>IsTrading</th>\n",
       "      <th>ProofType</th>\n",
       "      <th>TotalCoinsMined</th>\n",
       "      <th>TotalCoinSupply</th>\n",
       "    </tr>\n",
       "  </thead>\n",
       "  <tbody>\n",
       "    <tr>\n",
       "      <th>42</th>\n",
       "      <td>42 Coin</td>\n",
       "      <td>Scrypt</td>\n",
       "      <td>True</td>\n",
       "      <td>PoW/PoS</td>\n",
       "      <td>4.199995e+01</td>\n",
       "      <td>42</td>\n",
       "    </tr>\n",
       "    <tr>\n",
       "      <th>365</th>\n",
       "      <td>365Coin</td>\n",
       "      <td>X11</td>\n",
       "      <td>True</td>\n",
       "      <td>PoW/PoS</td>\n",
       "      <td>NaN</td>\n",
       "      <td>2300000000</td>\n",
       "    </tr>\n",
       "    <tr>\n",
       "      <th>404</th>\n",
       "      <td>404Coin</td>\n",
       "      <td>Scrypt</td>\n",
       "      <td>True</td>\n",
       "      <td>PoW/PoS</td>\n",
       "      <td>1.055185e+09</td>\n",
       "      <td>532000000</td>\n",
       "    </tr>\n",
       "    <tr>\n",
       "      <th>611</th>\n",
       "      <td>SixEleven</td>\n",
       "      <td>SHA-256</td>\n",
       "      <td>True</td>\n",
       "      <td>PoW</td>\n",
       "      <td>NaN</td>\n",
       "      <td>611000</td>\n",
       "    </tr>\n",
       "    <tr>\n",
       "      <th>808</th>\n",
       "      <td>808</td>\n",
       "      <td>SHA-256</td>\n",
       "      <td>True</td>\n",
       "      <td>PoW/PoS</td>\n",
       "      <td>0.000000e+00</td>\n",
       "      <td>0</td>\n",
       "    </tr>\n",
       "    <tr>\n",
       "      <th>...</th>\n",
       "      <td>...</td>\n",
       "      <td>...</td>\n",
       "      <td>...</td>\n",
       "      <td>...</td>\n",
       "      <td>...</td>\n",
       "      <td>...</td>\n",
       "    </tr>\n",
       "    <tr>\n",
       "      <th>SERO</th>\n",
       "      <td>Super Zero</td>\n",
       "      <td>Ethash</td>\n",
       "      <td>True</td>\n",
       "      <td>PoW</td>\n",
       "      <td>NaN</td>\n",
       "      <td>1000000000</td>\n",
       "    </tr>\n",
       "    <tr>\n",
       "      <th>UOS</th>\n",
       "      <td>UOS</td>\n",
       "      <td>SHA-256</td>\n",
       "      <td>True</td>\n",
       "      <td>DPoI</td>\n",
       "      <td>NaN</td>\n",
       "      <td>1000000000</td>\n",
       "    </tr>\n",
       "    <tr>\n",
       "      <th>BDX</th>\n",
       "      <td>Beldex</td>\n",
       "      <td>CryptoNight</td>\n",
       "      <td>True</td>\n",
       "      <td>PoW</td>\n",
       "      <td>9.802226e+08</td>\n",
       "      <td>1400222610</td>\n",
       "    </tr>\n",
       "    <tr>\n",
       "      <th>ZEN</th>\n",
       "      <td>Horizen</td>\n",
       "      <td>Equihash</td>\n",
       "      <td>True</td>\n",
       "      <td>PoW</td>\n",
       "      <td>7.296538e+06</td>\n",
       "      <td>21000000</td>\n",
       "    </tr>\n",
       "    <tr>\n",
       "      <th>XBC</th>\n",
       "      <td>BitcoinPlus</td>\n",
       "      <td>Scrypt</td>\n",
       "      <td>True</td>\n",
       "      <td>PoS</td>\n",
       "      <td>1.283270e+05</td>\n",
       "      <td>1000000</td>\n",
       "    </tr>\n",
       "  </tbody>\n",
       "</table>\n",
       "<p>1144 rows × 6 columns</p>\n",
       "</div>"
      ],
      "text/plain": [
       "         CoinName    Algorithm  IsTrading ProofType  TotalCoinsMined  \\\n",
       "42        42 Coin       Scrypt       True   PoW/PoS     4.199995e+01   \n",
       "365       365Coin          X11       True   PoW/PoS              NaN   \n",
       "404       404Coin       Scrypt       True   PoW/PoS     1.055185e+09   \n",
       "611     SixEleven      SHA-256       True       PoW              NaN   \n",
       "808           808      SHA-256       True   PoW/PoS     0.000000e+00   \n",
       "...           ...          ...        ...       ...              ...   \n",
       "SERO   Super Zero       Ethash       True       PoW              NaN   \n",
       "UOS           UOS      SHA-256       True      DPoI              NaN   \n",
       "BDX        Beldex  CryptoNight       True       PoW     9.802226e+08   \n",
       "ZEN       Horizen     Equihash       True       PoW     7.296538e+06   \n",
       "XBC   BitcoinPlus       Scrypt       True       PoS     1.283270e+05   \n",
       "\n",
       "     TotalCoinSupply  \n",
       "42                42  \n",
       "365       2300000000  \n",
       "404        532000000  \n",
       "611           611000  \n",
       "808                0  \n",
       "...              ...  \n",
       "SERO      1000000000  \n",
       "UOS       1000000000  \n",
       "BDX       1400222610  \n",
       "ZEN         21000000  \n",
       "XBC          1000000  \n",
       "\n",
       "[1144 rows x 6 columns]"
      ]
     },
     "execution_count": 115,
     "metadata": {},
     "output_type": "execute_result"
    }
   ],
   "source": [
    "# Keep all the cryptocurrencies that have a working algorithm.\n",
    "crypto_df['Algorithm'].dropna(inplace=True)\n",
    "crypto_df"
   ]
  },
  {
   "cell_type": "code",
   "execution_count": 116,
   "metadata": {},
   "outputs": [
    {
     "data": {
      "text/html": [
       "<div>\n",
       "<style scoped>\n",
       "    .dataframe tbody tr th:only-of-type {\n",
       "        vertical-align: middle;\n",
       "    }\n",
       "\n",
       "    .dataframe tbody tr th {\n",
       "        vertical-align: top;\n",
       "    }\n",
       "\n",
       "    .dataframe thead th {\n",
       "        text-align: right;\n",
       "    }\n",
       "</style>\n",
       "<table border=\"1\" class=\"dataframe\">\n",
       "  <thead>\n",
       "    <tr style=\"text-align: right;\">\n",
       "      <th></th>\n",
       "      <th>CoinName</th>\n",
       "      <th>Algorithm</th>\n",
       "      <th>ProofType</th>\n",
       "      <th>TotalCoinsMined</th>\n",
       "      <th>TotalCoinSupply</th>\n",
       "    </tr>\n",
       "  </thead>\n",
       "  <tbody>\n",
       "    <tr>\n",
       "      <th>42</th>\n",
       "      <td>42 Coin</td>\n",
       "      <td>Scrypt</td>\n",
       "      <td>PoW/PoS</td>\n",
       "      <td>4.199995e+01</td>\n",
       "      <td>42</td>\n",
       "    </tr>\n",
       "    <tr>\n",
       "      <th>365</th>\n",
       "      <td>365Coin</td>\n",
       "      <td>X11</td>\n",
       "      <td>PoW/PoS</td>\n",
       "      <td>NaN</td>\n",
       "      <td>2300000000</td>\n",
       "    </tr>\n",
       "    <tr>\n",
       "      <th>404</th>\n",
       "      <td>404Coin</td>\n",
       "      <td>Scrypt</td>\n",
       "      <td>PoW/PoS</td>\n",
       "      <td>1.055185e+09</td>\n",
       "      <td>532000000</td>\n",
       "    </tr>\n",
       "    <tr>\n",
       "      <th>611</th>\n",
       "      <td>SixEleven</td>\n",
       "      <td>SHA-256</td>\n",
       "      <td>PoW</td>\n",
       "      <td>NaN</td>\n",
       "      <td>611000</td>\n",
       "    </tr>\n",
       "    <tr>\n",
       "      <th>808</th>\n",
       "      <td>808</td>\n",
       "      <td>SHA-256</td>\n",
       "      <td>PoW/PoS</td>\n",
       "      <td>0.000000e+00</td>\n",
       "      <td>0</td>\n",
       "    </tr>\n",
       "    <tr>\n",
       "      <th>...</th>\n",
       "      <td>...</td>\n",
       "      <td>...</td>\n",
       "      <td>...</td>\n",
       "      <td>...</td>\n",
       "      <td>...</td>\n",
       "    </tr>\n",
       "    <tr>\n",
       "      <th>SERO</th>\n",
       "      <td>Super Zero</td>\n",
       "      <td>Ethash</td>\n",
       "      <td>PoW</td>\n",
       "      <td>NaN</td>\n",
       "      <td>1000000000</td>\n",
       "    </tr>\n",
       "    <tr>\n",
       "      <th>UOS</th>\n",
       "      <td>UOS</td>\n",
       "      <td>SHA-256</td>\n",
       "      <td>DPoI</td>\n",
       "      <td>NaN</td>\n",
       "      <td>1000000000</td>\n",
       "    </tr>\n",
       "    <tr>\n",
       "      <th>BDX</th>\n",
       "      <td>Beldex</td>\n",
       "      <td>CryptoNight</td>\n",
       "      <td>PoW</td>\n",
       "      <td>9.802226e+08</td>\n",
       "      <td>1400222610</td>\n",
       "    </tr>\n",
       "    <tr>\n",
       "      <th>ZEN</th>\n",
       "      <td>Horizen</td>\n",
       "      <td>Equihash</td>\n",
       "      <td>PoW</td>\n",
       "      <td>7.296538e+06</td>\n",
       "      <td>21000000</td>\n",
       "    </tr>\n",
       "    <tr>\n",
       "      <th>XBC</th>\n",
       "      <td>BitcoinPlus</td>\n",
       "      <td>Scrypt</td>\n",
       "      <td>PoS</td>\n",
       "      <td>1.283270e+05</td>\n",
       "      <td>1000000</td>\n",
       "    </tr>\n",
       "  </tbody>\n",
       "</table>\n",
       "<p>1144 rows × 5 columns</p>\n",
       "</div>"
      ],
      "text/plain": [
       "         CoinName    Algorithm ProofType  TotalCoinsMined TotalCoinSupply\n",
       "42        42 Coin       Scrypt   PoW/PoS     4.199995e+01              42\n",
       "365       365Coin          X11   PoW/PoS              NaN      2300000000\n",
       "404       404Coin       Scrypt   PoW/PoS     1.055185e+09       532000000\n",
       "611     SixEleven      SHA-256       PoW              NaN          611000\n",
       "808           808      SHA-256   PoW/PoS     0.000000e+00               0\n",
       "...           ...          ...       ...              ...             ...\n",
       "SERO   Super Zero       Ethash       PoW              NaN      1000000000\n",
       "UOS           UOS      SHA-256      DPoI              NaN      1000000000\n",
       "BDX        Beldex  CryptoNight       PoW     9.802226e+08      1400222610\n",
       "ZEN       Horizen     Equihash       PoW     7.296538e+06        21000000\n",
       "XBC   BitcoinPlus       Scrypt       PoS     1.283270e+05         1000000\n",
       "\n",
       "[1144 rows x 5 columns]"
      ]
     },
     "execution_count": 116,
     "metadata": {},
     "output_type": "execute_result"
    }
   ],
   "source": [
    "# Remove the \"IsTrading\" column. \n",
    "crypto_df.drop(columns=['IsTrading'], inplace=True)\n",
    "crypto_df"
   ]
  },
  {
   "cell_type": "code",
   "execution_count": 117,
   "metadata": {},
   "outputs": [
    {
     "data": {
      "text/html": [
       "<div>\n",
       "<style scoped>\n",
       "    .dataframe tbody tr th:only-of-type {\n",
       "        vertical-align: middle;\n",
       "    }\n",
       "\n",
       "    .dataframe tbody tr th {\n",
       "        vertical-align: top;\n",
       "    }\n",
       "\n",
       "    .dataframe thead th {\n",
       "        text-align: right;\n",
       "    }\n",
       "</style>\n",
       "<table border=\"1\" class=\"dataframe\">\n",
       "  <thead>\n",
       "    <tr style=\"text-align: right;\">\n",
       "      <th></th>\n",
       "      <th>CoinName</th>\n",
       "      <th>Algorithm</th>\n",
       "      <th>ProofType</th>\n",
       "      <th>TotalCoinsMined</th>\n",
       "      <th>TotalCoinSupply</th>\n",
       "    </tr>\n",
       "  </thead>\n",
       "  <tbody>\n",
       "    <tr>\n",
       "      <th>42</th>\n",
       "      <td>42 Coin</td>\n",
       "      <td>Scrypt</td>\n",
       "      <td>PoW/PoS</td>\n",
       "      <td>4.199995e+01</td>\n",
       "      <td>42</td>\n",
       "    </tr>\n",
       "    <tr>\n",
       "      <th>404</th>\n",
       "      <td>404Coin</td>\n",
       "      <td>Scrypt</td>\n",
       "      <td>PoW/PoS</td>\n",
       "      <td>1.055185e+09</td>\n",
       "      <td>532000000</td>\n",
       "    </tr>\n",
       "    <tr>\n",
       "      <th>808</th>\n",
       "      <td>808</td>\n",
       "      <td>SHA-256</td>\n",
       "      <td>PoW/PoS</td>\n",
       "      <td>0.000000e+00</td>\n",
       "      <td>0</td>\n",
       "    </tr>\n",
       "    <tr>\n",
       "      <th>1337</th>\n",
       "      <td>EliteCoin</td>\n",
       "      <td>X13</td>\n",
       "      <td>PoW/PoS</td>\n",
       "      <td>2.927942e+10</td>\n",
       "      <td>314159265359</td>\n",
       "    </tr>\n",
       "    <tr>\n",
       "      <th>BTC</th>\n",
       "      <td>Bitcoin</td>\n",
       "      <td>SHA-256</td>\n",
       "      <td>PoW</td>\n",
       "      <td>1.792718e+07</td>\n",
       "      <td>21000000</td>\n",
       "    </tr>\n",
       "    <tr>\n",
       "      <th>...</th>\n",
       "      <td>...</td>\n",
       "      <td>...</td>\n",
       "      <td>...</td>\n",
       "      <td>...</td>\n",
       "      <td>...</td>\n",
       "    </tr>\n",
       "    <tr>\n",
       "      <th>ZEPH</th>\n",
       "      <td>ZEPHYR</td>\n",
       "      <td>SHA-256</td>\n",
       "      <td>DPoS</td>\n",
       "      <td>2.000000e+09</td>\n",
       "      <td>2000000000</td>\n",
       "    </tr>\n",
       "    <tr>\n",
       "      <th>GAP</th>\n",
       "      <td>Gapcoin</td>\n",
       "      <td>Scrypt</td>\n",
       "      <td>PoW/PoS</td>\n",
       "      <td>1.493105e+07</td>\n",
       "      <td>250000000</td>\n",
       "    </tr>\n",
       "    <tr>\n",
       "      <th>BDX</th>\n",
       "      <td>Beldex</td>\n",
       "      <td>CryptoNight</td>\n",
       "      <td>PoW</td>\n",
       "      <td>9.802226e+08</td>\n",
       "      <td>1400222610</td>\n",
       "    </tr>\n",
       "    <tr>\n",
       "      <th>ZEN</th>\n",
       "      <td>Horizen</td>\n",
       "      <td>Equihash</td>\n",
       "      <td>PoW</td>\n",
       "      <td>7.296538e+06</td>\n",
       "      <td>21000000</td>\n",
       "    </tr>\n",
       "    <tr>\n",
       "      <th>XBC</th>\n",
       "      <td>BitcoinPlus</td>\n",
       "      <td>Scrypt</td>\n",
       "      <td>PoS</td>\n",
       "      <td>1.283270e+05</td>\n",
       "      <td>1000000</td>\n",
       "    </tr>\n",
       "  </tbody>\n",
       "</table>\n",
       "<p>685 rows × 5 columns</p>\n",
       "</div>"
      ],
      "text/plain": [
       "         CoinName    Algorithm ProofType  TotalCoinsMined TotalCoinSupply\n",
       "42        42 Coin       Scrypt   PoW/PoS     4.199995e+01              42\n",
       "404       404Coin       Scrypt   PoW/PoS     1.055185e+09       532000000\n",
       "808           808      SHA-256   PoW/PoS     0.000000e+00               0\n",
       "1337    EliteCoin          X13   PoW/PoS     2.927942e+10    314159265359\n",
       "BTC       Bitcoin      SHA-256       PoW     1.792718e+07        21000000\n",
       "...           ...          ...       ...              ...             ...\n",
       "ZEPH       ZEPHYR      SHA-256      DPoS     2.000000e+09      2000000000\n",
       "GAP       Gapcoin       Scrypt   PoW/PoS     1.493105e+07       250000000\n",
       "BDX        Beldex  CryptoNight       PoW     9.802226e+08      1400222610\n",
       "ZEN       Horizen     Equihash       PoW     7.296538e+06        21000000\n",
       "XBC   BitcoinPlus       Scrypt       PoS     1.283270e+05         1000000\n",
       "\n",
       "[685 rows x 5 columns]"
      ]
     },
     "execution_count": 117,
     "metadata": {},
     "output_type": "execute_result"
    }
   ],
   "source": [
    "# Remove rows that have at least 1 null value.\n",
    "crypto_df.dropna(inplace=True)\n",
    "crypto_df"
   ]
  },
  {
   "cell_type": "code",
   "execution_count": 118,
   "metadata": {},
   "outputs": [
    {
     "data": {
      "text/html": [
       "<div>\n",
       "<style scoped>\n",
       "    .dataframe tbody tr th:only-of-type {\n",
       "        vertical-align: middle;\n",
       "    }\n",
       "\n",
       "    .dataframe tbody tr th {\n",
       "        vertical-align: top;\n",
       "    }\n",
       "\n",
       "    .dataframe thead th {\n",
       "        text-align: right;\n",
       "    }\n",
       "</style>\n",
       "<table border=\"1\" class=\"dataframe\">\n",
       "  <thead>\n",
       "    <tr style=\"text-align: right;\">\n",
       "      <th></th>\n",
       "      <th>CoinName</th>\n",
       "      <th>Algorithm</th>\n",
       "      <th>ProofType</th>\n",
       "      <th>TotalCoinsMined</th>\n",
       "      <th>TotalCoinSupply</th>\n",
       "    </tr>\n",
       "  </thead>\n",
       "  <tbody>\n",
       "    <tr>\n",
       "      <th>42</th>\n",
       "      <td>42 Coin</td>\n",
       "      <td>Scrypt</td>\n",
       "      <td>PoW/PoS</td>\n",
       "      <td>4.199995e+01</td>\n",
       "      <td>42</td>\n",
       "    </tr>\n",
       "    <tr>\n",
       "      <th>404</th>\n",
       "      <td>404Coin</td>\n",
       "      <td>Scrypt</td>\n",
       "      <td>PoW/PoS</td>\n",
       "      <td>1.055185e+09</td>\n",
       "      <td>532000000</td>\n",
       "    </tr>\n",
       "    <tr>\n",
       "      <th>1337</th>\n",
       "      <td>EliteCoin</td>\n",
       "      <td>X13</td>\n",
       "      <td>PoW/PoS</td>\n",
       "      <td>2.927942e+10</td>\n",
       "      <td>314159265359</td>\n",
       "    </tr>\n",
       "    <tr>\n",
       "      <th>BTC</th>\n",
       "      <td>Bitcoin</td>\n",
       "      <td>SHA-256</td>\n",
       "      <td>PoW</td>\n",
       "      <td>1.792718e+07</td>\n",
       "      <td>21000000</td>\n",
       "    </tr>\n",
       "    <tr>\n",
       "      <th>ETH</th>\n",
       "      <td>Ethereum</td>\n",
       "      <td>Ethash</td>\n",
       "      <td>PoW</td>\n",
       "      <td>1.076842e+08</td>\n",
       "      <td>0</td>\n",
       "    </tr>\n",
       "    <tr>\n",
       "      <th>...</th>\n",
       "      <td>...</td>\n",
       "      <td>...</td>\n",
       "      <td>...</td>\n",
       "      <td>...</td>\n",
       "      <td>...</td>\n",
       "    </tr>\n",
       "    <tr>\n",
       "      <th>ZEPH</th>\n",
       "      <td>ZEPHYR</td>\n",
       "      <td>SHA-256</td>\n",
       "      <td>DPoS</td>\n",
       "      <td>2.000000e+09</td>\n",
       "      <td>2000000000</td>\n",
       "    </tr>\n",
       "    <tr>\n",
       "      <th>GAP</th>\n",
       "      <td>Gapcoin</td>\n",
       "      <td>Scrypt</td>\n",
       "      <td>PoW/PoS</td>\n",
       "      <td>1.493105e+07</td>\n",
       "      <td>250000000</td>\n",
       "    </tr>\n",
       "    <tr>\n",
       "      <th>BDX</th>\n",
       "      <td>Beldex</td>\n",
       "      <td>CryptoNight</td>\n",
       "      <td>PoW</td>\n",
       "      <td>9.802226e+08</td>\n",
       "      <td>1400222610</td>\n",
       "    </tr>\n",
       "    <tr>\n",
       "      <th>ZEN</th>\n",
       "      <td>Horizen</td>\n",
       "      <td>Equihash</td>\n",
       "      <td>PoW</td>\n",
       "      <td>7.296538e+06</td>\n",
       "      <td>21000000</td>\n",
       "    </tr>\n",
       "    <tr>\n",
       "      <th>XBC</th>\n",
       "      <td>BitcoinPlus</td>\n",
       "      <td>Scrypt</td>\n",
       "      <td>PoS</td>\n",
       "      <td>1.283270e+05</td>\n",
       "      <td>1000000</td>\n",
       "    </tr>\n",
       "  </tbody>\n",
       "</table>\n",
       "<p>532 rows × 5 columns</p>\n",
       "</div>"
      ],
      "text/plain": [
       "         CoinName    Algorithm ProofType  TotalCoinsMined TotalCoinSupply\n",
       "42        42 Coin       Scrypt   PoW/PoS     4.199995e+01              42\n",
       "404       404Coin       Scrypt   PoW/PoS     1.055185e+09       532000000\n",
       "1337    EliteCoin          X13   PoW/PoS     2.927942e+10    314159265359\n",
       "BTC       Bitcoin      SHA-256       PoW     1.792718e+07        21000000\n",
       "ETH      Ethereum       Ethash       PoW     1.076842e+08               0\n",
       "...           ...          ...       ...              ...             ...\n",
       "ZEPH       ZEPHYR      SHA-256      DPoS     2.000000e+09      2000000000\n",
       "GAP       Gapcoin       Scrypt   PoW/PoS     1.493105e+07       250000000\n",
       "BDX        Beldex  CryptoNight       PoW     9.802226e+08      1400222610\n",
       "ZEN       Horizen     Equihash       PoW     7.296538e+06        21000000\n",
       "XBC   BitcoinPlus       Scrypt       PoS     1.283270e+05         1000000\n",
       "\n",
       "[532 rows x 5 columns]"
      ]
     },
     "execution_count": 118,
     "metadata": {},
     "output_type": "execute_result"
    }
   ],
   "source": [
    "# Keep the rows where coins are mined.\n",
    "crypto_df = crypto_df[crypto_df['TotalCoinsMined'] > 0]\n",
    "crypto_df"
   ]
  },
  {
   "cell_type": "code",
   "execution_count": 119,
   "metadata": {},
   "outputs": [
    {
     "data": {
      "text/html": [
       "<div>\n",
       "<style scoped>\n",
       "    .dataframe tbody tr th:only-of-type {\n",
       "        vertical-align: middle;\n",
       "    }\n",
       "\n",
       "    .dataframe tbody tr th {\n",
       "        vertical-align: top;\n",
       "    }\n",
       "\n",
       "    .dataframe thead th {\n",
       "        text-align: right;\n",
       "    }\n",
       "</style>\n",
       "<table border=\"1\" class=\"dataframe\">\n",
       "  <thead>\n",
       "    <tr style=\"text-align: right;\">\n",
       "      <th></th>\n",
       "      <th>CoinName</th>\n",
       "    </tr>\n",
       "  </thead>\n",
       "  <tbody>\n",
       "    <tr>\n",
       "      <th>42</th>\n",
       "      <td>42 Coin</td>\n",
       "    </tr>\n",
       "    <tr>\n",
       "      <th>404</th>\n",
       "      <td>404Coin</td>\n",
       "    </tr>\n",
       "    <tr>\n",
       "      <th>1337</th>\n",
       "      <td>EliteCoin</td>\n",
       "    </tr>\n",
       "    <tr>\n",
       "      <th>BTC</th>\n",
       "      <td>Bitcoin</td>\n",
       "    </tr>\n",
       "    <tr>\n",
       "      <th>ETH</th>\n",
       "      <td>Ethereum</td>\n",
       "    </tr>\n",
       "    <tr>\n",
       "      <th>...</th>\n",
       "      <td>...</td>\n",
       "    </tr>\n",
       "    <tr>\n",
       "      <th>ZEPH</th>\n",
       "      <td>ZEPHYR</td>\n",
       "    </tr>\n",
       "    <tr>\n",
       "      <th>GAP</th>\n",
       "      <td>Gapcoin</td>\n",
       "    </tr>\n",
       "    <tr>\n",
       "      <th>BDX</th>\n",
       "      <td>Beldex</td>\n",
       "    </tr>\n",
       "    <tr>\n",
       "      <th>ZEN</th>\n",
       "      <td>Horizen</td>\n",
       "    </tr>\n",
       "    <tr>\n",
       "      <th>XBC</th>\n",
       "      <td>BitcoinPlus</td>\n",
       "    </tr>\n",
       "  </tbody>\n",
       "</table>\n",
       "<p>532 rows × 1 columns</p>\n",
       "</div>"
      ],
      "text/plain": [
       "         CoinName\n",
       "42        42 Coin\n",
       "404       404Coin\n",
       "1337    EliteCoin\n",
       "BTC       Bitcoin\n",
       "ETH      Ethereum\n",
       "...           ...\n",
       "ZEPH       ZEPHYR\n",
       "GAP       Gapcoin\n",
       "BDX        Beldex\n",
       "ZEN       Horizen\n",
       "XBC   BitcoinPlus\n",
       "\n",
       "[532 rows x 1 columns]"
      ]
     },
     "execution_count": 119,
     "metadata": {},
     "output_type": "execute_result"
    }
   ],
   "source": [
    "# Create a new DataFrame that holds only the cryptocurrencies names.\n",
    "names_df = crypto_df[['CoinName']]\n",
    "names_df"
   ]
  },
  {
   "cell_type": "code",
   "execution_count": 120,
   "metadata": {},
   "outputs": [
    {
     "name": "stderr",
     "output_type": "stream",
     "text": [
      "C:\\Users\\gkern\\anaconda3\\envs\\mlenv\\lib\\site-packages\\pandas\\core\\frame.py:3997: SettingWithCopyWarning:\n",
      "\n",
      "\n",
      "A value is trying to be set on a copy of a slice from a DataFrame\n",
      "\n",
      "See the caveats in the documentation: https://pandas.pydata.org/pandas-docs/stable/user_guide/indexing.html#returning-a-view-versus-a-copy\n",
      "\n"
     ]
    },
    {
     "data": {
      "text/html": [
       "<div>\n",
       "<style scoped>\n",
       "    .dataframe tbody tr th:only-of-type {\n",
       "        vertical-align: middle;\n",
       "    }\n",
       "\n",
       "    .dataframe tbody tr th {\n",
       "        vertical-align: top;\n",
       "    }\n",
       "\n",
       "    .dataframe thead th {\n",
       "        text-align: right;\n",
       "    }\n",
       "</style>\n",
       "<table border=\"1\" class=\"dataframe\">\n",
       "  <thead>\n",
       "    <tr style=\"text-align: right;\">\n",
       "      <th></th>\n",
       "      <th>Algorithm</th>\n",
       "      <th>ProofType</th>\n",
       "      <th>TotalCoinsMined</th>\n",
       "      <th>TotalCoinSupply</th>\n",
       "    </tr>\n",
       "  </thead>\n",
       "  <tbody>\n",
       "    <tr>\n",
       "      <th>42</th>\n",
       "      <td>Scrypt</td>\n",
       "      <td>PoW/PoS</td>\n",
       "      <td>4.199995e+01</td>\n",
       "      <td>42</td>\n",
       "    </tr>\n",
       "    <tr>\n",
       "      <th>404</th>\n",
       "      <td>Scrypt</td>\n",
       "      <td>PoW/PoS</td>\n",
       "      <td>1.055185e+09</td>\n",
       "      <td>532000000</td>\n",
       "    </tr>\n",
       "    <tr>\n",
       "      <th>1337</th>\n",
       "      <td>X13</td>\n",
       "      <td>PoW/PoS</td>\n",
       "      <td>2.927942e+10</td>\n",
       "      <td>314159265359</td>\n",
       "    </tr>\n",
       "    <tr>\n",
       "      <th>BTC</th>\n",
       "      <td>SHA-256</td>\n",
       "      <td>PoW</td>\n",
       "      <td>1.792718e+07</td>\n",
       "      <td>21000000</td>\n",
       "    </tr>\n",
       "    <tr>\n",
       "      <th>ETH</th>\n",
       "      <td>Ethash</td>\n",
       "      <td>PoW</td>\n",
       "      <td>1.076842e+08</td>\n",
       "      <td>0</td>\n",
       "    </tr>\n",
       "    <tr>\n",
       "      <th>...</th>\n",
       "      <td>...</td>\n",
       "      <td>...</td>\n",
       "      <td>...</td>\n",
       "      <td>...</td>\n",
       "    </tr>\n",
       "    <tr>\n",
       "      <th>ZEPH</th>\n",
       "      <td>SHA-256</td>\n",
       "      <td>DPoS</td>\n",
       "      <td>2.000000e+09</td>\n",
       "      <td>2000000000</td>\n",
       "    </tr>\n",
       "    <tr>\n",
       "      <th>GAP</th>\n",
       "      <td>Scrypt</td>\n",
       "      <td>PoW/PoS</td>\n",
       "      <td>1.493105e+07</td>\n",
       "      <td>250000000</td>\n",
       "    </tr>\n",
       "    <tr>\n",
       "      <th>BDX</th>\n",
       "      <td>CryptoNight</td>\n",
       "      <td>PoW</td>\n",
       "      <td>9.802226e+08</td>\n",
       "      <td>1400222610</td>\n",
       "    </tr>\n",
       "    <tr>\n",
       "      <th>ZEN</th>\n",
       "      <td>Equihash</td>\n",
       "      <td>PoW</td>\n",
       "      <td>7.296538e+06</td>\n",
       "      <td>21000000</td>\n",
       "    </tr>\n",
       "    <tr>\n",
       "      <th>XBC</th>\n",
       "      <td>Scrypt</td>\n",
       "      <td>PoS</td>\n",
       "      <td>1.283270e+05</td>\n",
       "      <td>1000000</td>\n",
       "    </tr>\n",
       "  </tbody>\n",
       "</table>\n",
       "<p>532 rows × 4 columns</p>\n",
       "</div>"
      ],
      "text/plain": [
       "        Algorithm ProofType  TotalCoinsMined TotalCoinSupply\n",
       "42         Scrypt   PoW/PoS     4.199995e+01              42\n",
       "404        Scrypt   PoW/PoS     1.055185e+09       532000000\n",
       "1337          X13   PoW/PoS     2.927942e+10    314159265359\n",
       "BTC       SHA-256       PoW     1.792718e+07        21000000\n",
       "ETH        Ethash       PoW     1.076842e+08               0\n",
       "...           ...       ...              ...             ...\n",
       "ZEPH      SHA-256      DPoS     2.000000e+09      2000000000\n",
       "GAP        Scrypt   PoW/PoS     1.493105e+07       250000000\n",
       "BDX   CryptoNight       PoW     9.802226e+08      1400222610\n",
       "ZEN      Equihash       PoW     7.296538e+06        21000000\n",
       "XBC        Scrypt       PoS     1.283270e+05         1000000\n",
       "\n",
       "[532 rows x 4 columns]"
      ]
     },
     "execution_count": 120,
     "metadata": {},
     "output_type": "execute_result"
    }
   ],
   "source": [
    "# Drop the 'CoinName' column since it's not going to be used on the clustering algorithm.\n",
    "crypto_df.drop(columns='CoinName', inplace=True)\n",
    "crypto_df"
   ]
  },
  {
   "cell_type": "code",
   "execution_count": 121,
   "metadata": {},
   "outputs": [
    {
     "data": {
      "text/html": [
       "<div>\n",
       "<style scoped>\n",
       "    .dataframe tbody tr th:only-of-type {\n",
       "        vertical-align: middle;\n",
       "    }\n",
       "\n",
       "    .dataframe tbody tr th {\n",
       "        vertical-align: top;\n",
       "    }\n",
       "\n",
       "    .dataframe thead th {\n",
       "        text-align: right;\n",
       "    }\n",
       "</style>\n",
       "<table border=\"1\" class=\"dataframe\">\n",
       "  <thead>\n",
       "    <tr style=\"text-align: right;\">\n",
       "      <th></th>\n",
       "      <th>TotalCoinsMined</th>\n",
       "      <th>TotalCoinSupply</th>\n",
       "      <th>Algorithm_1GB AES Pattern Search</th>\n",
       "      <th>Algorithm_536</th>\n",
       "      <th>Algorithm_Argon2d</th>\n",
       "      <th>Algorithm_BLAKE256</th>\n",
       "      <th>Algorithm_Blake</th>\n",
       "      <th>Algorithm_Blake2S</th>\n",
       "      <th>Algorithm_Blake2b</th>\n",
       "      <th>Algorithm_C11</th>\n",
       "      <th>...</th>\n",
       "      <th>ProofType_PoW/PoS</th>\n",
       "      <th>ProofType_PoW/PoS</th>\n",
       "      <th>ProofType_PoW/PoW</th>\n",
       "      <th>ProofType_PoW/nPoS</th>\n",
       "      <th>ProofType_Pos</th>\n",
       "      <th>ProofType_Proof of Authority</th>\n",
       "      <th>ProofType_Proof of Trust</th>\n",
       "      <th>ProofType_TPoS</th>\n",
       "      <th>ProofType_Zero-Knowledge Proof</th>\n",
       "      <th>ProofType_dPoW/PoW</th>\n",
       "    </tr>\n",
       "  </thead>\n",
       "  <tbody>\n",
       "    <tr>\n",
       "      <th>42</th>\n",
       "      <td>4.199995e+01</td>\n",
       "      <td>42</td>\n",
       "      <td>0</td>\n",
       "      <td>0</td>\n",
       "      <td>0</td>\n",
       "      <td>0</td>\n",
       "      <td>0</td>\n",
       "      <td>0</td>\n",
       "      <td>0</td>\n",
       "      <td>0</td>\n",
       "      <td>...</td>\n",
       "      <td>1</td>\n",
       "      <td>0</td>\n",
       "      <td>0</td>\n",
       "      <td>0</td>\n",
       "      <td>0</td>\n",
       "      <td>0</td>\n",
       "      <td>0</td>\n",
       "      <td>0</td>\n",
       "      <td>0</td>\n",
       "      <td>0</td>\n",
       "    </tr>\n",
       "    <tr>\n",
       "      <th>404</th>\n",
       "      <td>1.055185e+09</td>\n",
       "      <td>532000000</td>\n",
       "      <td>0</td>\n",
       "      <td>0</td>\n",
       "      <td>0</td>\n",
       "      <td>0</td>\n",
       "      <td>0</td>\n",
       "      <td>0</td>\n",
       "      <td>0</td>\n",
       "      <td>0</td>\n",
       "      <td>...</td>\n",
       "      <td>1</td>\n",
       "      <td>0</td>\n",
       "      <td>0</td>\n",
       "      <td>0</td>\n",
       "      <td>0</td>\n",
       "      <td>0</td>\n",
       "      <td>0</td>\n",
       "      <td>0</td>\n",
       "      <td>0</td>\n",
       "      <td>0</td>\n",
       "    </tr>\n",
       "    <tr>\n",
       "      <th>1337</th>\n",
       "      <td>2.927942e+10</td>\n",
       "      <td>314159265359</td>\n",
       "      <td>0</td>\n",
       "      <td>0</td>\n",
       "      <td>0</td>\n",
       "      <td>0</td>\n",
       "      <td>0</td>\n",
       "      <td>0</td>\n",
       "      <td>0</td>\n",
       "      <td>0</td>\n",
       "      <td>...</td>\n",
       "      <td>1</td>\n",
       "      <td>0</td>\n",
       "      <td>0</td>\n",
       "      <td>0</td>\n",
       "      <td>0</td>\n",
       "      <td>0</td>\n",
       "      <td>0</td>\n",
       "      <td>0</td>\n",
       "      <td>0</td>\n",
       "      <td>0</td>\n",
       "    </tr>\n",
       "    <tr>\n",
       "      <th>BTC</th>\n",
       "      <td>1.792718e+07</td>\n",
       "      <td>21000000</td>\n",
       "      <td>0</td>\n",
       "      <td>0</td>\n",
       "      <td>0</td>\n",
       "      <td>0</td>\n",
       "      <td>0</td>\n",
       "      <td>0</td>\n",
       "      <td>0</td>\n",
       "      <td>0</td>\n",
       "      <td>...</td>\n",
       "      <td>0</td>\n",
       "      <td>0</td>\n",
       "      <td>0</td>\n",
       "      <td>0</td>\n",
       "      <td>0</td>\n",
       "      <td>0</td>\n",
       "      <td>0</td>\n",
       "      <td>0</td>\n",
       "      <td>0</td>\n",
       "      <td>0</td>\n",
       "    </tr>\n",
       "    <tr>\n",
       "      <th>ETH</th>\n",
       "      <td>1.076842e+08</td>\n",
       "      <td>0</td>\n",
       "      <td>0</td>\n",
       "      <td>0</td>\n",
       "      <td>0</td>\n",
       "      <td>0</td>\n",
       "      <td>0</td>\n",
       "      <td>0</td>\n",
       "      <td>0</td>\n",
       "      <td>0</td>\n",
       "      <td>...</td>\n",
       "      <td>0</td>\n",
       "      <td>0</td>\n",
       "      <td>0</td>\n",
       "      <td>0</td>\n",
       "      <td>0</td>\n",
       "      <td>0</td>\n",
       "      <td>0</td>\n",
       "      <td>0</td>\n",
       "      <td>0</td>\n",
       "      <td>0</td>\n",
       "    </tr>\n",
       "    <tr>\n",
       "      <th>...</th>\n",
       "      <td>...</td>\n",
       "      <td>...</td>\n",
       "      <td>...</td>\n",
       "      <td>...</td>\n",
       "      <td>...</td>\n",
       "      <td>...</td>\n",
       "      <td>...</td>\n",
       "      <td>...</td>\n",
       "      <td>...</td>\n",
       "      <td>...</td>\n",
       "      <td>...</td>\n",
       "      <td>...</td>\n",
       "      <td>...</td>\n",
       "      <td>...</td>\n",
       "      <td>...</td>\n",
       "      <td>...</td>\n",
       "      <td>...</td>\n",
       "      <td>...</td>\n",
       "      <td>...</td>\n",
       "      <td>...</td>\n",
       "      <td>...</td>\n",
       "    </tr>\n",
       "    <tr>\n",
       "      <th>ZEPH</th>\n",
       "      <td>2.000000e+09</td>\n",
       "      <td>2000000000</td>\n",
       "      <td>0</td>\n",
       "      <td>0</td>\n",
       "      <td>0</td>\n",
       "      <td>0</td>\n",
       "      <td>0</td>\n",
       "      <td>0</td>\n",
       "      <td>0</td>\n",
       "      <td>0</td>\n",
       "      <td>...</td>\n",
       "      <td>0</td>\n",
       "      <td>0</td>\n",
       "      <td>0</td>\n",
       "      <td>0</td>\n",
       "      <td>0</td>\n",
       "      <td>0</td>\n",
       "      <td>0</td>\n",
       "      <td>0</td>\n",
       "      <td>0</td>\n",
       "      <td>0</td>\n",
       "    </tr>\n",
       "    <tr>\n",
       "      <th>GAP</th>\n",
       "      <td>1.493105e+07</td>\n",
       "      <td>250000000</td>\n",
       "      <td>0</td>\n",
       "      <td>0</td>\n",
       "      <td>0</td>\n",
       "      <td>0</td>\n",
       "      <td>0</td>\n",
       "      <td>0</td>\n",
       "      <td>0</td>\n",
       "      <td>0</td>\n",
       "      <td>...</td>\n",
       "      <td>1</td>\n",
       "      <td>0</td>\n",
       "      <td>0</td>\n",
       "      <td>0</td>\n",
       "      <td>0</td>\n",
       "      <td>0</td>\n",
       "      <td>0</td>\n",
       "      <td>0</td>\n",
       "      <td>0</td>\n",
       "      <td>0</td>\n",
       "    </tr>\n",
       "    <tr>\n",
       "      <th>BDX</th>\n",
       "      <td>9.802226e+08</td>\n",
       "      <td>1400222610</td>\n",
       "      <td>0</td>\n",
       "      <td>0</td>\n",
       "      <td>0</td>\n",
       "      <td>0</td>\n",
       "      <td>0</td>\n",
       "      <td>0</td>\n",
       "      <td>0</td>\n",
       "      <td>0</td>\n",
       "      <td>...</td>\n",
       "      <td>0</td>\n",
       "      <td>0</td>\n",
       "      <td>0</td>\n",
       "      <td>0</td>\n",
       "      <td>0</td>\n",
       "      <td>0</td>\n",
       "      <td>0</td>\n",
       "      <td>0</td>\n",
       "      <td>0</td>\n",
       "      <td>0</td>\n",
       "    </tr>\n",
       "    <tr>\n",
       "      <th>ZEN</th>\n",
       "      <td>7.296538e+06</td>\n",
       "      <td>21000000</td>\n",
       "      <td>0</td>\n",
       "      <td>0</td>\n",
       "      <td>0</td>\n",
       "      <td>0</td>\n",
       "      <td>0</td>\n",
       "      <td>0</td>\n",
       "      <td>0</td>\n",
       "      <td>0</td>\n",
       "      <td>...</td>\n",
       "      <td>0</td>\n",
       "      <td>0</td>\n",
       "      <td>0</td>\n",
       "      <td>0</td>\n",
       "      <td>0</td>\n",
       "      <td>0</td>\n",
       "      <td>0</td>\n",
       "      <td>0</td>\n",
       "      <td>0</td>\n",
       "      <td>0</td>\n",
       "    </tr>\n",
       "    <tr>\n",
       "      <th>XBC</th>\n",
       "      <td>1.283270e+05</td>\n",
       "      <td>1000000</td>\n",
       "      <td>0</td>\n",
       "      <td>0</td>\n",
       "      <td>0</td>\n",
       "      <td>0</td>\n",
       "      <td>0</td>\n",
       "      <td>0</td>\n",
       "      <td>0</td>\n",
       "      <td>0</td>\n",
       "      <td>...</td>\n",
       "      <td>0</td>\n",
       "      <td>0</td>\n",
       "      <td>0</td>\n",
       "      <td>0</td>\n",
       "      <td>0</td>\n",
       "      <td>0</td>\n",
       "      <td>0</td>\n",
       "      <td>0</td>\n",
       "      <td>0</td>\n",
       "      <td>0</td>\n",
       "    </tr>\n",
       "  </tbody>\n",
       "</table>\n",
       "<p>532 rows × 98 columns</p>\n",
       "</div>"
      ],
      "text/plain": [
       "      TotalCoinsMined TotalCoinSupply  Algorithm_1GB AES Pattern Search  \\\n",
       "42       4.199995e+01              42                                 0   \n",
       "404      1.055185e+09       532000000                                 0   \n",
       "1337     2.927942e+10    314159265359                                 0   \n",
       "BTC      1.792718e+07        21000000                                 0   \n",
       "ETH      1.076842e+08               0                                 0   \n",
       "...               ...             ...                               ...   \n",
       "ZEPH     2.000000e+09      2000000000                                 0   \n",
       "GAP      1.493105e+07       250000000                                 0   \n",
       "BDX      9.802226e+08      1400222610                                 0   \n",
       "ZEN      7.296538e+06        21000000                                 0   \n",
       "XBC      1.283270e+05         1000000                                 0   \n",
       "\n",
       "      Algorithm_536  Algorithm_Argon2d  Algorithm_BLAKE256  Algorithm_Blake  \\\n",
       "42                0                  0                   0                0   \n",
       "404               0                  0                   0                0   \n",
       "1337              0                  0                   0                0   \n",
       "BTC               0                  0                   0                0   \n",
       "ETH               0                  0                   0                0   \n",
       "...             ...                ...                 ...              ...   \n",
       "ZEPH              0                  0                   0                0   \n",
       "GAP               0                  0                   0                0   \n",
       "BDX               0                  0                   0                0   \n",
       "ZEN               0                  0                   0                0   \n",
       "XBC               0                  0                   0                0   \n",
       "\n",
       "      Algorithm_Blake2S  Algorithm_Blake2b  Algorithm_C11  ...  \\\n",
       "42                    0                  0              0  ...   \n",
       "404                   0                  0              0  ...   \n",
       "1337                  0                  0              0  ...   \n",
       "BTC                   0                  0              0  ...   \n",
       "ETH                   0                  0              0  ...   \n",
       "...                 ...                ...            ...  ...   \n",
       "ZEPH                  0                  0              0  ...   \n",
       "GAP                   0                  0              0  ...   \n",
       "BDX                   0                  0              0  ...   \n",
       "ZEN                   0                  0              0  ...   \n",
       "XBC                   0                  0              0  ...   \n",
       "\n",
       "      ProofType_PoW/PoS  ProofType_PoW/PoS   ProofType_PoW/PoW  \\\n",
       "42                    1                   0                  0   \n",
       "404                   1                   0                  0   \n",
       "1337                  1                   0                  0   \n",
       "BTC                   0                   0                  0   \n",
       "ETH                   0                   0                  0   \n",
       "...                 ...                 ...                ...   \n",
       "ZEPH                  0                   0                  0   \n",
       "GAP                   1                   0                  0   \n",
       "BDX                   0                   0                  0   \n",
       "ZEN                   0                   0                  0   \n",
       "XBC                   0                   0                  0   \n",
       "\n",
       "      ProofType_PoW/nPoS  ProofType_Pos  ProofType_Proof of Authority  \\\n",
       "42                     0              0                             0   \n",
       "404                    0              0                             0   \n",
       "1337                   0              0                             0   \n",
       "BTC                    0              0                             0   \n",
       "ETH                    0              0                             0   \n",
       "...                  ...            ...                           ...   \n",
       "ZEPH                   0              0                             0   \n",
       "GAP                    0              0                             0   \n",
       "BDX                    0              0                             0   \n",
       "ZEN                    0              0                             0   \n",
       "XBC                    0              0                             0   \n",
       "\n",
       "      ProofType_Proof of Trust  ProofType_TPoS  \\\n",
       "42                           0               0   \n",
       "404                          0               0   \n",
       "1337                         0               0   \n",
       "BTC                          0               0   \n",
       "ETH                          0               0   \n",
       "...                        ...             ...   \n",
       "ZEPH                         0               0   \n",
       "GAP                          0               0   \n",
       "BDX                          0               0   \n",
       "ZEN                          0               0   \n",
       "XBC                          0               0   \n",
       "\n",
       "      ProofType_Zero-Knowledge Proof  ProofType_dPoW/PoW  \n",
       "42                                 0                   0  \n",
       "404                                0                   0  \n",
       "1337                               0                   0  \n",
       "BTC                                0                   0  \n",
       "ETH                                0                   0  \n",
       "...                              ...                 ...  \n",
       "ZEPH                               0                   0  \n",
       "GAP                                0                   0  \n",
       "BDX                                0                   0  \n",
       "ZEN                                0                   0  \n",
       "XBC                                0                   0  \n",
       "\n",
       "[532 rows x 98 columns]"
      ]
     },
     "execution_count": 121,
     "metadata": {},
     "output_type": "execute_result"
    }
   ],
   "source": [
    "# Use get_dummies() to create variables for text features.\n",
    "X = pd.get_dummies(crypto_df, columns=['Algorithm', 'ProofType'])\n",
    "X"
   ]
  },
  {
   "cell_type": "code",
   "execution_count": 122,
   "metadata": {},
   "outputs": [
    {
     "name": "stdout",
     "output_type": "stream",
     "text": [
      "[[-0.11710817 -0.1528703  -0.0433963  -0.0433963  -0.0433963  -0.06142951\n",
      "  -0.07530656 -0.0433963  -0.06142951 -0.06142951 -0.0433963  -0.0433963\n",
      "  -0.19245009 -0.06142951 -0.09740465 -0.0433963  -0.11547005 -0.07530656\n",
      "  -0.0433963  -0.0433963  -0.15191091 -0.0433963  -0.13118084 -0.0433963\n",
      "  -0.0433963  -0.08703883 -0.0433963  -0.0433963  -0.0433963  -0.0433963\n",
      "  -0.06142951 -0.0433963  -0.08703883 -0.08703883 -0.08703883 -0.0433963\n",
      "  -0.13118084 -0.13840913 -0.13840913 -0.0433963  -0.06142951 -0.0433963\n",
      "  -0.07530656 -0.18168574 -0.0433963  -0.0433963  -0.0433963  -0.07530656\n",
      "  -0.15826614 -0.31491833 -0.0433963  -0.08703883 -0.07530656 -0.06142951\n",
      "   1.38675049 -0.0433963  -0.0433963  -0.06142951 -0.0433963  -0.0433963\n",
      "  -0.0433963  -0.0433963  -0.0433963  -0.0433963  -0.0433963  -0.0433963\n",
      "  -0.39879994 -0.0433963  -0.18168574 -0.0433963  -0.08703883 -0.08703883\n",
      "  -0.10680283 -0.0433963  -0.13118084 -0.0433963  -0.0433963  -0.0433963\n",
      "  -0.0433963  -0.07530656 -0.43911856 -0.0433963  -0.06142951 -0.0433963\n",
      "  -0.0433963  -0.89632016 -0.0433963  -0.0433963   1.42222617 -0.0433963\n",
      "  -0.0433963  -0.0433963  -0.0433963  -0.0433963  -0.0433963  -0.0433963\n",
      "  -0.0433963  -0.0433963 ]\n",
      " [-0.09396955 -0.145009   -0.0433963  -0.0433963  -0.0433963  -0.06142951\n",
      "  -0.07530656 -0.0433963  -0.06142951 -0.06142951 -0.0433963  -0.0433963\n",
      "  -0.19245009 -0.06142951 -0.09740465 -0.0433963  -0.11547005 -0.07530656\n",
      "  -0.0433963  -0.0433963  -0.15191091 -0.0433963  -0.13118084 -0.0433963\n",
      "  -0.0433963  -0.08703883 -0.0433963  -0.0433963  -0.0433963  -0.0433963\n",
      "  -0.06142951 -0.0433963  -0.08703883 -0.08703883 -0.08703883 -0.0433963\n",
      "  -0.13118084 -0.13840913 -0.13840913 -0.0433963  -0.06142951 -0.0433963\n",
      "  -0.07530656 -0.18168574 -0.0433963  -0.0433963  -0.0433963  -0.07530656\n",
      "  -0.15826614 -0.31491833 -0.0433963  -0.08703883 -0.07530656 -0.06142951\n",
      "   1.38675049 -0.0433963  -0.0433963  -0.06142951 -0.0433963  -0.0433963\n",
      "  -0.0433963  -0.0433963  -0.0433963  -0.0433963  -0.0433963  -0.0433963\n",
      "  -0.39879994 -0.0433963  -0.18168574 -0.0433963  -0.08703883 -0.08703883\n",
      "  -0.10680283 -0.0433963  -0.13118084 -0.0433963  -0.0433963  -0.0433963\n",
      "  -0.0433963  -0.07530656 -0.43911856 -0.0433963  -0.06142951 -0.0433963\n",
      "  -0.0433963  -0.89632016 -0.0433963  -0.0433963   1.42222617 -0.0433963\n",
      "  -0.0433963  -0.0433963  -0.0433963  -0.0433963  -0.0433963  -0.0433963\n",
      "  -0.0433963  -0.0433963 ]\n",
      " [ 0.52494561  4.48942416 -0.0433963  -0.0433963  -0.0433963  -0.06142951\n",
      "  -0.07530656 -0.0433963  -0.06142951 -0.06142951 -0.0433963  -0.0433963\n",
      "  -0.19245009 -0.06142951 -0.09740465 -0.0433963  -0.11547005 -0.07530656\n",
      "  -0.0433963  -0.0433963  -0.15191091 -0.0433963  -0.13118084 -0.0433963\n",
      "  -0.0433963  -0.08703883 -0.0433963  -0.0433963  -0.0433963  -0.0433963\n",
      "  -0.06142951 -0.0433963  -0.08703883 -0.08703883 -0.08703883 -0.0433963\n",
      "  -0.13118084 -0.13840913 -0.13840913 -0.0433963  -0.06142951 -0.0433963\n",
      "  -0.07530656 -0.18168574 -0.0433963  -0.0433963  -0.0433963  -0.07530656\n",
      "  -0.15826614 -0.31491833 -0.0433963  -0.08703883 -0.07530656 -0.06142951\n",
      "  -0.72111026 -0.0433963  -0.0433963  -0.06142951 -0.0433963  -0.0433963\n",
      "  -0.0433963  -0.0433963  -0.0433963  -0.0433963  -0.0433963  -0.0433963\n",
      "  -0.39879994 -0.0433963   5.50400923 -0.0433963  -0.08703883 -0.08703883\n",
      "  -0.10680283 -0.0433963  -0.13118084 -0.0433963  -0.0433963  -0.0433963\n",
      "  -0.0433963  -0.07530656 -0.43911856 -0.0433963  -0.06142951 -0.0433963\n",
      "  -0.0433963  -0.89632016 -0.0433963  -0.0433963   1.42222617 -0.0433963\n",
      "  -0.0433963  -0.0433963  -0.0433963  -0.0433963  -0.0433963  -0.0433963\n",
      "  -0.0433963  -0.0433963 ]\n",
      " [-0.11671506 -0.15255998 -0.0433963  -0.0433963  -0.0433963  -0.06142951\n",
      "  -0.07530656 -0.0433963  -0.06142951 -0.06142951 -0.0433963  -0.0433963\n",
      "  -0.19245009 -0.06142951 -0.09740465 -0.0433963  -0.11547005 -0.07530656\n",
      "  -0.0433963  -0.0433963  -0.15191091 -0.0433963  -0.13118084 -0.0433963\n",
      "  -0.0433963  -0.08703883 -0.0433963  -0.0433963  -0.0433963  -0.0433963\n",
      "  -0.06142951 -0.0433963  -0.08703883 -0.08703883 -0.08703883 -0.0433963\n",
      "  -0.13118084 -0.13840913 -0.13840913 -0.0433963  -0.06142951 -0.0433963\n",
      "  -0.07530656 -0.18168574 -0.0433963  -0.0433963  -0.0433963  -0.07530656\n",
      "  -0.15826614  3.17542648 -0.0433963  -0.08703883 -0.07530656 -0.06142951\n",
      "  -0.72111026 -0.0433963  -0.0433963  -0.06142951 -0.0433963  -0.0433963\n",
      "  -0.0433963  -0.0433963  -0.0433963  -0.0433963  -0.0433963  -0.0433963\n",
      "  -0.39879994 -0.0433963  -0.18168574 -0.0433963  -0.08703883 -0.08703883\n",
      "  -0.10680283 -0.0433963  -0.13118084 -0.0433963  -0.0433963  -0.0433963\n",
      "  -0.0433963  -0.07530656 -0.43911856 -0.0433963  -0.06142951 -0.0433963\n",
      "  -0.0433963   1.11567277 -0.0433963  -0.0433963  -0.70312305 -0.0433963\n",
      "  -0.0433963  -0.0433963  -0.0433963  -0.0433963  -0.0433963  -0.0433963\n",
      "  -0.0433963  -0.0433963 ]\n",
      " [-0.11474682 -0.1528703  -0.0433963  -0.0433963  -0.0433963  -0.06142951\n",
      "  -0.07530656 -0.0433963  -0.06142951 -0.06142951 -0.0433963  -0.0433963\n",
      "  -0.19245009 -0.06142951 -0.09740465 -0.0433963  -0.11547005 -0.07530656\n",
      "  -0.0433963  -0.0433963  -0.15191091 -0.0433963   7.62306442 -0.0433963\n",
      "  -0.0433963  -0.08703883 -0.0433963  -0.0433963  -0.0433963  -0.0433963\n",
      "  -0.06142951 -0.0433963  -0.08703883 -0.08703883 -0.08703883 -0.0433963\n",
      "  -0.13118084 -0.13840913 -0.13840913 -0.0433963  -0.06142951 -0.0433963\n",
      "  -0.07530656 -0.18168574 -0.0433963  -0.0433963  -0.0433963  -0.07530656\n",
      "  -0.15826614 -0.31491833 -0.0433963  -0.08703883 -0.07530656 -0.06142951\n",
      "  -0.72111026 -0.0433963  -0.0433963  -0.06142951 -0.0433963  -0.0433963\n",
      "  -0.0433963  -0.0433963  -0.0433963  -0.0433963  -0.0433963  -0.0433963\n",
      "  -0.39879994 -0.0433963  -0.18168574 -0.0433963  -0.08703883 -0.08703883\n",
      "  -0.10680283 -0.0433963  -0.13118084 -0.0433963  -0.0433963  -0.0433963\n",
      "  -0.0433963  -0.07530656 -0.43911856 -0.0433963  -0.06142951 -0.0433963\n",
      "  -0.0433963   1.11567277 -0.0433963  -0.0433963  -0.70312305 -0.0433963\n",
      "  -0.0433963  -0.0433963  -0.0433963  -0.0433963  -0.0433963  -0.0433963\n",
      "  -0.0433963  -0.0433963 ]]\n"
     ]
    }
   ],
   "source": [
    "# Standardize the data with StandardScaler().\n",
    "crypto_scaled = StandardScaler().fit_transform(X)\n",
    "print(crypto_scaled[0:5])"
   ]
  },
  {
   "cell_type": "markdown",
   "metadata": {},
   "source": [
    "### Deliverable 2: Reducing Data Dimensions Using PCA"
   ]
  },
  {
   "cell_type": "code",
   "execution_count": 123,
   "metadata": {},
   "outputs": [
    {
     "data": {
      "text/plain": [
       "array([[-0.33636551,  1.06650131, -0.56905521],\n",
       "       [-0.31972918,  1.06672796, -0.56940435],\n",
       "       [ 2.29841488,  1.64331104, -0.61089214],\n",
       "       ...,\n",
       "       [ 0.3253382 , -2.30969297,  0.44817292],\n",
       "       [-0.15351363, -2.07865459,  0.51055507],\n",
       "       [-0.2932343 ,  0.88145093, -0.29836715]])"
      ]
     },
     "execution_count": 123,
     "metadata": {},
     "output_type": "execute_result"
    }
   ],
   "source": [
    "# Using PCA to reduce dimension to three principal components.\n",
    "# Initialize PCA model\n",
    "pca = PCA(n_components=3)\n",
    "# Get three principal components\n",
    "crypto_pca = pca.fit_transform(crypto_scaled)\n",
    "crypto_pca"
   ]
  },
  {
   "cell_type": "code",
   "execution_count": 124,
   "metadata": {},
   "outputs": [
    {
     "data": {
      "text/html": [
       "<div>\n",
       "<style scoped>\n",
       "    .dataframe tbody tr th:only-of-type {\n",
       "        vertical-align: middle;\n",
       "    }\n",
       "\n",
       "    .dataframe tbody tr th {\n",
       "        vertical-align: top;\n",
       "    }\n",
       "\n",
       "    .dataframe thead th {\n",
       "        text-align: right;\n",
       "    }\n",
       "</style>\n",
       "<table border=\"1\" class=\"dataframe\">\n",
       "  <thead>\n",
       "    <tr style=\"text-align: right;\">\n",
       "      <th></th>\n",
       "      <th>PC 1</th>\n",
       "      <th>PC 2</th>\n",
       "      <th>PC 3</th>\n",
       "    </tr>\n",
       "  </thead>\n",
       "  <tbody>\n",
       "    <tr>\n",
       "      <th>42</th>\n",
       "      <td>-0.336366</td>\n",
       "      <td>1.066501</td>\n",
       "      <td>-0.569055</td>\n",
       "    </tr>\n",
       "    <tr>\n",
       "      <th>404</th>\n",
       "      <td>-0.319729</td>\n",
       "      <td>1.066728</td>\n",
       "      <td>-0.569404</td>\n",
       "    </tr>\n",
       "    <tr>\n",
       "      <th>1337</th>\n",
       "      <td>2.298415</td>\n",
       "      <td>1.643311</td>\n",
       "      <td>-0.610892</td>\n",
       "    </tr>\n",
       "    <tr>\n",
       "      <th>BTC</th>\n",
       "      <td>-0.144037</td>\n",
       "      <td>-1.383333</td>\n",
       "      <td>0.194194</td>\n",
       "    </tr>\n",
       "    <tr>\n",
       "      <th>ETH</th>\n",
       "      <td>-0.150393</td>\n",
       "      <td>-2.053297</td>\n",
       "      <td>0.357178</td>\n",
       "    </tr>\n",
       "    <tr>\n",
       "      <th>...</th>\n",
       "      <td>...</td>\n",
       "      <td>...</td>\n",
       "      <td>...</td>\n",
       "    </tr>\n",
       "    <tr>\n",
       "      <th>ZEPH</th>\n",
       "      <td>2.493080</td>\n",
       "      <td>0.699544</td>\n",
       "      <td>-0.302396</td>\n",
       "    </tr>\n",
       "    <tr>\n",
       "      <th>GAP</th>\n",
       "      <td>-0.334415</td>\n",
       "      <td>1.066398</td>\n",
       "      <td>-0.569061</td>\n",
       "    </tr>\n",
       "    <tr>\n",
       "      <th>BDX</th>\n",
       "      <td>0.325338</td>\n",
       "      <td>-2.309693</td>\n",
       "      <td>0.448173</td>\n",
       "    </tr>\n",
       "    <tr>\n",
       "      <th>ZEN</th>\n",
       "      <td>-0.153514</td>\n",
       "      <td>-2.078655</td>\n",
       "      <td>0.510555</td>\n",
       "    </tr>\n",
       "    <tr>\n",
       "      <th>XBC</th>\n",
       "      <td>-0.293234</td>\n",
       "      <td>0.881451</td>\n",
       "      <td>-0.298367</td>\n",
       "    </tr>\n",
       "  </tbody>\n",
       "</table>\n",
       "<p>532 rows × 3 columns</p>\n",
       "</div>"
      ],
      "text/plain": [
       "          PC 1      PC 2      PC 3\n",
       "42   -0.336366  1.066501 -0.569055\n",
       "404  -0.319729  1.066728 -0.569404\n",
       "1337  2.298415  1.643311 -0.610892\n",
       "BTC  -0.144037 -1.383333  0.194194\n",
       "ETH  -0.150393 -2.053297  0.357178\n",
       "...        ...       ...       ...\n",
       "ZEPH  2.493080  0.699544 -0.302396\n",
       "GAP  -0.334415  1.066398 -0.569061\n",
       "BDX   0.325338 -2.309693  0.448173\n",
       "ZEN  -0.153514 -2.078655  0.510555\n",
       "XBC  -0.293234  0.881451 -0.298367\n",
       "\n",
       "[532 rows x 3 columns]"
      ]
     },
     "execution_count": 124,
     "metadata": {},
     "output_type": "execute_result"
    }
   ],
   "source": [
    "# Create a DataFrame with the three principal components.\n",
    "pcs_df = pd.DataFrame(data=crypto_pca, columns=['PC 1', 'PC 2', 'PC 3'], index=df_crypto.index)\n",
    "pcs_df"
   ]
  },
  {
   "cell_type": "markdown",
   "metadata": {},
   "source": [
    "### Deliverable 3: Clustering Crytocurrencies Using K-Means\n",
    "\n",
    "#### Finding the Best Value for `k` Using the Elbow Curve"
   ]
  },
  {
   "cell_type": "code",
   "execution_count": 125,
   "metadata": {},
   "outputs": [
    {
     "data": {},
     "metadata": {},
     "output_type": "display_data"
    },
    {
     "data": {
      "application/vnd.holoviews_exec.v0+json": "",
      "text/html": [
       "<div id='1677'>\n",
       "\n",
       "\n",
       "\n",
       "\n",
       "\n",
       "  <div class=\"bk-root\" id=\"d09e9a75-ed65-4c8c-bf49-f18c9f215c90\" data-root-id=\"1677\"></div>\n",
       "</div>\n",
       "<script type=\"application/javascript\">(function(root) {\n",
       "  function embed_document(root) {\n",
       "  var docs_json = {\"c9062695-eae9-4b5c-9c9f-e2d048ca58ef\":{\"roots\":{\"references\":[{\"attributes\":{\"data\":{\"inertia\":{\"__ndarray__\":\"wzLPUZ5wrEDGL7DBbVajQL/PLB9iLZdAbvsm1tt9f0B/fkBTaqd0QOtrZBivcnBAKkUuLUwvaUCeCQ1kk55jQOY9vsevoGBARjEo2Ws1WkA=\",\"dtype\":\"float64\",\"order\":\"little\",\"shape\":[10]},\"k\":[1,2,3,4,5,6,7,8,9,10]},\"selected\":{\"id\":\"1713\"},\"selection_policy\":{\"id\":\"1733\"}},\"id\":\"1712\",\"type\":\"ColumnDataSource\"},{\"attributes\":{\"end\":10.0,\"reset_end\":10.0,\"reset_start\":1.0,\"start\":1.0,\"tags\":[[[\"k\",\"k\",null]]]},\"id\":\"1679\",\"type\":\"Range1d\"},{\"attributes\":{\"line_color\":\"#1f77b3\",\"line_width\":2,\"x\":{\"field\":\"k\"},\"y\":{\"field\":\"inertia\"}},\"id\":\"1715\",\"type\":\"Line\"},{\"attributes\":{\"active_drag\":\"auto\",\"active_inspect\":\"auto\",\"active_multi\":null,\"active_scroll\":\"auto\",\"active_tap\":\"auto\",\"tools\":[{\"id\":\"1681\"},{\"id\":\"1699\"},{\"id\":\"1700\"},{\"id\":\"1701\"},{\"id\":\"1702\"},{\"id\":\"1703\"}]},\"id\":\"1705\",\"type\":\"Toolbar\"},{\"attributes\":{\"end\":3993.8566689429435,\"reset_end\":3993.8566689429435,\"reset_start\":-248.71274350101393,\"start\":-248.71274350101393,\"tags\":[[[\"inertia\",\"inertia\",null]]]},\"id\":\"1680\",\"type\":\"Range1d\"},{\"attributes\":{},\"id\":\"1699\",\"type\":\"SaveTool\"},{\"attributes\":{\"children\":[{\"id\":\"1678\"},{\"id\":\"1682\"},{\"id\":\"1741\"}],\"margin\":[0,0,0,0],\"name\":\"Row02982\",\"tags\":[\"embedded\"]},\"id\":\"1677\",\"type\":\"Row\"},{\"attributes\":{\"margin\":[5,5,5,5],\"name\":\"HSpacer02987\",\"sizing_mode\":\"stretch_width\"},\"id\":\"1741\",\"type\":\"Spacer\"},{\"attributes\":{\"callback\":null,\"renderers\":[{\"id\":\"1718\"}],\"tags\":[\"hv_created\"],\"tooltips\":[[\"k\",\"@{k}\"],[\"inertia\",\"@{inertia}\"]]},\"id\":\"1681\",\"type\":\"HoverTool\"},{\"attributes\":{\"overlay\":{\"id\":\"1704\"}},\"id\":\"1702\",\"type\":\"BoxZoomTool\"},{\"attributes\":{\"bottom_units\":\"screen\",\"fill_alpha\":0.5,\"fill_color\":\"lightgrey\",\"left_units\":\"screen\",\"level\":\"overlay\",\"line_alpha\":1.0,\"line_color\":\"black\",\"line_dash\":[4,4],\"line_width\":2,\"right_units\":\"screen\",\"top_units\":\"screen\"},\"id\":\"1704\",\"type\":\"BoxAnnotation\"},{\"attributes\":{\"data_source\":{\"id\":\"1712\"},\"glyph\":{\"id\":\"1715\"},\"hover_glyph\":null,\"muted_glyph\":{\"id\":\"1717\"},\"nonselection_glyph\":{\"id\":\"1716\"},\"selection_glyph\":null,\"view\":{\"id\":\"1719\"}},\"id\":\"1718\",\"type\":\"GlyphRenderer\"},{\"attributes\":{},\"id\":\"1733\",\"type\":\"UnionRenderers\"},{\"attributes\":{\"axis_label\":\"inertia\",\"bounds\":\"auto\",\"formatter\":{\"id\":\"1726\"},\"major_label_orientation\":\"horizontal\",\"ticker\":{\"id\":\"1696\"}},\"id\":\"1695\",\"type\":\"LinearAxis\"},{\"attributes\":{\"axis\":{\"id\":\"1695\"},\"dimension\":1,\"grid_line_color\":null,\"ticker\":null},\"id\":\"1698\",\"type\":\"Grid\"},{\"attributes\":{},\"id\":\"1700\",\"type\":\"PanTool\"},{\"attributes\":{\"line_alpha\":0.1,\"line_color\":\"#1f77b3\",\"line_width\":2,\"x\":{\"field\":\"k\"},\"y\":{\"field\":\"inertia\"}},\"id\":\"1716\",\"type\":\"Line\"},{\"attributes\":{\"line_alpha\":0.2,\"line_color\":\"#1f77b3\",\"line_width\":2,\"x\":{\"field\":\"k\"},\"y\":{\"field\":\"inertia\"}},\"id\":\"1717\",\"type\":\"Line\"},{\"attributes\":{},\"id\":\"1703\",\"type\":\"ResetTool\"},{\"attributes\":{\"below\":[{\"id\":\"1691\"}],\"center\":[{\"id\":\"1694\"},{\"id\":\"1698\"}],\"left\":[{\"id\":\"1695\"}],\"margin\":null,\"min_border_bottom\":10,\"min_border_left\":10,\"min_border_right\":10,\"min_border_top\":10,\"plot_height\":300,\"plot_width\":700,\"renderers\":[{\"id\":\"1718\"}],\"sizing_mode\":\"fixed\",\"title\":{\"id\":\"1683\"},\"toolbar\":{\"id\":\"1705\"},\"x_range\":{\"id\":\"1679\"},\"x_scale\":{\"id\":\"1687\"},\"y_range\":{\"id\":\"1680\"},\"y_scale\":{\"id\":\"1689\"}},\"id\":\"1682\",\"subtype\":\"Figure\",\"type\":\"Plot\"},{\"attributes\":{\"ticks\":[1,2,3,4,5,6,7,8,9,10]},\"id\":\"1720\",\"type\":\"FixedTicker\"},{\"attributes\":{},\"id\":\"1696\",\"type\":\"BasicTicker\"},{\"attributes\":{},\"id\":\"1689\",\"type\":\"LinearScale\"},{\"attributes\":{},\"id\":\"1722\",\"type\":\"BasicTickFormatter\"},{\"attributes\":{},\"id\":\"1713\",\"type\":\"Selection\"},{\"attributes\":{},\"id\":\"1726\",\"type\":\"BasicTickFormatter\"},{\"attributes\":{\"axis_label\":\"k\",\"bounds\":\"auto\",\"formatter\":{\"id\":\"1722\"},\"major_label_orientation\":\"horizontal\",\"ticker\":{\"id\":\"1720\"}},\"id\":\"1691\",\"type\":\"LinearAxis\"},{\"attributes\":{\"text\":\"Elbow Curve\",\"text_color\":{\"value\":\"black\"},\"text_font_size\":{\"value\":\"12pt\"}},\"id\":\"1683\",\"type\":\"Title\"},{\"attributes\":{\"margin\":[5,5,5,5],\"name\":\"HSpacer02986\",\"sizing_mode\":\"stretch_width\"},\"id\":\"1678\",\"type\":\"Spacer\"},{\"attributes\":{},\"id\":\"1687\",\"type\":\"LinearScale\"},{\"attributes\":{\"axis\":{\"id\":\"1691\"},\"grid_line_color\":null,\"ticker\":null},\"id\":\"1694\",\"type\":\"Grid\"},{\"attributes\":{},\"id\":\"1701\",\"type\":\"WheelZoomTool\"},{\"attributes\":{\"source\":{\"id\":\"1712\"}},\"id\":\"1719\",\"type\":\"CDSView\"}],\"root_ids\":[\"1677\"]},\"title\":\"Bokeh Application\",\"version\":\"2.1.1\"}};\n",
       "  var render_items = [{\"docid\":\"c9062695-eae9-4b5c-9c9f-e2d048ca58ef\",\"root_ids\":[\"1677\"],\"roots\":{\"1677\":\"d09e9a75-ed65-4c8c-bf49-f18c9f215c90\"}}];\n",
       "  root.Bokeh.embed.embed_items_notebook(docs_json, render_items);\n",
       "  }\n",
       "if (root.Bokeh !== undefined) {\n",
       "    embed_document(root);\n",
       "  } else {\n",
       "    var attempts = 0;\n",
       "    var timer = setInterval(function(root) {\n",
       "      if (root.Bokeh !== undefined) {\n",
       "        clearInterval(timer);\n",
       "        embed_document(root);\n",
       "      } else if (document.readyState == \"complete\") {\n",
       "        attempts++;\n",
       "        if (attempts > 100) {\n",
       "          clearInterval(timer);\n",
       "          console.log(\"Bokeh: ERROR: Unable to run BokehJS code because BokehJS library is missing\");\n",
       "        }\n",
       "      }\n",
       "    }, 10, root)\n",
       "  }\n",
       "})(window);</script>"
      ],
      "text/plain": [
       ":Curve   [k]   (inertia)"
      ]
     },
     "execution_count": 125,
     "metadata": {
      "application/vnd.holoviews_exec.v0+json": {
       "id": "1677"
      }
     },
     "output_type": "execute_result"
    }
   ],
   "source": [
    "# Create an elbow curve to find the best value for K.\n",
    "inertia = []\n",
    "k = list(range(1, 11))\n",
    "# Looking for the best K\n",
    "for i in k:\n",
    "    km = KMeans(n_clusters=i, random_state=0)\n",
    "    km.fit(pcs_df)\n",
    "    inertia.append(km.inertia_)\n",
    "\n",
    "# Define a DataFrame to plot the Elbow Curve using hvPlot\n",
    "elbow_data = {\"k\": k, \"inertia\": inertia}\n",
    "df_elbow = pd.DataFrame(elbow_data)\n",
    "df_elbow.hvplot.line(x=\"k\", y=\"inertia\", title=\"Elbow Curve\", xticks=k)\n"
   ]
  },
  {
   "cell_type": "markdown",
   "metadata": {},
   "source": [
    "Running K-Means with `k=4`"
   ]
  },
  {
   "cell_type": "code",
   "execution_count": 126,
   "metadata": {},
   "outputs": [
    {
     "name": "stdout",
     "output_type": "stream",
     "text": [
      "[1 1 1 0 0 0 1 0 0 0 1 0 1 1 0 1 0 0 1 1 0 0 0 0 0 1 0 0 0 1 0 1 0 0 1 1 0\n",
      " 0 0 0 0 0 1 1 0 0 0 0 0 1 1 0 1 0 0 0 0 1 0 0 1 0 1 1 1 0 0 0 1 1 1 1 1 0\n",
      " 0 0 1 1 0 1 0 1 1 0 0 0 0 1 1 0 1 0 0 1 1 0 1 1 0 0 1 1 0 1 1 0 1 0 1 0 1\n",
      " 0 1 1 0 0 1 0 0 0 1 0 0 0 0 0 1 1 0 0 0 1 0 1 0 0 1 0 1 0 1 1 0 0 1 0 0 1\n",
      " 1 0 1 0 1 1 1 0 0 0 0 1 1 1 1 1 0 0 1 1 1 1 1 0 1 1 1 1 1 0 1 0 1 1 0 1 0\n",
      " 1 1 0 1 0 1 0 1 0 1 1 1 1 0 1 1 1 1 1 0 0 1 1 0 0 1 1 1 1 1 0 1 1 1 1 1 1\n",
      " 1 1 0 1 1 1 1 1 1 0 0 0 1 1 1 1 0 1 0 1 1 0 1 0 0 1 0 0 1 0 1 1 1 0 1 1 0\n",
      " 1 1 1 1 1 1 1 0 1 0 1 1 1 1 0 1 0 1 0 0 0 0 1 0 1 1 0 1 0 0 0 1 0 1 0 0 0\n",
      " 1 0 1 0 1 1 3 0 1 0 0 0 0 0 1 1 0 1 1 1 0 1 0 1 0 1 0 1 1 1 1 0 1 1 0 1 1\n",
      " 1 0 0 0 0 1 1 1 1 0 1 0 0 0 1 1 0 0 1 1 0 1 0 0 0 1 0 0 1 1 1 0 0 0 1 1 1\n",
      " 0 0 1 0 0 0 0 1 3 3 0 0 0 1 3 1 1 1 1 0 0 0 0 1 1 1 0 1 0 1 1 1 1 0 1 1 0\n",
      " 1 1 0 0 1 0 1 0 0 0 0 1 1 0 1 0 1 1 1 1 1 1 0 0 0 1 1 1 1 1 1 0 1 0 0 0 0\n",
      " 1 1 1 1 0 1 1 0 1 1 0 3 0 1 0 0 1 1 0 1 0 0 0 0 0 1 0 1 0 1 1 0 1 1 1 1 1\n",
      " 0 0 0 1 1 1 0 1 0 1 0 1 1 1 1 0 1 1 1 0 1 0 1 0 1 1 1 0 0 1 1 1 1 1 1 0 1\n",
      " 0 1 0 1 1 3 1 2 1 1 1 0 0 1]\n"
     ]
    }
   ],
   "source": [
    "# Initialize the K-Means model.\n",
    "model = KMeans(n_clusters=4, random_state=0)\n",
    "\n",
    "# Fit the model\n",
    "model.fit(pcs_df)\n",
    "\n",
    "# Predict clusters\n",
    "predictions = model.predict(pcs_df)\n",
    "print(predictions)"
   ]
  },
  {
   "cell_type": "code",
   "execution_count": 127,
   "metadata": {},
   "outputs": [
    {
     "name": "stdout",
     "output_type": "stream",
     "text": [
      "(532, 9)\n"
     ]
    },
    {
     "data": {
      "text/html": [
       "<div>\n",
       "<style scoped>\n",
       "    .dataframe tbody tr th:only-of-type {\n",
       "        vertical-align: middle;\n",
       "    }\n",
       "\n",
       "    .dataframe tbody tr th {\n",
       "        vertical-align: top;\n",
       "    }\n",
       "\n",
       "    .dataframe thead th {\n",
       "        text-align: right;\n",
       "    }\n",
       "</style>\n",
       "<table border=\"1\" class=\"dataframe\">\n",
       "  <thead>\n",
       "    <tr style=\"text-align: right;\">\n",
       "      <th></th>\n",
       "      <th>Algorithm</th>\n",
       "      <th>ProofType</th>\n",
       "      <th>TotalCoinsMined</th>\n",
       "      <th>TotalCoinSupply</th>\n",
       "      <th>PC 1</th>\n",
       "      <th>PC 2</th>\n",
       "      <th>PC 3</th>\n",
       "      <th>CoinName</th>\n",
       "      <th>Class</th>\n",
       "    </tr>\n",
       "  </thead>\n",
       "  <tbody>\n",
       "    <tr>\n",
       "      <th>42</th>\n",
       "      <td>Scrypt</td>\n",
       "      <td>PoW/PoS</td>\n",
       "      <td>4.199995e+01</td>\n",
       "      <td>42</td>\n",
       "      <td>-0.336366</td>\n",
       "      <td>1.066501</td>\n",
       "      <td>-0.569055</td>\n",
       "      <td>42 Coin</td>\n",
       "      <td>1</td>\n",
       "    </tr>\n",
       "    <tr>\n",
       "      <th>404</th>\n",
       "      <td>Scrypt</td>\n",
       "      <td>PoW/PoS</td>\n",
       "      <td>1.055185e+09</td>\n",
       "      <td>532000000</td>\n",
       "      <td>-0.319729</td>\n",
       "      <td>1.066728</td>\n",
       "      <td>-0.569404</td>\n",
       "      <td>404Coin</td>\n",
       "      <td>1</td>\n",
       "    </tr>\n",
       "    <tr>\n",
       "      <th>1337</th>\n",
       "      <td>X13</td>\n",
       "      <td>PoW/PoS</td>\n",
       "      <td>2.927942e+10</td>\n",
       "      <td>314159265359</td>\n",
       "      <td>2.298415</td>\n",
       "      <td>1.643311</td>\n",
       "      <td>-0.610892</td>\n",
       "      <td>EliteCoin</td>\n",
       "      <td>1</td>\n",
       "    </tr>\n",
       "    <tr>\n",
       "      <th>BTC</th>\n",
       "      <td>SHA-256</td>\n",
       "      <td>PoW</td>\n",
       "      <td>1.792718e+07</td>\n",
       "      <td>21000000</td>\n",
       "      <td>-0.144037</td>\n",
       "      <td>-1.383333</td>\n",
       "      <td>0.194194</td>\n",
       "      <td>Bitcoin</td>\n",
       "      <td>0</td>\n",
       "    </tr>\n",
       "    <tr>\n",
       "      <th>ETH</th>\n",
       "      <td>Ethash</td>\n",
       "      <td>PoW</td>\n",
       "      <td>1.076842e+08</td>\n",
       "      <td>0</td>\n",
       "      <td>-0.150393</td>\n",
       "      <td>-2.053297</td>\n",
       "      <td>0.357178</td>\n",
       "      <td>Ethereum</td>\n",
       "      <td>0</td>\n",
       "    </tr>\n",
       "    <tr>\n",
       "      <th>LTC</th>\n",
       "      <td>Scrypt</td>\n",
       "      <td>PoW</td>\n",
       "      <td>6.303924e+07</td>\n",
       "      <td>84000000</td>\n",
       "      <td>-0.167182</td>\n",
       "      <td>-1.078600</td>\n",
       "      <td>-0.023204</td>\n",
       "      <td>Litecoin</td>\n",
       "      <td>0</td>\n",
       "    </tr>\n",
       "    <tr>\n",
       "      <th>DASH</th>\n",
       "      <td>X11</td>\n",
       "      <td>PoW/PoS</td>\n",
       "      <td>9.031294e+06</td>\n",
       "      <td>22000000</td>\n",
       "      <td>-0.392864</td>\n",
       "      <td>1.193750</td>\n",
       "      <td>-0.478096</td>\n",
       "      <td>Dash</td>\n",
       "      <td>1</td>\n",
       "    </tr>\n",
       "    <tr>\n",
       "      <th>XMR</th>\n",
       "      <td>CryptoNight-V7</td>\n",
       "      <td>PoW</td>\n",
       "      <td>1.720114e+07</td>\n",
       "      <td>0</td>\n",
       "      <td>-0.148307</td>\n",
       "      <td>-2.232801</td>\n",
       "      <td>0.386191</td>\n",
       "      <td>Monero</td>\n",
       "      <td>0</td>\n",
       "    </tr>\n",
       "    <tr>\n",
       "      <th>ETC</th>\n",
       "      <td>Ethash</td>\n",
       "      <td>PoW</td>\n",
       "      <td>1.133597e+08</td>\n",
       "      <td>210000000</td>\n",
       "      <td>-0.148839</td>\n",
       "      <td>-2.053387</td>\n",
       "      <td>0.357176</td>\n",
       "      <td>Ethereum Classic</td>\n",
       "      <td>0</td>\n",
       "    </tr>\n",
       "    <tr>\n",
       "      <th>ZEC</th>\n",
       "      <td>Equihash</td>\n",
       "      <td>PoW</td>\n",
       "      <td>7.383056e+06</td>\n",
       "      <td>21000000</td>\n",
       "      <td>-0.153513</td>\n",
       "      <td>-2.078655</td>\n",
       "      <td>0.510555</td>\n",
       "      <td>ZCash</td>\n",
       "      <td>0</td>\n",
       "    </tr>\n",
       "  </tbody>\n",
       "</table>\n",
       "</div>"
      ],
      "text/plain": [
       "           Algorithm ProofType  TotalCoinsMined TotalCoinSupply      PC 1  \\\n",
       "42            Scrypt   PoW/PoS     4.199995e+01              42 -0.336366   \n",
       "404           Scrypt   PoW/PoS     1.055185e+09       532000000 -0.319729   \n",
       "1337             X13   PoW/PoS     2.927942e+10    314159265359  2.298415   \n",
       "BTC          SHA-256       PoW     1.792718e+07        21000000 -0.144037   \n",
       "ETH           Ethash       PoW     1.076842e+08               0 -0.150393   \n",
       "LTC           Scrypt       PoW     6.303924e+07        84000000 -0.167182   \n",
       "DASH             X11   PoW/PoS     9.031294e+06        22000000 -0.392864   \n",
       "XMR   CryptoNight-V7       PoW     1.720114e+07               0 -0.148307   \n",
       "ETC           Ethash       PoW     1.133597e+08       210000000 -0.148839   \n",
       "ZEC         Equihash       PoW     7.383056e+06        21000000 -0.153513   \n",
       "\n",
       "          PC 2      PC 3          CoinName  Class  \n",
       "42    1.066501 -0.569055           42 Coin      1  \n",
       "404   1.066728 -0.569404           404Coin      1  \n",
       "1337  1.643311 -0.610892         EliteCoin      1  \n",
       "BTC  -1.383333  0.194194           Bitcoin      0  \n",
       "ETH  -2.053297  0.357178          Ethereum      0  \n",
       "LTC  -1.078600 -0.023204          Litecoin      0  \n",
       "DASH  1.193750 -0.478096              Dash      1  \n",
       "XMR  -2.232801  0.386191            Monero      0  \n",
       "ETC  -2.053387  0.357176  Ethereum Classic      0  \n",
       "ZEC  -2.078655  0.510555             ZCash      0  "
      ]
     },
     "execution_count": 127,
     "metadata": {},
     "output_type": "execute_result"
    }
   ],
   "source": [
    "# Create a new DataFrame including predicted clusters and cryptocurrencies features.\n",
    "# Concatentate the crypto_df and pcs_df DataFrames on the same columns.\n",
    "clustered_df = pd.concat([df_crypto, pcs_df], axis=1)\n",
    "\n",
    "#  Add a new column, \"CoinName\" to the clustered_df DataFrame that holds the names of the cryptocurrencies. \n",
    "clustered_df['CoinName'] = df_names\n",
    "\n",
    "#  Add a new column, \"Class\" to the clustered_df DataFrame that holds the predictions.\n",
    "clustered_df['Class'] = model.labels_\n",
    "\n",
    "# Print the shape of the clustered_df\n",
    "print(clustered_df.shape)\n",
    "clustered_df.head(10)"
   ]
  },
  {
   "cell_type": "markdown",
   "metadata": {},
   "source": [
    "### Deliverable 4: Visualizing Cryptocurrencies Results\n",
    "\n",
    "#### 3D-Scatter with Clusters"
   ]
  },
  {
   "cell_type": "code",
   "execution_count": 134,
   "metadata": {},
   "outputs": [
    {
     "data": {
      "application/vnd.plotly.v1+json": {
       "config": {
        "plotlyServerURL": "https://plot.ly"
       },
       "data": [
        {
         "customdata": [
          [
           "Scrypt"
          ],
          [
           "Scrypt"
          ],
          [
           "X13"
          ],
          [
           "X11"
          ],
          [
           "SHA-512"
          ],
          [
           "SHA-256"
          ],
          [
           "SHA-256"
          ],
          [
           "X15"
          ],
          [
           "Scrypt"
          ],
          [
           "Scrypt"
          ],
          [
           "Scrypt"
          ],
          [
           "Scrypt"
          ],
          [
           "Scrypt"
          ],
          [
           "Scrypt"
          ],
          [
           "Groestl"
          ],
          [
           "PoS"
          ],
          [
           "Scrypt"
          ],
          [
           "Scrypt"
          ],
          [
           "X11"
          ],
          [
           "X11"
          ],
          [
           "SHA3"
          ],
          [
           "Scrypt"
          ],
          [
           "SHA-256"
          ],
          [
           "Scrypt"
          ],
          [
           "X13"
          ],
          [
           "X13"
          ],
          [
           "NeoScrypt"
          ],
          [
           "Scrypt"
          ],
          [
           "Scrypt"
          ],
          [
           "Scrypt"
          ],
          [
           "X11"
          ],
          [
           "X11"
          ],
          [
           "Multiple"
          ],
          [
           "PHI1612"
          ],
          [
           "X11"
          ],
          [
           "Scrypt"
          ],
          [
           "Scrypt"
          ],
          [
           "Scrypt"
          ],
          [
           "X11"
          ],
          [
           "Multiple"
          ],
          [
           "X13"
          ],
          [
           "Scrypt"
          ],
          [
           "Shabal256"
          ],
          [
           "Counterparty"
          ],
          [
           "SHA-256"
          ],
          [
           "Groestl"
          ],
          [
           "Scrypt"
          ],
          [
           "X13"
          ],
          [
           "Scrypt"
          ],
          [
           "Scrypt"
          ],
          [
           "X13"
          ],
          [
           "X11"
          ],
          [
           "Scrypt"
          ],
          [
           "X11"
          ],
          [
           "SHA3"
          ],
          [
           "QUAIT"
          ],
          [
           "X11"
          ],
          [
           "Scrypt"
          ],
          [
           "X13"
          ],
          [
           "SHA-256"
          ],
          [
           "X15"
          ],
          [
           "BLAKE256"
          ],
          [
           "SHA-256"
          ],
          [
           "X11"
          ],
          [
           "SHA-256"
          ],
          [
           "NIST5"
          ],
          [
           "Scrypt"
          ],
          [
           "Scrypt"
          ],
          [
           "X11"
          ],
          [
           "Scrypt"
          ],
          [
           "SHA-256"
          ],
          [
           "Scrypt"
          ],
          [
           "PoS"
          ],
          [
           "X11"
          ],
          [
           "SHA-256"
          ],
          [
           "SHA-256"
          ],
          [
           "NIST5"
          ],
          [
           "X11"
          ],
          [
           "POS 3.0"
          ],
          [
           "Scrypt"
          ],
          [
           "Scrypt"
          ],
          [
           "Scrypt"
          ],
          [
           "X13"
          ],
          [
           "X11"
          ],
          [
           "X11"
          ],
          [
           "Scrypt"
          ],
          [
           "SHA-256"
          ],
          [
           "X11"
          ],
          [
           "Scrypt"
          ],
          [
           "Scrypt"
          ],
          [
           "Scrypt"
          ],
          [
           "Scrypt"
          ],
          [
           "SHA-256D"
          ],
          [
           "PoS"
          ],
          [
           "Scrypt"
          ],
          [
           "X11"
          ],
          [
           "PoS"
          ],
          [
           "X13"
          ],
          [
           "X14"
          ],
          [
           "PoS"
          ],
          [
           "SHA-256D"
          ],
          [
           "DPoS"
          ],
          [
           "X11"
          ],
          [
           "X13"
          ],
          [
           "X11"
          ],
          [
           "PoS"
          ],
          [
           "Scrypt"
          ],
          [
           "Scrypt"
          ],
          [
           "PoS"
          ],
          [
           "X11"
          ],
          [
           "SHA-256"
          ],
          [
           "Scrypt"
          ],
          [
           "X11"
          ],
          [
           "Scrypt"
          ],
          [
           "Scrypt"
          ],
          [
           "X11"
          ],
          [
           "Scrypt"
          ],
          [
           "Scrypt"
          ],
          [
           "Scrypt"
          ],
          [
           "Scrypt"
          ],
          [
           "Quark"
          ],
          [
           "QuBit"
          ],
          [
           "Scrypt"
          ],
          [
           "SHA-256"
          ],
          [
           "X11"
          ],
          [
           "Scrypt"
          ],
          [
           "Scrypt"
          ],
          [
           "Scrypt"
          ],
          [
           "Scrypt"
          ],
          [
           "X13"
          ],
          [
           "Scrypt"
          ],
          [
           "Scrypt"
          ],
          [
           "X11"
          ],
          [
           "Blake2S"
          ],
          [
           "X11"
          ],
          [
           "PoS"
          ],
          [
           "X11"
          ],
          [
           "PoS"
          ],
          [
           "X11"
          ],
          [
           "Scrypt"
          ],
          [
           "Scrypt"
          ],
          [
           "Scrypt"
          ],
          [
           "SHA-256"
          ],
          [
           "X11"
          ],
          [
           "Scrypt"
          ],
          [
           "PoS"
          ],
          [
           "Scrypt"
          ],
          [
           "X15"
          ],
          [
           "SHA-256"
          ],
          [
           "POS 3.0"
          ],
          [
           "536"
          ],
          [
           "NIST5"
          ],
          [
           "NIST5"
          ],
          [
           "Skein"
          ],
          [
           "X13"
          ],
          [
           "Scrypt"
          ],
          [
           "X13"
          ],
          [
           "SkunkHash v2 Raptor"
          ],
          [
           "Skein"
          ],
          [
           "X11"
          ],
          [
           "Scrypt"
          ],
          [
           "PoS"
          ],
          [
           "Scrypt"
          ],
          [
           "Scrypt"
          ],
          [
           "SHA-512"
          ],
          [
           "Ouroboros"
          ],
          [
           "X11"
          ],
          [
           "NeoScrypt"
          ],
          [
           "Scrypt"
          ],
          [
           "Lyra2REv2"
          ],
          [
           "Scrypt"
          ],
          [
           "SHA-256"
          ],
          [
           "NIST5"
          ],
          [
           "PHI1612"
          ],
          [
           "Scrypt"
          ],
          [
           "Quark"
          ],
          [
           "POS 2.0"
          ],
          [
           "Scrypt"
          ],
          [
           "SHA-256"
          ],
          [
           "X11"
          ],
          [
           "DPoS"
          ],
          [
           "NIST5"
          ],
          [
           "X13"
          ],
          [
           "Scrypt"
          ],
          [
           "NIST5"
          ],
          [
           "Quark"
          ],
          [
           "Scrypt"
          ],
          [
           "Scrypt"
          ],
          [
           "X11"
          ],
          [
           "Quark"
          ],
          [
           "Scrypt"
          ],
          [
           "Scrypt"
          ],
          [
           "X11"
          ],
          [
           "POS 3.0"
          ],
          [
           "Ethash"
          ],
          [
           "Scrypt"
          ],
          [
           "Scrypt"
          ],
          [
           "X13"
          ],
          [
           "C11"
          ],
          [
           "X11"
          ],
          [
           "XEVAN"
          ],
          [
           "Scrypt"
          ],
          [
           "VBFT"
          ],
          [
           "NIST5"
          ],
          [
           "Scrypt"
          ],
          [
           "Scrypt"
          ],
          [
           "Scrypt"
          ],
          [
           "Green Protocol"
          ],
          [
           "PoS"
          ],
          [
           "Scrypt"
          ],
          [
           "Semux BFT consensus"
          ],
          [
           "Quark"
          ],
          [
           "PoS"
          ],
          [
           "X16R"
          ],
          [
           "Scrypt"
          ],
          [
           "XEVAN"
          ],
          [
           "Scrypt"
          ],
          [
           "Scrypt"
          ],
          [
           "Scrypt"
          ],
          [
           "SHA-256D"
          ],
          [
           "Scrypt"
          ],
          [
           "X15"
          ],
          [
           "Scrypt"
          ],
          [
           "Quark"
          ],
          [
           "SHA-256"
          ],
          [
           "DPoS"
          ],
          [
           "X16R"
          ],
          [
           "Quark"
          ],
          [
           "Quark"
          ],
          [
           "Scrypt"
          ],
          [
           "Lyra2REv2"
          ],
          [
           "Quark"
          ],
          [
           "Scrypt"
          ],
          [
           "X11"
          ],
          [
           "X11"
          ],
          [
           "Scrypt"
          ],
          [
           "PoS"
          ],
          [
           "Keccak"
          ],
          [
           "X11"
          ],
          [
           "Scrypt"
          ],
          [
           "SHA-512"
          ],
          [
           "XEVAN"
          ],
          [
           "XEVAN"
          ],
          [
           "X11"
          ],
          [
           "Quark"
          ],
          [
           "Scrypt"
          ],
          [
           "Quark"
          ],
          [
           "Quark"
          ],
          [
           "Scrypt"
          ],
          [
           "X11"
          ],
          [
           "Scrypt"
          ],
          [
           "XEVAN"
          ],
          [
           "SHA-256D"
          ],
          [
           "X11"
          ],
          [
           "X11"
          ],
          [
           "DPoS"
          ],
          [
           "Scrypt"
          ],
          [
           "X11"
          ],
          [
           "Scrypt"
          ],
          [
           "Scrypt"
          ],
          [
           "SHA-256"
          ],
          [
           "Scrypt"
          ],
          [
           "X11"
          ],
          [
           "Scrypt"
          ],
          [
           "SHA-256"
          ],
          [
           "X11"
          ],
          [
           "Scrypt"
          ],
          [
           "Scrypt"
          ],
          [
           "X11"
          ],
          [
           "Scrypt"
          ],
          [
           "PoS"
          ],
          [
           "X11"
          ],
          [
           "SHA-256"
          ],
          [
           "DPoS"
          ],
          [
           "Scrypt"
          ],
          [
           "Scrypt"
          ],
          [
           "NeoScrypt"
          ],
          [
           "X13"
          ],
          [
           "DPoS"
          ],
          [
           "DPoS"
          ],
          [
           "SHA-256"
          ],
          [
           "PoS"
          ],
          [
           "PoS"
          ],
          [
           "SHA-256"
          ],
          [
           "Scrypt"
          ],
          [
           "Scrypt"
          ]
         ],
         "hovertemplate": "<b>%{hovertext}</b><br><br>Class=%{marker.color}<br>PC 1=%{x}<br>PC 2=%{y}<br>PC 3=%{z}<br>Algorithm=%{customdata[0]}<extra></extra>",
         "hovertext": [
          "42 Coin",
          "404Coin",
          "EliteCoin",
          "Dash",
          "Bitshares",
          "BitcoinDark",
          "PayCoin",
          "KoboCoin",
          "Aurora Coin",
          "BlueCoin",
          "EnergyCoin",
          "BitBar",
          "CryptoBullion",
          "CasinoCoin",
          "Diamond",
          "Exclusive Coin",
          "FlutterCoin",
          "HoboNickels",
          "HyperStake",
          "IOCoin",
          "MaxCoin",
          "MintCoin",
          "MazaCoin",
          "Nautilus Coin",
          "NavCoin",
          "OpalCoin",
          "Orbitcoin",
          "PotCoin",
          "PhoenixCoin",
          "Reddcoin",
          "SuperCoin",
          "SyncCoin",
          "TeslaCoin",
          "TittieCoin",
          "TorCoin",
          "UnitaryStatus Dollar",
          "UltraCoin",
          "VeriCoin",
          "X11 Coin",
          "Crypti",
          "StealthCoin",
          "ZCC Coin",
          "BurstCoin",
          "StorjCoin",
          "Neutron",
          "FairCoin",
          "RubyCoin",
          "Kore",
          "Dnotes",
          "8BIT Coin",
          "Sativa Coin",
          "Ucoin",
          "Vtorrent",
          "IslaCoin",
          "Nexus",
          "Droidz",
          "Squall Coin",
          "Diggits",
          "Paycon",
          "Emercoin",
          "EverGreenCoin",
          "Decred",
          "EDRCoin",
          "Hitcoin",
          "DubaiCoin",
          "PWR Coin",
          "BillaryCoin",
          "GPU Coin",
          "EuropeCoin",
          "ZeitCoin",
          "SwingCoin",
          "SafeExchangeCoin",
          "Nebuchadnezzar",
          "Ratecoin",
          "Revenu",
          "Clockcoin",
          "VIP Tokens",
          "BitSend",
          "Let it Ride",
          "PutinCoin",
          "iBankCoin",
          "Frankywillcoin",
          "MudraCoin",
          "Lutetium Coin",
          "GoldBlocks",
          "CarterCoin",
          "BitTokens",
          "MustangCoin",
          "ZoneCoin",
          "RootCoin",
          "BitCurrency",
          "Swiscoin",
          "BuzzCoin",
          "Opair",
          "PesoBit",
          "Halloween Coin",
          "CoffeeCoin",
          "RoyalCoin",
          "GanjaCoin V2",
          "TeamUP",
          "LanaCoin",
          "ARK",
          "InsaneCoin",
          "EmberCoin",
          "XenixCoin",
          "FreeCoin",
          "PLNCoin",
          "AquariusCoin",
          "Creatio",
          "Eternity",
          "Eurocoin",
          "BitcoinFast",
          "Stakenet",
          "BitConnect Coin",
          "MoneyCoin",
          "Enigma",
          "Russiacoin",
          "PandaCoin",
          "GameUnits",
          "GAKHcoin",
          "Allsafe",
          "LiteCreed",
          "Klingon Empire Darsek",
          "Internet of People",
          "KushCoin",
          "Printerium",
          "Impeach",
          "Zilbercoin",
          "FirstCoin",
          "FindCoin",
          "OpenChat",
          "RenosCoin",
          "VirtacoinPlus",
          "TajCoin",
          "Impact",
          "Atmos",
          "HappyCoin",
          "MacronCoin",
          "Condensate",
          "Independent Money System",
          "ArgusCoin",
          "LomoCoin",
          "ProCurrency",
          "GoldReserve",
          "GrowthCoin",
          "Phreak",
          "Degas Coin",
          "HTML5 Coin",
          "Ultimate Secure Cash",
          "QTUM",
          "Espers",
          "Denarius",
          "Virta Unique Coin",
          "Bitcoin Planet",
          "BritCoin",
          "Linda",
          "DeepOnion",
          "Signatum",
          "Cream",
          "Monoeci",
          "Draftcoin",
          "Stakecoin",
          "CoinonatX",
          "Ethereum Dark",
          "Obsidian",
          "Cardano",
          "Regalcoin",
          "TrezarCoin",
          "TerraNovaCoin",
          "Rupee",
          "WomenCoin",
          "Theresa May Coin",
          "NamoCoin",
          "LUXCoin",
          "Xios",
          "Bitcloud 2.0",
          "KekCoin",
          "BlackholeCoin",
          "Infinity Economics",
          "Magnet",
          "Lamden Tau",
          "Electra",
          "Bitcoin Diamond",
          "Cash & Back Coin",
          "Bulwark",
          "Kalkulus",
          "GermanCoin",
          "LiteCoin Ultra",
          "PhantomX",
          "Digiwage",
          "Trollcoin",
          "Litecoin Plus",
          "Monkey Project",
          "TokenPay",
          "1717 Masonic Commemorative Token",
          "My Big Coin",
          "Unified Society USDEX",
          "Tokyo Coin",
          "Stipend",
          "Pushi",
          "Ellerium",
          "Velox",
          "Ontology",
          "Bitspace",
          "Briacoin",
          "Ignition",
          "MedicCoin",
          "Bitcoin Green",
          "Deviant Coin",
          "Abjcoin",
          "Semux",
          "Carebit",
          "Zealium",
          "Proton",
          "iDealCash",
          "Bitcoin Incognito",
          "HollyWoodCoin",
          "Swisscoin",
          "Xt3ch",
          "TheVig",
          "EmaratCoin",
          "Dekado",
          "Lynx",
          "Poseidon Quark",
          "BitcoinWSpectrum",
          "Muse",
          "Trivechain",
          "Dystem",
          "Giant",
          "Peony Coin",
          "Absolute Coin",
          "Vitae",
          "TPCash",
          "ARENON",
          "EUNO",
          "MMOCoin",
          "Ketan",
          "XDNA",
          "PAXEX",
          "ThunderStake",
          "Kcash",
          "Bettex coin",
          "BitMoney",
          "Junson Ming Chan Coin",
          "HerbCoin",
          "Oduwa",
          "Galilel",
          "Crypto Sports",
          "Credit",
          "Dash Platinum",
          "Nasdacoin",
          "Beetle Coin",
          "Titan Coin",
          "Award",
          "Insane Coin",
          "ALAX",
          "LiteDoge",
          "TruckCoin",
          "OrangeCoin",
          "BitstarCoin",
          "NeosCoin",
          "HyperCoin",
          "PinkCoin",
          "AudioCoin",
          "IncaKoin",
          "Piggy Coin",
          "Genstake",
          "XiaoMiCoin",
          "CapriCoin",
          " ClubCoin",
          "Radium",
          "Creditbit ",
          "OKCash",
          "Lisk",
          "HiCoin",
          "WhiteCoin",
          "FriendshipCoin",
          "Triangles Coin",
          "EOS",
          "Oxycoin",
          "TigerCash",
          "Particl",
          "Nxt",
          "ZEPHYR",
          "Gapcoin",
          "BitcoinPlus"
         ],
         "legendgroup": "1",
         "marker": {
          "color": [
           1,
           1,
           1,
           1,
           1,
           1,
           1,
           1,
           1,
           1,
           1,
           1,
           1,
           1,
           1,
           1,
           1,
           1,
           1,
           1,
           1,
           1,
           1,
           1,
           1,
           1,
           1,
           1,
           1,
           1,
           1,
           1,
           1,
           1,
           1,
           1,
           1,
           1,
           1,
           1,
           1,
           1,
           1,
           1,
           1,
           1,
           1,
           1,
           1,
           1,
           1,
           1,
           1,
           1,
           1,
           1,
           1,
           1,
           1,
           1,
           1,
           1,
           1,
           1,
           1,
           1,
           1,
           1,
           1,
           1,
           1,
           1,
           1,
           1,
           1,
           1,
           1,
           1,
           1,
           1,
           1,
           1,
           1,
           1,
           1,
           1,
           1,
           1,
           1,
           1,
           1,
           1,
           1,
           1,
           1,
           1,
           1,
           1,
           1,
           1,
           1,
           1,
           1,
           1,
           1,
           1,
           1,
           1,
           1,
           1,
           1,
           1,
           1,
           1,
           1,
           1,
           1,
           1,
           1,
           1,
           1,
           1,
           1,
           1,
           1,
           1,
           1,
           1,
           1,
           1,
           1,
           1,
           1,
           1,
           1,
           1,
           1,
           1,
           1,
           1,
           1,
           1,
           1,
           1,
           1,
           1,
           1,
           1,
           1,
           1,
           1,
           1,
           1,
           1,
           1,
           1,
           1,
           1,
           1,
           1,
           1,
           1,
           1,
           1,
           1,
           1,
           1,
           1,
           1,
           1,
           1,
           1,
           1,
           1,
           1,
           1,
           1,
           1,
           1,
           1,
           1,
           1,
           1,
           1,
           1,
           1,
           1,
           1,
           1,
           1,
           1,
           1,
           1,
           1,
           1,
           1,
           1,
           1,
           1,
           1,
           1,
           1,
           1,
           1,
           1,
           1,
           1,
           1,
           1,
           1,
           1,
           1,
           1,
           1,
           1,
           1,
           1,
           1,
           1,
           1,
           1,
           1,
           1,
           1,
           1,
           1,
           1,
           1,
           1,
           1,
           1,
           1,
           1,
           1,
           1,
           1,
           1,
           1,
           1,
           1,
           1,
           1,
           1,
           1,
           1,
           1,
           1,
           1,
           1,
           1,
           1,
           1,
           1,
           1,
           1,
           1,
           1,
           1,
           1,
           1,
           1,
           1,
           1,
           1,
           1,
           1,
           1,
           1,
           1,
           1,
           1,
           1,
           1,
           1,
           1,
           1,
           1,
           1,
           1,
           1,
           1,
           1,
           1,
           1,
           1,
           1
          ],
          "coloraxis": "coloraxis",
          "symbol": "circle"
         },
         "mode": "markers",
         "name": "1",
         "scene": "scene",
         "showlegend": true,
         "type": "scatter3d",
         "x": [
          -0.3363655129815999,
          -0.319729178849877,
          2.2984148796925647,
          -0.3928636325966567,
          -0.29267136928485754,
          -0.3120524454777994,
          -0.26886645602696074,
          -0.23851812783303342,
          -0.3360256486236545,
          -0.32861355602986897,
          -0.3348641890276945,
          -0.33636145727358696,
          -0.3363457627931686,
          0.6866627406334977,
          -0.37190209115840117,
          -0.35470052844971556,
          -0.2837191407167389,
          -0.33442759230509284,
          -0.329529483531194,
          -0.3927584761380355,
          -0.4070972190393742,
          -0.03346421044940445,
          -0.275421820677643,
          -0.2929310856355831,
          -0.2803797460345572,
          -0.281001083825376,
          -0.34553751620218665,
          -0.33067779429799055,
          -0.3347699713323772,
          0.021274541046739284,
          -0.34938824740989477,
          -0.3931294206536499,
          -0.2481314176150556,
          -0.31255757705492954,
          -0.39304123274196073,
          -0.31164006284744594,
          -0.33504524867488783,
          -0.29324389089520236,
          -0.39300573660189636,
          -0.24859801435923037,
          -0.2807822540560626,
          -0.3274859582429667,
          0.07387477440282213,
          -0.3519720692307862,
          -0.31126548793367864,
          -0.3713244426234364,
          -0.29291129388928056,
          -0.28107642348574186,
          -0.2875752494809801,
          -0.33634760662482427,
          -0.2810286661389635,
          -0.3498325665300702,
          -0.33608245759879884,
          -0.3931109754073364,
          -0.39585928093146233,
          -0.41416215741356127,
          -0.37274709084546054,
          -0.2913155567300036,
          -0.28055116813295305,
          -0.304624360447968,
          -0.24095457816741367,
          -0.0796175733969983,
          -0.3120234001548351,
          -0.07116005754952681,
          -0.31208694934669884,
          -0.23118937664616798,
          -0.33595861892499995,
          -0.29118537540531286,
          -0.3902860131112004,
          0.85813202338142,
          -0.3118874359977647,
          -0.04289859981133236,
          -0.3543843431806,
          -0.3909573577489414,
          -0.310633630528932,
          -0.3083066037685774,
          -0.35237852845219425,
          -0.3918486167566779,
          -0.35546513012897,
          -0.3122978119779078,
          -0.3359966746467735,
          -0.3344381349965638,
          -0.23658758489741671,
          -0.33734398514012226,
          -0.3925858618512283,
          -0.33520223801630905,
          -0.3120679792515038,
          -0.3931001967713268,
          -0.3361854580126192,
          -0.33634184779806736,
          -0.29117388947890677,
          -0.24933369343601358,
          0.032849975414365844,
          -0.3533431462000283,
          -0.33595654499610145,
          -0.37928926729459883,
          -0.3526725595710275,
          -0.23801522124375282,
          -0.40579637334066815,
          -0.3524231255556365,
          -0.2811745320473801,
          3.7666975392724082,
          -0.3926934422071995,
          0.8495484339414312,
          -0.3930551738835929,
          -0.3538061295422395,
          -0.3358843896656718,
          -0.3360385165442953,
          -0.3543843431806,
          -0.39263094898121237,
          -0.3119308396287301,
          -0.33588509740812683,
          -0.37581125759074824,
          -0.33603225722232977,
          -0.33162951293534854,
          -0.39308413275249726,
          -0.33524463263981547,
          0.3492806094484517,
          -0.33623118094938864,
          -0.33630160597704134,
          -0.3562527361163284,
          -0.3561382759111035,
          -0.33253608209539876,
          -0.31204442597756504,
          -0.3929942316481315,
          -0.33607981019862077,
          -0.3362065949839045,
          -0.29281820377325274,
          -0.2887318824182702,
          -0.23778345919615076,
          -0.3170917258457473,
          -0.29255959640197277,
          -0.39226144853284883,
          -0.4127280940704195,
          -0.39100163489313805,
          -0.35263379372936715,
          -0.39215947675581636,
          -0.3470429631474649,
          -0.38810810229528875,
          -0.33614995741927556,
          -0.33614918466563215,
          -0.3292852895161558,
          0.2626847358632774,
          -0.3926369920267834,
          -0.27549413326098704,
          -0.35441863828211145,
          -0.3353621609909415,
          0.8913918804875272,
          -0.2675596186036088,
          -0.35424551718361724,
          0.577744763605301,
          -0.3539116357866304,
          -0.3524164994194904,
          -0.4102346671532592,
          -0.2807142990710973,
          0.12768582227632477,
          -0.2807849179939677,
          -0.3445080459854859,
          -0.40974024601683073,
          -0.39290884569520057,
          -0.29289211813666777,
          -0.3542852544673923,
          -0.33578579673989506,
          -0.33628456388172834,
          -0.35063699618581673,
          0.657444403292675,
          -0.3928498418656744,
          -0.34054569928636397,
          -0.33624029765342045,
          -0.31821238962660486,
          0.43167685471966694,
          -0.3103933986688265,
          -0.3387056345002839,
          -0.39121670368453043,
          -0.3361907317075572,
          -0.3978202440670199,
          -0.351317061849876,
          -0.3360612821434968,
          -0.09563713024552392,
          -0.39164475816372574,
          3.7715449149051454,
          0.2046505430928394,
          -0.2774613668922032,
          -0.3335260658785624,
          -0.3105530098075069,
          -0.35613882415609555,
          0.07725935894606462,
          -0.3352016812494145,
          -0.3922246256535282,
          -0.3553052194282867,
          -0.3227885231445045,
          -0.336306663404102,
          -0.34980454021554197,
          -0.3557466102363411,
          -0.27637324842860644,
          -0.29513569383356947,
          -0.33185927150299727,
          -0.2295945391591034,
          -0.36577122758226505,
          -0.39292614221454764,
          -0.3368573948372751,
          -0.29205379853759256,
          -0.3186256537937111,
          -0.3535113530787661,
          -0.3363339749210002,
          -0.3363157212939749,
          -0.28644493159702117,
          -0.3422337202955451,
          -0.3538804089903234,
          -0.3360327512536351,
          3.964251130309162,
          -0.3964901385937989,
          -0.354068774610916,
          -0.31905690095547556,
          -0.28300194410542134,
          -0.31662702871698756,
          -0.2925867982382819,
          -0.13977287674851432,
          -0.29283859061632894,
          -0.34636202302498026,
          -0.3355077826619937,
          -0.19717697525573416,
          2.234047296272479,
          -0.3518558428647018,
          -0.2676866795576374,
          1.041209437322419,
          -0.36151714538699525,
          -0.3562522018556701,
          -0.39950108493946385,
          -0.1738190027221763,
          -0.36126349381809814,
          -0.35497391374682175,
          -0.3292254647758247,
          -0.34938270543872313,
          -0.3924003384821278,
          -0.29008898024302204,
          -0.353170464939512,
          -0.3432880388921983,
          -0.3492444962959004,
          -0.19610019070460386,
          -0.3687965990843029,
          -0.2937278687744471,
          0.4485996340384144,
          -0.14005158543680318,
          -0.39879694003421484,
          -0.33603667604779747,
          -0.39925224952082405,
          -0.3563689775179658,
          0.5688422837751708,
          -0.3498587727643081,
          -0.3355206266076199,
          -0.3313229166818441,
          -0.3011690032841758,
          -0.38997018814813833,
          -0.3926271596381285,
          3.78376703264733,
          0.0981141093365748,
          -0.3901701196287098,
          -0.33490753686270375,
          -0.3357306724870467,
          -0.2688990809457615,
          -0.3362480163920611,
          -0.3842690124784529,
          -0.25012260029840894,
          -0.09202110737970573,
          -0.38002574782895443,
          -0.3355274221143214,
          -0.32860333906378836,
          -0.3892014471666402,
          -0.33396950185948754,
          -0.35465953390731286,
          -0.3718157162022515,
          -0.3105699939676736,
          3.767088635088508,
          -0.10043956670389086,
          -0.3311688933743202,
          -0.34516417082091333,
          -0.28118342003397323,
          3.77694354447243,
          3.778185930879875,
          -0.24982743368633872,
          -0.3545954888042614,
          -0.35434455936886566,
          2.4930800466237457,
          -0.33441482894147867,
          -0.2932342958539221
         ],
         "y": [
          1.066501310711516,
          1.0667279595802412,
          1.6433110388351821,
          1.1937496677492603,
          1.6547823496045613,
          0.7617511697211662,
          0.5767100089715401,
          1.8336669163446269,
          1.066501860838211,
          1.0667783413847511,
          1.0665549633530154,
          1.0665011099254724,
          1.0665013250436293,
          0.2142309887602262,
          1.0069752243481656,
          1.532832932928859,
          0.4283824397733376,
          1.0664875851397975,
          1.0094371829076323,
          1.1937534257114963,
          2.0125074950294404,
          0.8907349919302069,
          0.7614025534248128,
          0.8814512704889303,
          1.7683962585980944,
          1.7683740539329342,
          0.4441524311550976,
          1.0664141391383264,
          1.0664905627352952,
          1.079282245306135,
          1.0087274929307188,
          1.1937553817744677,
          0.15150667164704085,
          1.573111669127709,
          1.193751618957891,
          1.0662785100085115,
          1.0664793421723593,
          0.572098154420784,
          1.193755999259116,
          0.15155914761824474,
          1.7683818742230033,
          1.0661271314317013,
          -0.007484673351024531,
          1.7180904663465337,
          0.7617474838060713,
          1.0069988964958834,
          0.8814631663633452,
          1.768363063448449,
          0.8813081064836826,
          1.0665019506576285,
          1.7683661531598622,
          1.0086977842227374,
          1.0664975961174779,
          1.1937560416412643,
          2.246953828434758,
          1.787141659445367,
          1.0057283753030049,
          0.8814510423314674,
          1.768355557171409,
          0.7613403325831127,
          1.8338036873687549,
          0.8372711482890126,
          0.7617522077099708,
          1.1869020537663,
          0.7617578889888207,
          1.5064876813609094,
          1.0664868085747263,
          0.8813719858901906,
          1.193591458342084,
          0.8541386771576776,
          0.7617446195210406,
          0.2143340242261307,
          1.532830402264072,
          1.1937811421789302,
          0.761663071025251,
          0.7615372064609828,
          1.5020945253145932,
          1.193705034942627,
          1.5773601505380341,
          1.0659784014107265,
          1.0664838350669583,
          1.066501038512322,
          1.5832318898575983,
          1.0087035971696947,
          1.1937402322156916,
          1.0664806469329913,
          0.7617513060995456,
          1.1937543523156402,
          1.0664932236987628,
          1.0665021564600468,
          0.8815252557513567,
          0.48768892867291574,
          1.8329800507083045,
          1.5328302700154541,
          1.066515925974519,
          1.1932127260217673,
          1.5328777459802267,
          1.5833174431093575,
          1.8617475337518554,
          1.532706176634272,
          1.8303974845764905,
          1.7659453068736006,
          1.193750217766236,
          1.8081885694226185,
          1.1937553712112932,
          1.5328303206042786,
          1.066491853909197,
          1.0664839532842387,
          1.532830402264072,
          1.1937317058753474,
          0.7617568985465852,
          1.066495659564171,
          0.67362681938619,
          1.0664938580674785,
          1.0662206248626087,
          1.1937535433797957,
          1.066441790516788,
          0.8819288071856665,
          1.066497121758423,
          1.0665013016860783,
          1.4842369589234128,
          0.6418112736129737,
          1.066292409215858,
          0.761752147819732,
          1.1937537453430358,
          1.0664976907272625,
          1.066491822923577,
          0.8814284602403137,
          0.5504556745931128,
          1.5833174103781327,
          1.0664985887185232,
          0.8814519288248485,
          1.1937172503926852,
          1.8777830200319465,
          1.1937553571158477,
          1.5328305252482042,
          1.1937208945443816,
          1.5328299876058793,
          1.1935890752637461,
          1.0664943456955915,
          1.0664892645430872,
          1.0660628289717127,
          0.543851619066345,
          1.193745320051113,
          0.8807025875655454,
          1.5328222615969989,
          1.0664645591856758,
          1.8120527771564476,
          0.5766269955019192,
          1.5773577504822351,
          1.8449909066445673,
          1.5020950574048348,
          1.5020724231483262,
          1.8072996122419986,
          1.7683635575182608,
          1.0485097127842329,
          1.7683687107976496,
          1.6569211697231883,
          1.8073172813037308,
          1.1937566907814323,
          0.88145181535315,
          1.5328051767269382,
          1.0664886613976519,
          1.0665012992792617,
          1.6551374625640354,
          1.4586828416090785,
          1.1937467030529427,
          0.4440568273206469,
          1.066494905837739,
          0.7046977147462846,
          1.0766610685645888,
          0.7617565213265358,
          1.5018155791812573,
          1.7584406756043214,
          1.0664930352334352,
          1.669214599691957,
          1.5819742792740965,
          1.0665019568042817,
          0.5766857650768606,
          1.1937088626759584,
          1.7658592218490126,
          1.5013180311116725,
          1.7683553359010784,
          1.06645756725986,
          1.3170412460118757,
          1.4842375722460142,
          1.046707629038473,
          1.0664391764242744,
          1.1937531416651601,
          1.484198211989818,
          1.0663641537151312,
          1.0665006478129524,
          1.0086980942886108,
          1.577355969128742,
          -0.09330236081803579,
          0.5602759664381154,
          1.0665019201177424,
          1.5830668953354983,
          0.9374800410806766,
          1.1937453593311529,
          1.6200907020239186,
          0.8814080637208366,
          1.5880232138411203,
          1.5020817019836448,
          1.0665003632917056,
          1.0664996326055955,
          0.8813485005020556,
          1.656306157674487,
          1.532801388832601,
          1.0664924573988208,
          1.727581540139684,
          1.669262133492568,
          1.5328001892898313,
          0.7247372917710798,
          1.064866493520783,
          1.4320852329188323,
          0.8814567836449766,
          1.066473546381913,
          0.8814353382528418,
          1.8331891870604944,
          1.0664738767656177,
          1.648733049351788,
          0.46547799710831483,
          1.483954983311933,
          0.5766914823263809,
          1.6431138867299167,
          0.9097849939842606,
          1.484232828975632,
          1.669289271108898,
          0.8740465174030666,
          0.889730557243793,
          1.4842238819517228,
          1.0660649669204212,
          1.0086896581113958,
          1.1937468622394098,
          0.8813842352484162,
          1.5327423961826026,
          0.8638170040545089,
          1.0086634794686002,
          1.0590668319733596,
          1.929888149568578,
          1.435047869203162,
          1.5806732444856164,
          1.0162085290974388,
          1.6692806556268833,
          1.0664985406998522,
          1.6692885621361042,
          1.4842339319760833,
          1.047125894244776,
          1.0086970551460939,
          1.0664734177632582,
          1.6199842239502404,
          1.8314158607937308,
          1.1935778506928691,
          1.1937525864975023,
          1.76595024864701,
          1.0578255139067438,
          1.1938611386091516,
          1.0664151128845232,
          1.0664864794767719,
          0.5767029652517088,
          1.0665055097003981,
          1.1937262723007884,
          1.0623225411066497,
          0.7694982269555477,
          1.1935321598976891,
          1.0665208888798416,
          1.0665021038016234,
          1.1937519225199524,
          1.066476295585965,
          1.53282817438444,
          0.59203653682678,
          0.7617467528302461,
          1.7659351371024623,
          0.8814203250830325,
          1.0664795696082519,
          0.44412677365010667,
          1.7683674548275305,
          1.7663979053304484,
          1.7664423043265904,
          0.5767075410260986,
          1.5328307161503494,
          1.3897834819600676,
          0.699543903044758,
          1.0663981453831295,
          0.8814509317787633
         ],
         "z": [
          -0.5690552061203648,
          -0.569404350669625,
          -0.6108921445247146,
          -0.478095826436299,
          -0.008608359726929972,
          -0.3516723317938621,
          -0.08098773612086733,
          -0.6261370853946372,
          -0.5690612268097233,
          -0.5692646147095349,
          -0.5690957623544238,
          -0.5690552214551876,
          -0.569055551187713,
          -0.4122763884720608,
          -0.4481623588442773,
          -0.07321740443637957,
          -0.13378555269046014,
          -0.5690849406137091,
          -0.20795786172495098,
          -0.4780986670951085,
          -0.68048852370271,
          -0.30538467623724325,
          -0.3522100698839944,
          -0.29837248188450105,
          -0.6004375589297922,
          -0.6004207743338424,
          -0.2661578278193974,
          -0.5691296967909897,
          -0.5690798379410479,
          -0.5787163661141134,
          -0.20742140420909952,
          -0.47809279257613857,
          0.014921736453986896,
          -0.283787453008297,
          -0.4780932903905311,
          -0.5694215864550616,
          -0.5690720247676435,
          -0.451009172225994,
          -0.4780950973633037,
          0.014915494424379824,
          -0.6004266857226458,
          -0.5691066101662905,
          -0.38062939382525635,
          -0.3375542815825466,
          -0.35168492098936466,
          -0.44817878871134315,
          -0.2983760658963786,
          -0.6004164775545339,
          -0.2984259793513122,
          -0.5690556898441718,
          -0.6004181445844792,
          -0.2074056322306502,
          -0.5690590831834433,
          -0.47809329103786347,
          -0.6344245122529182,
          -0.5644487456436664,
          -0.25464575195808814,
          -0.29840032606045463,
          -0.6004235049415402,
          -0.35168867258183056,
          -0.6261322745187142,
          -0.349513112858167,
          -0.351673116413786,
          -0.48178661004194756,
          -0.35167356706698494,
          -0.5332875883274842,
          -0.5690582822854767,
          -0.29838102853986087,
          -0.47809723296991596,
          -0.31081189528548236,
          -0.3516733969295298,
          -0.3997021573692444,
          -0.07322217645039407,
          -0.478137333212023,
          -0.351672829501217,
          -0.3516787226889529,
          -0.5299968662455209,
          -0.4781011952970968,
          -0.0662922440072142,
          -0.5693284322302891,
          -0.5690568145101199,
          -0.5690884251185265,
          -0.3297298547299448,
          -0.20762294203713255,
          -0.47809805301364616,
          -0.5690696685646007,
          -0.3516721006351425,
          -0.47809301681287125,
          -0.5690561123021886,
          -0.5690558454110495,
          -0.2984229995151934,
          -0.5074528510839641,
          -0.6026233341849733,
          -0.07324012585821267,
          -0.5690662538425741,
          -0.4781839680998612,
          -0.07326464867602221,
          -0.3297285109013225,
          -0.554642315970345,
          -0.0732221973957701,
          -0.5964950714322752,
          -0.5890749375004226,
          -0.47809891617784217,
          -0.6308008377050142,
          -0.47809407222270556,
          -0.07323214215402818,
          -0.5690609395771562,
          -0.5690561239598816,
          -0.07322217645039407,
          -0.47809495039545885,
          -0.3516759937407283,
          -0.5690619645549154,
          -0.20696400699720147,
          -0.5690589315578664,
          -0.5690605160850943,
          -0.47809307383037714,
          -0.5690583462179601,
          -0.30959608142862727,
          -0.5690563848797138,
          -0.5690563075787621,
          -0.26238048747129294,
          -0.31154670039877913,
          -0.5690644204665745,
          -0.35167273689482637,
          -0.4780946818096329,
          -0.569059154699361,
          -0.5690553654149724,
          -0.29836821502077204,
          -0.5011270281229773,
          -0.32973250539700166,
          -0.5693873962275502,
          -0.29837907834795513,
          -0.47809739334528106,
          -0.6854597232430106,
          -0.47812954084787807,
          -0.07325244864825589,
          -0.4781001479742464,
          -0.0733488771295433,
          -0.4781342043230468,
          -0.5690570313250704,
          -0.5690556598428642,
          -0.569058003677442,
          -0.08121434507495466,
          -0.47809855645209454,
          -0.29846963668899107,
          -0.0732193653641887,
          -0.5690625214868208,
          -0.6397641755220724,
          -0.08098768548928628,
          -0.06631265726652198,
          -0.6379322054911256,
          -0.529970528639743,
          -0.5299901865594987,
          -0.7565600634484683,
          -0.6004228674822584,
          -0.5721676690052491,
          -0.6004230521118268,
          -0.31240175636336326,
          -0.7565734195634937,
          -0.4780969595088732,
          -0.2983733035008589,
          -0.07321701305720421,
          -0.5690617725583366,
          -0.5690566013049213,
          -0.007703855227897971,
          -0.08808461204156227,
          -0.47809525664882807,
          -0.2662179994562535,
          -0.5690556234665635,
          -0.03674996872990291,
          -0.58509120021121,
          -0.35170244841350806,
          -0.5301570246705397,
          -0.5539377422560033,
          -0.569055969840487,
          -0.5330757286034183,
          -0.16782894416715452,
          -0.5690606374374924,
          -0.08397346114738369,
          -0.4781057599345937,
          -0.5891352083656564,
          -0.5394072594552216,
          -0.600476817312278,
          -0.5690923322690015,
          -0.2592854672199162,
          -0.2623826223227543,
          -0.5708054666337139,
          -0.5690583757010063,
          -0.47810781131856567,
          -0.26238629451501977,
          -0.5692523514976159,
          -0.5690560420093731,
          -0.2074062008583812,
          -0.06628624215772934,
          0.08202924876609188,
          -0.6705611416308682,
          -0.5691332122222647,
          -0.32980568331726223,
          -0.4366078128316464,
          -0.4780935724287339,
          -0.4486484749982859,
          -0.29837586029981955,
          -0.09905890395964118,
          -0.529973803130469,
          -0.5690554926909287,
          -0.5690556088577243,
          -0.298456513352716,
          -0.14315592725372453,
          -0.07322297392322565,
          -0.5690585412821522,
          -0.6034342455829871,
          -0.5331116595950118,
          -0.07321939320251479,
          -0.09062240374553977,
          -0.5695314415450633,
          -0.22520467923680912,
          -0.2983799316136754,
          -0.5724435453420166,
          -0.2983697374136286,
          -0.5961298922315958,
          -0.5690625454816572,
          -0.35544986445961146,
          -0.4721559418016182,
          -0.262379588250378,
          -0.0810030660690719,
          -0.3682970298355344,
          -0.3613213186363554,
          -0.26237937111322857,
          -0.5330670452011397,
          -0.29841189198630175,
          -0.30743462730862026,
          -0.26239901358902007,
          -0.5690596197614933,
          -0.2074111883393477,
          -0.4781030646753151,
          -0.2984033059468049,
          -0.07321915935894263,
          -0.3137042041153494,
          -0.20740644094357763,
          -0.5694519120043516,
          0.28153903946460324,
          -0.17796244827613678,
          -0.06875541574354181,
          -0.21307634961983396,
          -0.533076860388785,
          -0.5690601314447562,
          -0.5330711503145404,
          -0.26237765456586876,
          -0.579410977620443,
          -0.20740498084436887,
          -0.5690621985199226,
          -0.4487150567750996,
          -0.596427241419285,
          -0.47809897980971383,
          -0.47810070671135996,
          -0.5893711397327439,
          -0.574195805345376,
          -0.47817273425976375,
          -0.5690568983585913,
          -0.5690621300984297,
          -0.08098525284997542,
          -0.5690583801389553,
          -0.4782379121166866,
          -0.5694060580187359,
          -0.35758451721391804,
          -0.4782583056116489,
          -0.5690750190380244,
          -0.5691895046810183,
          -0.4781597008962857,
          -0.5690897767019031,
          -0.07321681566264149,
          -0.1897942271620213,
          -0.3516967356061983,
          -0.5890789215238272,
          -0.301689112157439,
          -0.5691390462246934,
          -0.2661572841573945,
          -0.6004158261531752,
          -0.5893752775385228,
          -0.5894088389187742,
          -0.08131594018157866,
          -0.0732186147058844,
          0.3713609028016533,
          -0.3023960939573888,
          -0.5690607849401902,
          -0.29836715197223534
         ]
        },
        {
         "customdata": [
          [
           "SHA-256"
          ],
          [
           "Ethash"
          ],
          [
           "Scrypt"
          ],
          [
           "CryptoNight-V7"
          ],
          [
           "Ethash"
          ],
          [
           "Equihash"
          ],
          [
           "Multiple"
          ],
          [
           "Scrypt"
          ],
          [
           "X11"
          ],
          [
           "Scrypt"
          ],
          [
           "Multiple"
          ],
          [
           "Scrypt"
          ],
          [
           "SHA-256"
          ],
          [
           "Scrypt"
          ],
          [
           "Scrypt"
          ],
          [
           "Quark"
          ],
          [
           "Groestl"
          ],
          [
           "Scrypt"
          ],
          [
           "Scrypt"
          ],
          [
           "Scrypt"
          ],
          [
           "X11"
          ],
          [
           "Multiple"
          ],
          [
           "SHA-256"
          ],
          [
           "Scrypt"
          ],
          [
           "Scrypt"
          ],
          [
           "Scrypt"
          ],
          [
           "Scrypt"
          ],
          [
           "Scrypt"
          ],
          [
           "NeoScrypt"
          ],
          [
           "Scrypt"
          ],
          [
           "Scrypt"
          ],
          [
           "Scrypt"
          ],
          [
           "Scrypt"
          ],
          [
           "SHA-256"
          ],
          [
           "Scrypt"
          ],
          [
           "Scrypt"
          ],
          [
           "Scrypt"
          ],
          [
           "Scrypt"
          ],
          [
           "HybridScryptHash256"
          ],
          [
           "Scrypt"
          ],
          [
           "Scrypt"
          ],
          [
           "SHA-256"
          ],
          [
           "Scrypt"
          ],
          [
           "Scrypt"
          ],
          [
           "Scrypt"
          ],
          [
           "Scrypt"
          ],
          [
           "SHA-256"
          ],
          [
           "SHA-256"
          ],
          [
           "SHA-256"
          ],
          [
           "SHA-256"
          ],
          [
           "SHA-256"
          ],
          [
           "X11"
          ],
          [
           "Scrypt"
          ],
          [
           "Lyra2REv2"
          ],
          [
           "Scrypt"
          ],
          [
           "SHA-256"
          ],
          [
           "CryptoNight"
          ],
          [
           "CryptoNight"
          ],
          [
           "Scrypt"
          ],
          [
           "Scrypt"
          ],
          [
           "Scrypt"
          ],
          [
           "Scrypt"
          ],
          [
           "Scrypt"
          ],
          [
           "Scrypt"
          ],
          [
           "Stanford Folding"
          ],
          [
           "Multiple"
          ],
          [
           "QuBit"
          ],
          [
           "Scrypt"
          ],
          [
           "Scrypt"
          ],
          [
           "M7 POW"
          ],
          [
           "Scrypt"
          ],
          [
           "SHA-256"
          ],
          [
           "Scrypt"
          ],
          [
           "X11"
          ],
          [
           "Lyra2RE"
          ],
          [
           "SHA-256"
          ],
          [
           "X11"
          ],
          [
           "Scrypt"
          ],
          [
           "Scrypt"
          ],
          [
           "Ethash"
          ],
          [
           "Blake2b"
          ],
          [
           "X11"
          ],
          [
           "SHA-256"
          ],
          [
           "Scrypt"
          ],
          [
           "1GB AES Pattern Search"
          ],
          [
           "Scrypt"
          ],
          [
           "SHA-256"
          ],
          [
           "X11"
          ],
          [
           "Dagger"
          ],
          [
           "Scrypt"
          ],
          [
           "X11GOST"
          ],
          [
           "Scrypt"
          ],
          [
           "X11"
          ],
          [
           "Scrypt"
          ],
          [
           "X11"
          ],
          [
           "Equihash"
          ],
          [
           "CryptoNight"
          ],
          [
           "SHA-256"
          ],
          [
           "Multiple"
          ],
          [
           "Scrypt"
          ],
          [
           "SHA-256"
          ],
          [
           "Scrypt"
          ],
          [
           "Lyra2Z"
          ],
          [
           "Ethash"
          ],
          [
           "Equihash"
          ],
          [
           "Scrypt"
          ],
          [
           "X11"
          ],
          [
           "X11"
          ],
          [
           "CryptoNight"
          ],
          [
           "Scrypt"
          ],
          [
           "CryptoNight"
          ],
          [
           "Lyra2RE"
          ],
          [
           "X11"
          ],
          [
           "CryptoNight-V7"
          ],
          [
           "Scrypt"
          ],
          [
           "X11"
          ],
          [
           "Equihash"
          ],
          [
           "Scrypt"
          ],
          [
           "Lyra2RE"
          ],
          [
           "Dagger-Hashimoto"
          ],
          [
           "Scrypt"
          ],
          [
           "NIST5"
          ],
          [
           "Scrypt"
          ],
          [
           "SHA-256"
          ],
          [
           "Scrypt"
          ],
          [
           "CryptoNight-V7"
          ],
          [
           "Argon2d"
          ],
          [
           "Blake2b"
          ],
          [
           "Cloverhash"
          ],
          [
           "CryptoNight"
          ],
          [
           "X11"
          ],
          [
           "Scrypt"
          ],
          [
           "Scrypt"
          ],
          [
           "X11"
          ],
          [
           "X11"
          ],
          [
           "CryptoNight"
          ],
          [
           "Time Travel"
          ],
          [
           "Scrypt"
          ],
          [
           "Keccak"
          ],
          [
           "X11"
          ],
          [
           "SHA-256"
          ],
          [
           "Scrypt"
          ],
          [
           "Scrypt"
          ],
          [
           "Scrypt"
          ],
          [
           "Scrypt"
          ],
          [
           "Scrypt"
          ],
          [
           "Scrypt"
          ],
          [
           "CryptoNight"
          ],
          [
           "Equihash"
          ],
          [
           "X11"
          ],
          [
           "NeoScrypt"
          ],
          [
           "Equihash"
          ],
          [
           "Dagger"
          ],
          [
           "Scrypt"
          ],
          [
           "X11"
          ],
          [
           "NeoScrypt"
          ],
          [
           "Ethash"
          ],
          [
           "NeoScrypt"
          ],
          [
           "Multiple"
          ],
          [
           "CryptoNight"
          ],
          [
           "CryptoNight"
          ],
          [
           "Ethash"
          ],
          [
           "X11"
          ],
          [
           "CryptoNight-V7"
          ],
          [
           "Scrypt"
          ],
          [
           "BLAKE256"
          ],
          [
           "X11"
          ],
          [
           "NeoScrypt"
          ],
          [
           "NeoScrypt"
          ],
          [
           "Scrypt"
          ],
          [
           "X11"
          ],
          [
           "SHA-256"
          ],
          [
           "C11"
          ],
          [
           "CryptoNight"
          ],
          [
           "SkunkHash"
          ],
          [
           "CryptoNight"
          ],
          [
           "Scrypt"
          ],
          [
           "Dagger"
          ],
          [
           "Lyra2REv2"
          ],
          [
           "Scrypt"
          ],
          [
           "Scrypt"
          ],
          [
           "X11"
          ],
          [
           "Ethash"
          ],
          [
           "CryptoNight"
          ],
          [
           "Scrypt"
          ],
          [
           "IMesh"
          ],
          [
           "Equihash"
          ],
          [
           "Lyra2Z"
          ],
          [
           "X11"
          ],
          [
           "CryptoNight"
          ],
          [
           "NIST5"
          ],
          [
           "Lyra2RE"
          ],
          [
           "Tribus"
          ],
          [
           "Lyra2Z"
          ],
          [
           "CryptoNight"
          ],
          [
           "CryptoNight Heavy"
          ],
          [
           "CryptoNight"
          ],
          [
           "Jump Consistent Hash"
          ],
          [
           "CryptoNight"
          ],
          [
           "X16R"
          ],
          [
           "HMQ1725"
          ],
          [
           "X11"
          ],
          [
           "Scrypt"
          ],
          [
           "CryptoNight-V7"
          ],
          [
           "Cryptonight-GPU"
          ],
          [
           "XEVAN"
          ],
          [
           "CryptoNight Heavy"
          ],
          [
           "SHA-256"
          ],
          [
           "X11"
          ],
          [
           "X16R"
          ],
          [
           "Equihash"
          ],
          [
           "Lyra2Z"
          ],
          [
           "SHA-256"
          ],
          [
           "CryptoNight"
          ],
          [
           "Blake"
          ],
          [
           "Blake"
          ],
          [
           "Equihash"
          ],
          [
           "Exosis"
          ],
          [
           "Scrypt"
          ],
          [
           "Equihash"
          ],
          [
           "Equihash"
          ],
          [
           "QuBit"
          ],
          [
           "SHA-256"
          ],
          [
           "X13"
          ],
          [
           "SHA-256"
          ],
          [
           "Scrypt"
          ],
          [
           "NeoScrypt"
          ],
          [
           "Blake"
          ],
          [
           "Scrypt"
          ],
          [
           "SHA-256"
          ],
          [
           "Scrypt"
          ],
          [
           "Groestl"
          ],
          [
           "Scrypt"
          ],
          [
           "Scrypt"
          ],
          [
           "Multiple"
          ],
          [
           "Equihash+Scrypt"
          ],
          [
           "Ethash"
          ],
          [
           "CryptoNight"
          ],
          [
           "Equihash"
          ]
         ],
         "hovertemplate": "<b>%{hovertext}</b><br><br>Class=%{marker.color}<br>PC 1=%{x}<br>PC 2=%{y}<br>PC 3=%{z}<br>Algorithm=%{customdata[0]}<extra></extra>",
         "hovertext": [
          "Bitcoin",
          "Ethereum",
          "Litecoin",
          "Monero",
          "Ethereum Classic",
          "ZCash",
          "DigiByte",
          "ProsperCoin",
          "Spreadcoin",
          "Argentum",
          "MyriadCoin",
          "MoonCoin",
          "ZetaCoin",
          "SexCoin",
          "Quatloo",
          "QuarkCoin",
          "Riecoin",
          "Digitalcoin ",
          "Catcoin",
          "CannaCoin",
          "CryptCoin",
          "Verge",
          "DevCoin",
          "EarthCoin",
          "E-Gulden",
          "Einsteinium",
          "Emerald",
          "Franko",
          "FeatherCoin",
          "GrandCoin",
          "GlobalCoin",
          "GoldCoin",
          "Infinite Coin",
          "IXcoin",
          "KrugerCoin",
          "LuckyCoin",
          "Litebar ",
          "MegaCoin",
          "MediterraneanCoin",
          "MinCoin",
          "NobleCoin",
          "Namecoin",
          "NyanCoin",
          "RonPaulCoin",
          "StableCoin",
          "SmartCoin",
          "SysCoin",
          "TigerCoin",
          "TerraCoin",
          "UnbreakableCoin",
          "Unobtanium",
          "UroCoin",
          "ViaCoin",
          "Vertcoin",
          "WorldCoin",
          "JouleCoin",
          "ByteCoin",
          "DigitalNote ",
          "MonaCoin",
          "Gulden",
          "PesetaCoin",
          "Wild Beast Coin",
          "Flo",
          "ArtByte",
          "Folding Coin",
          "Unitus",
          "CypherPunkCoin",
          "OmniCron",
          "GreenCoin",
          "Cryptonite",
          "MasterCoin",
          "SoonCoin",
          "1Credit",
          "MarsCoin ",
          "Crypto",
          "Anarchists Prime",
          "BowsCoin",
          "Song Coin",
          "BitZeny",
          "Expanse",
          "Siacoin",
          "MindCoin",
          "I0coin",
          "Revolution VR",
          "HOdlcoin",
          "Gamecredits",
          "CarpeDiemCoin",
          "Adzcoin",
          "SoilCoin",
          "YoCoin",
          "SibCoin",
          "Francs",
          "BolivarCoin",
          "Omni",
          "PizzaCoin",
          "Komodo",
          "Karbo",
          "ZayedCoin",
          "Circuits of Value",
          "DopeCoin",
          "DollarCoin",
          "Shilling",
          "ZCoin",
          "Elementrem",
          "ZClassic",
          "KiloCoin",
          "ArtexCoin",
          "Kurrent",
          "Cannabis Industry Coin",
          "OsmiumCoin",
          "Bikercoins",
          "HexxCoin",
          "PacCoin",
          "Citadel",
          "BeaverCoin",
          "VaultCoin",
          "Zero",
          "Canada eCoin",
          "Zoin",
          "DubaiCoin",
          "EB3coin",
          "Coinonat",
          "BenjiRolls",
          "ILCoin",
          "EquiTrader",
          "Quantum Resistant Ledger",
          "Dynamic",
          "Nano",
          "ChanCoin",
          "Dinastycoin",
          "DigitalPrice",
          "Unify",
          "SocialCoin",
          "ArcticCoin",
          "DAS",
          "LeviarCoin",
          "Bitcore",
          "gCn Coin",
          "SmartCash",
          "Onix",
          "Bitcoin Cash",
          "Sojourn Coin",
          "NewYorkCoin",
          "FrazCoin",
          "Kronecoin",
          "AdCoin",
          "Linx",
          "Sumokoin",
          "BitcoinZ",
          "Elements",
          "VIVO Coin",
          "Bitcoin Gold",
          "Pirl",
          "eBoost",
          "Pura",
          "Innova",
          "Ellaism",
          "GoByte",
          "SHIELD",
          "UltraNote",
          "BitCoal",
          "DaxxCoin",
          "AC3",
          "Lethean",
          "PopularCoin",
          "Photon",
          "Sucre",
          "SparksPay",
          "GunCoin",
          "IrishCoin",
          "Pioneer Coin",
          "UnitedBitcoin",
          "Interzone",
          "TurtleCoin",
          "MUNcoin",
          "Niobio Cash",
          "ShareChain",
          "Travelflex",
          "KREDS",
          "BitFlip",
          "LottoCoin",
          "Crypto Improvement Fund",
          "Callisto Network",
          "BitTube",
          "Poseidon",
          "Aidos Kuneen",
          "Bitrolium",
          "Alpenschillling",
          "FuturoCoin",
          "Monero Classic",
          "Jumpcoin",
          "Infinex",
          "KEYCO",
          "GINcoin",
          "PlatinCoin",
          "Loki",
          "Newton Coin",
          "MassGrid",
          "PluraCoin",
          "Motion",
          "PlusOneCoin",
          "Axe",
          "HexCoin",
          "Webchain",
          "Ryo",
          "Urals Coin",
          "Qwertycoin",
          "Project Pai",
          "Azart",
          "Xchange",
          "CrypticCoin",
          "Actinium",
          "Bitcoin SV",
          "FREDEnergy",
          "Universal Molecule",
          "Lithium",
          "PirateCash",
          "Exosis",
          "Block-Logic",
          "Beam",
          "Bithereum",
          "SLICE",
          "BLAST",
          "Bitcoin Rhodium",
          "GlobalToken",
          "SolarCoin",
          "UFO Coin",
          "BlakeCoin",
          "Crypto Escudo",
          "Crown Coin",
          "SmileyCoin",
          "Groestlcoin",
          "Bata",
          "Pakcoin",
          "JoinCoin",
          "Vollar",
          "Reality Clash",
          "Beldex",
          "Horizen"
         ],
         "legendgroup": "0",
         "marker": {
          "color": [
           0,
           0,
           0,
           0,
           0,
           0,
           0,
           0,
           0,
           0,
           0,
           0,
           0,
           0,
           0,
           0,
           0,
           0,
           0,
           0,
           0,
           0,
           0,
           0,
           0,
           0,
           0,
           0,
           0,
           0,
           0,
           0,
           0,
           0,
           0,
           0,
           0,
           0,
           0,
           0,
           0,
           0,
           0,
           0,
           0,
           0,
           0,
           0,
           0,
           0,
           0,
           0,
           0,
           0,
           0,
           0,
           0,
           0,
           0,
           0,
           0,
           0,
           0,
           0,
           0,
           0,
           0,
           0,
           0,
           0,
           0,
           0,
           0,
           0,
           0,
           0,
           0,
           0,
           0,
           0,
           0,
           0,
           0,
           0,
           0,
           0,
           0,
           0,
           0,
           0,
           0,
           0,
           0,
           0,
           0,
           0,
           0,
           0,
           0,
           0,
           0,
           0,
           0,
           0,
           0,
           0,
           0,
           0,
           0,
           0,
           0,
           0,
           0,
           0,
           0,
           0,
           0,
           0,
           0,
           0,
           0,
           0,
           0,
           0,
           0,
           0,
           0,
           0,
           0,
           0,
           0,
           0,
           0,
           0,
           0,
           0,
           0,
           0,
           0,
           0,
           0,
           0,
           0,
           0,
           0,
           0,
           0,
           0,
           0,
           0,
           0,
           0,
           0,
           0,
           0,
           0,
           0,
           0,
           0,
           0,
           0,
           0,
           0,
           0,
           0,
           0,
           0,
           0,
           0,
           0,
           0,
           0,
           0,
           0,
           0,
           0,
           0,
           0,
           0,
           0,
           0,
           0,
           0,
           0,
           0,
           0,
           0,
           0,
           0,
           0,
           0,
           0,
           0,
           0,
           0,
           0,
           0,
           0,
           0,
           0,
           0,
           0,
           0,
           0,
           0,
           0,
           0,
           0,
           0,
           0,
           0,
           0,
           0,
           0,
           0,
           0,
           0,
           0,
           0,
           0,
           0,
           0,
           0,
           0,
           0,
           0,
           0,
           0,
           0,
           0,
           0,
           0,
           0,
           0,
           0,
           0,
           0,
           0,
           0
          ],
          "coloraxis": "coloraxis",
          "symbol": "diamond"
         },
         "mode": "markers",
         "name": "0",
         "scene": "scene",
         "showlegend": true,
         "type": "scatter3d",
         "x": [
          -0.14403669425487337,
          -0.15039345751130664,
          -0.1671823862546562,
          -0.148306826785965,
          -0.14883865242819835,
          -0.1535125700368497,
          0.1625879332106378,
          -0.16832674220929192,
          -0.22503209306748112,
          -0.16794401970200623,
          -0.09037633280600836,
          2.5479181169956875,
          -0.1411263649697101,
          -0.16520410293669563,
          -0.16774849519866952,
          -0.22687607720121958,
          -0.20295484341554346,
          -0.1677969447813404,
          -0.16830903260868363,
          -0.1683953305211143,
          -0.225121302769042,
          0.18632632861916032,
          0.23318740107379698,
          0.07992677564721173,
          -0.16814201284516286,
          -0.1637547376211733,
          -0.16808144404903455,
          -0.16845224577650028,
          -0.17286103402778227,
          -0.14771006379096735,
          -0.16724929646153563,
          -0.16752637370373497,
          1.5776077058416667,
          -0.14399811679615213,
          -0.16482044012881072,
          -0.16816841318442227,
          -0.1685226475675879,
          -0.16778311547511085,
          -0.13464323769553882,
          -0.16840411967261268,
          -0.03356859086156801,
          -0.14407562063618629,
          -0.16207835042865615,
          -0.16838364330127012,
          -0.16648172208408857,
          -0.16787124011126778,
          -0.13124961762284224,
          -0.14354025354881444,
          -0.14382703903062377,
          -0.14381023375186378,
          -0.14439973678336585,
          -0.22529486978351182,
          -0.16810053230715777,
          -0.19275916661238618,
          -0.165208886061841,
          -0.14360744593984723,
          3.8539734717915834,
          0.45847375610144425,
          -0.16697008621603934,
          -0.15159788533252583,
          -0.1656909658845135,
          -0.16852486011098192,
          -0.16555615948011435,
          -0.15180285805745633,
          -0.12510085071645285,
          -0.12432635507456836,
          -0.18916723644221603,
          -0.16839811587599518,
          -0.041559821382467596,
          -0.11310785926126722,
          -0.16853373057596638,
          -0.14410335998706442,
          0.4822748546789973,
          -0.2246830600823034,
          -0.14893703090890686,
          -0.14384374056305924,
          -0.22496750846659463,
          -0.16666112063879174,
          -0.16585466769689322,
          -0.15145953197634793,
          0.36820367325038084,
          -0.22500283202860857,
          -0.1439992376052718,
          -0.16449817479505136,
          -0.15211232598556318,
          -0.16709946689004387,
          0.2738033816727794,
          -0.22416504133275308,
          -0.15043786787752916,
          -0.16734696758814036,
          -0.1528754435351085,
          -0.16832402613236125,
          -0.22496617023625876,
          -0.16853378897554386,
          -0.22511593532444082,
          -0.2750146693228856,
          0.30364063916610745,
          -0.14425890994818638,
          -0.10443210261449312,
          -0.16570537291150372,
          -0.1442176008804005,
          -0.1681977960318662,
          -0.14734565857016313,
          -0.1512020887908939,
          -0.15353415741766477,
          -0.09540965663929943,
          -0.21172001361187923,
          -0.22294806811673384,
          0.30363495652783284,
          -0.16851556225027445,
          0.3037654733107093,
          -0.1494764583758606,
          0.4886538463694283,
          -0.1470741399273667,
          -0.16848389610612358,
          -0.2178647807527312,
          -0.15354649548803398,
          -0.16662020183489393,
          -0.1491952793543112,
          -0.14703260499969414,
          -0.13946722222459051,
          -0.1857485826740796,
          -0.16804703294697917,
          -0.11064256918193494,
          -0.16786952234626035,
          -0.1469316757027454,
          -0.15674222608426802,
          -0.031551622714695145,
          -0.15191323113748575,
          0.33969760602386717,
          -0.22417350244412457,
          -0.16818808490428955,
          -0.16795206581428088,
          -0.224567443010505,
          -0.22514389928067366,
          0.30402923882578564,
          -0.15467361966129733,
          3.235496540186615,
          -0.1154041482657571,
          -0.2160339000961765,
          -0.14403585961920426,
          -0.09426144416253354,
          1.5760875791494613,
          -0.1682858017277005,
          -0.16773851394076408,
          -0.16743997868584143,
          -0.16742692754759414,
          0.304212424086069,
          0.05838461192637324,
          -0.17960224490659976,
          -0.177541807796148,
          -0.15339277782198893,
          -0.14919929167974433,
          -0.1666184134474553,
          -0.2206960804840956,
          -0.17738752094371918,
          -0.1495707905635699,
          -0.17748752322008002,
          -0.11457484250516424,
          1.1400067774993232,
          0.30361779191596916,
          -0.07461121992361358,
          -0.22043899941632933,
          -0.13606311395388204,
          -0.08481312676361995,
          1.0916823308826697,
          -0.22511793802419441,
          -0.17753934009455252,
          -0.17058913619185773,
          -0.16753804840221304,
          -0.22504346367698064,
          -0.14401528116302068,
          -0.19791738118510008,
          8.02588701823478,
          -0.15238450479685905,
          0.30748530372643973,
          0.024192209189939126,
          -0.1487029101025603,
          -0.1783420649039634,
          -0.16811086705389935,
          0.13845309548905024,
          -0.21919477624915173,
          -0.102704571306282,
          0.31152516319296775,
          -0.1683474584316642,
          -0.16079057110793069,
          -0.152385495932565,
          -0.14513359306469603,
          -0.22421421898957958,
          0.303800031115584,
          -0.18580782741248245,
          -0.14932198987903372,
          -0.15449466446776533,
          -0.14742986528564417,
          0.3077199736366143,
          0.5743042410888244,
          2.108892613112571,
          -0.13400183300646498,
          0.31738145146948454,
          -0.19447639710469597,
          -0.15017787356655218,
          -0.22510012865158374,
          -0.1683720120695625,
          -0.13594688397973598,
          -0.15177546793733238,
          -0.1678016495560972,
          3.0924876396373917,
          -0.10392900168548863,
          -0.22507155338325557,
          -0.19390529121627942,
          -0.048320916440841404,
          -0.14682880828265105,
          -0.1440358971331694,
          0.3834108335697917,
          -0.14058993049817756,
          -0.1409810206331741,
          -0.2775412779570707,
          -0.15172982511773528,
          -0.16726631365410105,
          -0.15145674181312702,
          -0.15322587490015754,
          -0.1883797880393358,
          -0.14331324519626643,
          -0.11333701000657258,
          -0.1421832521163958,
          0.5261038128479366,
          -0.10282726463776962,
          -0.09154900088811103,
          -0.151953237819599,
          -0.1438264103443224,
          0.54607526668714,
          -0.2025165494452297,
          -0.16844866015931165,
          -0.16640805270723083,
          -0.12506024736706312,
          -0.12500308119435913,
          -0.1512351933515311,
          0.325338201682194,
          -0.1535136255364865
         ],
         "y": [
          -1.3833326045627565,
          -2.053296879227002,
          -1.0785995232767045,
          -2.2328006498655233,
          -2.05338653178699,
          -2.078654549746331,
          -1.812765757602943,
          -1.0785968540456092,
          -0.9513399981764424,
          -1.0786129115336192,
          -1.8086672790845504,
          -1.2470508520222658,
          -1.3833314916715642,
          -1.0786436157543013,
          -1.0786308183442028,
          -0.47579771452018677,
          -1.1381310104450404,
          -1.0785967062188415,
          -1.0785962211599915,
          -1.078593869933732,
          -0.9513418032380354,
          -1.8088436741906844,
          -1.3843589181393596,
          -1.0790458710958901,
          -1.0785902523971398,
          -1.0786262518022152,
          -1.0785956944326096,
          -1.078594587148378,
          -1.7009952140117848,
          -1.078827918093202,
          -1.0785922333430857,
          -1.0786036881320065,
          -1.0788386203711051,
          -1.3833312259252883,
          -1.0786405684355784,
          -1.0785905043557533,
          -1.0785902669811744,
          -1.0785919481720778,
          -2.328391787358974,
          -1.0785920126992203,
          -1.0841390999074059,
          -1.383333995669608,
          -1.0785920722452733,
          -1.0785988875122894,
          -1.0786892738581366,
          -1.0786014593325874,
          -1.3834751708870698,
          -1.383332850779736,
          -1.3833396337842014,
          -1.3833653104732315,
          -1.3833312297994715,
          -0.9513355588573681,
          -1.0785901530262532,
          -1.2553582308356788,
          -1.0786544502757032,
          -1.3833338607357073,
          -2.3101828296740456,
          -2.310881931553422,
          -1.0786065409615913,
          -1.0791462268556962,
          -1.0786031950635244,
          -1.0785912297961842,
          -1.0785939615429672,
          -1.0786833273391296,
          -2.2428149657310845,
          -1.8084975329421702,
          -1.5032560118272955,
          -1.078587214377049,
          -1.0809671476205964,
          -2.2296221047151628,
          -1.0785901578922519,
          -1.3833349869870633,
          -1.1189504927956295,
          -0.951336514419468,
          -2.2104302129511915,
          -1.3833483627641634,
          -0.9513383816320004,
          -1.078668190691262,
          -1.0786668648997395,
          -2.0533466682748176,
          -2.2447936780176323,
          -0.9513361864515724,
          -1.3833312659794934,
          -1.0785907278245903,
          -2.2465582605472463,
          -1.0785965599985083,
          -1.3833405071529874,
          -0.9513532688979532,
          -2.3026327195541376,
          -1.0786637343921828,
          -2.204057303145605,
          -1.078596065474769,
          -0.951341099834897,
          -1.0785901578840045,
          -0.9513464519697342,
          -1.5161857958435987,
          -2.309507029283962,
          -1.3833327567229412,
          -1.8086163828310058,
          -1.0786269542338667,
          -1.383331904411505,
          -1.0785984694742623,
          -2.1422538398976285,
          -2.0533438984818733,
          -2.0786553212116616,
          -1.0828915719490022,
          -0.9511961894278436,
          -0.9514093550635898,
          -2.3095148389380427,
          -1.078590957187138,
          -2.3095129407043604,
          -2.21041091185743,
          -0.9949719458677264,
          -2.2328845262521355,
          -1.0785902720539973,
          -0.9517615375275097,
          -2.0786529961085707,
          -1.078590496675836,
          -2.210408469975602,
          -2.2148510097780334,
          -1.0803170106695723,
          -0.6430105957947266,
          -1.0785968990680892,
          -1.3838534484683311,
          -1.078615781285734,
          -2.232824114486185,
          -2.487901476201977,
          -2.259314986884893,
          -2.3747606349728616,
          -2.3095945647629663,
          -0.9513646353797726,
          -1.0785907072636722,
          -1.0786208056508535,
          -0.9513510533103243,
          -0.951343233122623,
          -2.309523568247729,
          -2.308198106299463,
          -1.0952417097647982,
          -1.2823324044238582,
          -0.9517652582678141,
          -1.3833325747354854,
          -1.08319629181581,
          -1.0162424321451742,
          -1.0785946994543545,
          -1.078619397537111,
          -1.0786197929310297,
          -1.0786193265242554,
          -2.3095411476827215,
          -2.0855891290159274,
          -0.950947359835095,
          -1.7009488146051541,
          -2.078650268748044,
          -2.302675798682915,
          -1.0785904327644744,
          -0.9514132399092623,
          -1.7009557479983826,
          -2.053461101582637,
          -1.7009501938770177,
          -1.8086054389115203,
          -2.3383890848005553,
          -2.309509574539979,
          -2.0575037272196783,
          -0.9515423539904154,
          -2.233054246173344,
          -1.079055351365283,
          -1.3341801735937844,
          -0.9513429277047754,
          -1.7009445773766523,
          -1.7010274306132718,
          -1.0785984033918166,
          -0.9513424790466777,
          -1.38333126260932,
          -1.2076127411850088,
          -2.7250379964503746,
          -2.13674943644207,
          -2.3095950642280183,
          -1.078617376137135,
          -2.302619123074666,
          -1.255545579680611,
          -1.0786022779726916,
          -1.0803475336147037,
          -0.9514633140160547,
          -2.0560874218711143,
          -2.3099098528040596,
          -1.078597594378465,
          -2.0565674054749397,
          -2.0786481554818996,
          -2.142367441394189,
          -0.9513660904614876,
          -2.30950714177209,
          -0.6429938680736604,
          -2.210416649368315,
          -2.2275317610469263,
          -2.142249311757983,
          -2.3097692360047763,
          -2.2467395975959654,
          -2.372223311457242,
          -2.0895078948762786,
          -2.309700567416653,
          -1.235292499344063,
          -2.317398708912009,
          -0.9513431210617348,
          -1.078599236145364,
          -2.233569081086325,
          -2.0244976609511887,
          -0.525060323653365,
          -2.2842061424552096,
          -1.3833369239031381,
          -0.9513448658982645,
          -1.2353259749901557,
          -2.080136259515105,
          -2.1422786576117447,
          -1.3833325760761168,
          -2.3122367521457456,
          -2.252218512993057,
          -2.2521772440225183,
          -0.11864727343379483,
          -2.2887436105898944,
          -1.0786274168223942,
          -2.078748287224739,
          -2.0786511403966133,
          -1.5032970215658752,
          -1.383336485551767,
          -0.37672443187009447,
          -1.3833680198442968,
          -1.1216023744639552,
          -1.7010261073855248,
          -2.255233800033482,
          -1.0786887014404873,
          -1.3833396113169234,
          -1.0876271819681018,
          -1.1381298688343413,
          -1.0785901469027916,
          -1.0786396186855827,
          -1.8085256961713747,
          -2.157105218042121,
          -2.0533438938065496,
          -2.3096929747450012,
          -2.078654587466582
         ],
         "z": [
          0.1941942335645392,
          0.35717824508141843,
          -0.02320415630199831,
          0.38619060309035236,
          0.3571758217988921,
          0.5105550456239526,
          0.2863181053516193,
          -0.023185116380285916,
          0.06777552668558472,
          -0.023187351110864948,
          0.289570754957138,
          -0.024194152399959198,
          0.1941436577445286,
          -0.02322631173634362,
          -0.023185848197245076,
          0.012720775909563694,
          0.09769423745518738,
          -0.023194308295793043,
          -0.02318559478107705,
          -0.02318474489567168,
          0.06777755963429631,
          0.28483911764926734,
          0.18795784591696613,
          -0.027351027150147235,
          -0.023190106592989663,
          -0.023256080231659676,
          -0.023189669660982865,
          -0.023183566280128423,
          0.2796456364404055,
          -0.023478270410562635,
          -0.02320498732460828,
          -0.023197079223493622,
          -0.053278185454046084,
          0.1941931914469279,
          -0.023233769583583936,
          -0.02318958188877045,
          -0.023183527601815135,
          -0.02319584395129549,
          0.4210539376119908,
          -0.023185099248993285,
          -0.024002406479712506,
          0.19419528510782993,
          -0.02329435323144477,
          -0.023183579274621245,
          -0.023191798591507443,
          -0.023191729505423864,
          0.19401220727971824,
          0.19418572524082742,
          0.19419252777996976,
          0.19419923548067142,
          0.1942001300149379,
          0.06777885594012621,
          -0.02319085020321712,
          0.2384248649482512,
          -0.023223276244645576,
          0.1941871611662695,
          0.387353412412289,
          0.44619720481397784,
          -0.02320591091683155,
          -0.023324360169673534,
          -0.023228918113449244,
          -0.02318322697460949,
          -0.023233763263151453,
          -0.023446979354238867,
          0.5343189774880777,
          0.29011093853691244,
          0.23433341721175838,
          -0.023186510704801728,
          -0.024728859572804584,
          0.40046301220244807,
          -0.023183365887283015,
          0.19419603444869293,
          -0.023425406071628643,
          0.06776854807970994,
          0.34042406107878875,
          0.19419519529833273,
          0.06777397048543456,
          -0.023194445754356672,
          -0.02320873761353894,
          0.3572102298993848,
          0.3720718625578216,
          0.06777398237812894,
          0.19419322172406292,
          -0.023252920028250027,
          0.360715942878521,
          -0.023206396255937747,
          0.1869786923037085,
          0.06776416622554855,
          0.3976668425439527,
          -0.023183813087729488,
          0.4678564062289472,
          -0.02318537821647774,
          0.06777468819522058,
          -0.023183364880746907,
          0.06777873389552992,
          0.9485084663692945,
          0.4484970450334829,
          0.19419811354899116,
          0.2897996804231765,
          -0.023222193862503605,
          0.19419716769231976,
          -0.02318690350043215,
          0.39834043288470644,
          0.35720502798502524,
          0.5105556287777069,
          -0.02327417946142706,
          0.0675063821828936,
          0.06775843031747272,
          0.4484992716579468,
          -0.02318346188178299,
          0.448496499784704,
          0.34042811868212297,
          0.0673390082035819,
          0.3861921697672434,
          -0.02318419560509837,
          0.06776660724822406,
          0.510555208213649,
          -0.023216327508987677,
          0.3404225961289128,
          0.33559001564026936,
          -0.023214814595953,
          0.015899455189043264,
          -0.023189935757721783,
          0.19375934155808006,
          -0.023187855835160497,
          0.3861732440846465,
          0.47239795343121005,
          0.38293483990353355,
          0.5898455992795768,
          0.4478980605585606,
          0.06776741023201147,
          -0.023189186781929272,
          -0.02318506064036321,
          0.06777051339840501,
          0.06777833966690519,
          0.44849484000468465,
          0.47513356167813864,
          -0.07744572095067197,
          0.23141864040064106,
          0.06773599500215582,
          0.19419421101799572,
          -0.02321096432847298,
          -0.07031205617955734,
          -0.023186410796818272,
          -0.02318913326840051,
          -0.023194182351529914,
          -0.02319453491029162,
          0.44849646684038985,
          0.5087847398427567,
          0.06688376889744259,
          0.2797138454769894,
          0.5105518096000804,
          0.3976571884979167,
          -0.023216375819843746,
          0.06772058867020637,
          0.2797130699985333,
          0.35720879207010453,
          0.2797132836852577,
          0.2899719016211205,
          0.4419213963915153,
          0.4484981333835555,
          0.3570157415789538,
          0.06775133698754793,
          0.3860482231776056,
          -0.024502755638928727,
          0.18620918122515914,
          0.06777780797740424,
          0.2797126480249954,
          0.2796151724787845,
          -0.023198317873767364,
          0.06777639924234115,
          0.19419349793910642,
          0.10926400430083467,
          0.4283542347920037,
          0.3344344855939513,
          0.4484546262568894,
          -0.026505061314187593,
          0.3976331675722126,
          0.23822688704605086,
          -0.023187367117976324,
          -0.028007241862587105,
          0.0677083027364821,
          0.35711501755724623,
          0.44847063574714163,
          -0.023184556759694337,
          0.3491731686002349,
          0.5105338340370301,
          0.39833318330861406,
          0.06776851013414845,
          0.44849432238314485,
          0.01589591955518152,
          0.34042701413706683,
          0.4428433336544295,
          0.3983406533454709,
          0.4484980418429739,
          0.42356976736004676,
          0.4344063037965336,
          0.26198124528463984,
          0.448312436078717,
          0.1845603769211063,
          0.3734624530346223,
          0.06777755303948606,
          -0.023183685173074627,
          0.38618652989763724,
          0.47290768945519795,
          0.09721845455891125,
          0.3902823461142516,
          0.19350259763070032,
          0.06777753497770876,
          0.18455963527998762,
          0.5091418127966029,
          0.3983382687897122,
          0.1941942120313846,
          0.4478630747224193,
          0.4353131264105815,
          0.435308634478576,
          0.23536886957596348,
          0.5049586590146651,
          -0.02319510437503321,
          0.510545081071294,
          0.5105491641101191,
          0.2343309918698793,
          0.19418279456926754,
          -0.05454412464663242,
          0.1941718697087567,
          -0.02345974891196126,
          0.27844430534211767,
          0.43528779635596726,
          -0.023442917049347964,
          0.19419251079686384,
          -0.033064420216760676,
          0.09768635530563453,
          -0.023184838373605368,
          -0.02320660429401293,
          0.29013129134193244,
          0.2733881698529015,
          0.35720559855308465,
          0.4481729232660319,
          0.5105550741368416
         ]
        },
        {
         "customdata": [
          [
           "VeChainThor Authority"
          ],
          [
           "Proof-of-BibleHash"
          ],
          [
           "SHA-256 + Hive"
          ],
          [
           "Proof-of-Authority"
          ],
          [
           "ECC 256K1"
          ],
          [
           "Leased POS"
          ]
         ],
         "hovertemplate": "<b>%{hovertext}</b><br><br>Class=%{marker.color}<br>PC 1=%{x}<br>PC 2=%{y}<br>PC 3=%{z}<br>Algorithm=%{customdata[0]}<extra></extra>",
         "hovertext": [
          "Vechain",
          "BiblePay",
          "LitecoinCash",
          "Poa Network",
          "Acute Angle Cloud",
          "Waves"
         ],
         "legendgroup": "3",
         "marker": {
          "color": [
           3,
           3,
           3,
           3,
           3,
           3
          ],
          "coloraxis": "coloraxis",
          "symbol": "square"
         },
         "mode": "markers",
         "name": "3",
         "scene": "scene",
         "showlegend": true,
         "type": "scatter3d",
         "x": [
          4.403695093209789,
          -0.17528560576256544,
          -0.3881522133419149,
          -0.3414476438203682,
          -0.36883287410176424,
          -0.3919236321937934
         ],
         "y": [
          2.4317712864723213,
          2.994348082188059,
          3.4089347480243823,
          2.895314159289333,
          3.8483370172736686,
          2.816269371286539
         ],
         "z": [
          10.741470714051458,
          9.601552874517694,
          15.08307114977093,
          7.460230553096419,
          18.16489823233283,
          13.040638975862826
         ]
        },
        {
         "customdata": [
          [
           "TRC10"
          ]
         ],
         "hovertemplate": "<b>%{hovertext}</b><br><br>Class=%{marker.color}<br>PC 1=%{x}<br>PC 2=%{y}<br>PC 3=%{z}<br>Algorithm=%{customdata[0]}<extra></extra>",
         "hovertext": [
          "BitTorrent"
         ],
         "legendgroup": "2",
         "marker": {
          "color": [
           2
          ],
          "coloraxis": "coloraxis",
          "symbol": "x"
         },
         "mode": "markers",
         "name": "2",
         "scene": "scene",
         "showlegend": true,
         "type": "scatter3d",
         "x": [
          34.033092745335715
         ],
         "y": [
          1.7725873367220502
         ],
         "z": [
          -1.229371370011119
         ]
        }
       ],
       "layout": {
        "coloraxis": {
         "colorbar": {
          "title": {
           "text": "Class"
          }
         },
         "colorscale": [
          [
           0,
           "#0d0887"
          ],
          [
           0.1111111111111111,
           "#46039f"
          ],
          [
           0.2222222222222222,
           "#7201a8"
          ],
          [
           0.3333333333333333,
           "#9c179e"
          ],
          [
           0.4444444444444444,
           "#bd3786"
          ],
          [
           0.5555555555555556,
           "#d8576b"
          ],
          [
           0.6666666666666666,
           "#ed7953"
          ],
          [
           0.7777777777777778,
           "#fb9f3a"
          ],
          [
           0.8888888888888888,
           "#fdca26"
          ],
          [
           1,
           "#f0f921"
          ]
         ]
        },
        "legend": {
         "title": {
          "text": "Class"
         },
         "tracegroupgap": 0,
         "x": 0,
         "y": 1
        },
        "margin": {
         "t": 60
        },
        "scene": {
         "domain": {
          "x": [
           0,
           1
          ],
          "y": [
           0,
           1
          ]
         },
         "xaxis": {
          "title": {
           "text": "PC 1"
          }
         },
         "yaxis": {
          "title": {
           "text": "PC 2"
          }
         },
         "zaxis": {
          "title": {
           "text": "PC 3"
          }
         }
        },
        "template": {
         "data": {
          "bar": [
           {
            "error_x": {
             "color": "#2a3f5f"
            },
            "error_y": {
             "color": "#2a3f5f"
            },
            "marker": {
             "line": {
              "color": "#E5ECF6",
              "width": 0.5
             }
            },
            "type": "bar"
           }
          ],
          "barpolar": [
           {
            "marker": {
             "line": {
              "color": "#E5ECF6",
              "width": 0.5
             }
            },
            "type": "barpolar"
           }
          ],
          "carpet": [
           {
            "aaxis": {
             "endlinecolor": "#2a3f5f",
             "gridcolor": "white",
             "linecolor": "white",
             "minorgridcolor": "white",
             "startlinecolor": "#2a3f5f"
            },
            "baxis": {
             "endlinecolor": "#2a3f5f",
             "gridcolor": "white",
             "linecolor": "white",
             "minorgridcolor": "white",
             "startlinecolor": "#2a3f5f"
            },
            "type": "carpet"
           }
          ],
          "choropleth": [
           {
            "colorbar": {
             "outlinewidth": 0,
             "ticks": ""
            },
            "type": "choropleth"
           }
          ],
          "contour": [
           {
            "colorbar": {
             "outlinewidth": 0,
             "ticks": ""
            },
            "colorscale": [
             [
              0,
              "#0d0887"
             ],
             [
              0.1111111111111111,
              "#46039f"
             ],
             [
              0.2222222222222222,
              "#7201a8"
             ],
             [
              0.3333333333333333,
              "#9c179e"
             ],
             [
              0.4444444444444444,
              "#bd3786"
             ],
             [
              0.5555555555555556,
              "#d8576b"
             ],
             [
              0.6666666666666666,
              "#ed7953"
             ],
             [
              0.7777777777777778,
              "#fb9f3a"
             ],
             [
              0.8888888888888888,
              "#fdca26"
             ],
             [
              1,
              "#f0f921"
             ]
            ],
            "type": "contour"
           }
          ],
          "contourcarpet": [
           {
            "colorbar": {
             "outlinewidth": 0,
             "ticks": ""
            },
            "type": "contourcarpet"
           }
          ],
          "heatmap": [
           {
            "colorbar": {
             "outlinewidth": 0,
             "ticks": ""
            },
            "colorscale": [
             [
              0,
              "#0d0887"
             ],
             [
              0.1111111111111111,
              "#46039f"
             ],
             [
              0.2222222222222222,
              "#7201a8"
             ],
             [
              0.3333333333333333,
              "#9c179e"
             ],
             [
              0.4444444444444444,
              "#bd3786"
             ],
             [
              0.5555555555555556,
              "#d8576b"
             ],
             [
              0.6666666666666666,
              "#ed7953"
             ],
             [
              0.7777777777777778,
              "#fb9f3a"
             ],
             [
              0.8888888888888888,
              "#fdca26"
             ],
             [
              1,
              "#f0f921"
             ]
            ],
            "type": "heatmap"
           }
          ],
          "heatmapgl": [
           {
            "colorbar": {
             "outlinewidth": 0,
             "ticks": ""
            },
            "colorscale": [
             [
              0,
              "#0d0887"
             ],
             [
              0.1111111111111111,
              "#46039f"
             ],
             [
              0.2222222222222222,
              "#7201a8"
             ],
             [
              0.3333333333333333,
              "#9c179e"
             ],
             [
              0.4444444444444444,
              "#bd3786"
             ],
             [
              0.5555555555555556,
              "#d8576b"
             ],
             [
              0.6666666666666666,
              "#ed7953"
             ],
             [
              0.7777777777777778,
              "#fb9f3a"
             ],
             [
              0.8888888888888888,
              "#fdca26"
             ],
             [
              1,
              "#f0f921"
             ]
            ],
            "type": "heatmapgl"
           }
          ],
          "histogram": [
           {
            "marker": {
             "colorbar": {
              "outlinewidth": 0,
              "ticks": ""
             }
            },
            "type": "histogram"
           }
          ],
          "histogram2d": [
           {
            "colorbar": {
             "outlinewidth": 0,
             "ticks": ""
            },
            "colorscale": [
             [
              0,
              "#0d0887"
             ],
             [
              0.1111111111111111,
              "#46039f"
             ],
             [
              0.2222222222222222,
              "#7201a8"
             ],
             [
              0.3333333333333333,
              "#9c179e"
             ],
             [
              0.4444444444444444,
              "#bd3786"
             ],
             [
              0.5555555555555556,
              "#d8576b"
             ],
             [
              0.6666666666666666,
              "#ed7953"
             ],
             [
              0.7777777777777778,
              "#fb9f3a"
             ],
             [
              0.8888888888888888,
              "#fdca26"
             ],
             [
              1,
              "#f0f921"
             ]
            ],
            "type": "histogram2d"
           }
          ],
          "histogram2dcontour": [
           {
            "colorbar": {
             "outlinewidth": 0,
             "ticks": ""
            },
            "colorscale": [
             [
              0,
              "#0d0887"
             ],
             [
              0.1111111111111111,
              "#46039f"
             ],
             [
              0.2222222222222222,
              "#7201a8"
             ],
             [
              0.3333333333333333,
              "#9c179e"
             ],
             [
              0.4444444444444444,
              "#bd3786"
             ],
             [
              0.5555555555555556,
              "#d8576b"
             ],
             [
              0.6666666666666666,
              "#ed7953"
             ],
             [
              0.7777777777777778,
              "#fb9f3a"
             ],
             [
              0.8888888888888888,
              "#fdca26"
             ],
             [
              1,
              "#f0f921"
             ]
            ],
            "type": "histogram2dcontour"
           }
          ],
          "mesh3d": [
           {
            "colorbar": {
             "outlinewidth": 0,
             "ticks": ""
            },
            "type": "mesh3d"
           }
          ],
          "parcoords": [
           {
            "line": {
             "colorbar": {
              "outlinewidth": 0,
              "ticks": ""
             }
            },
            "type": "parcoords"
           }
          ],
          "pie": [
           {
            "automargin": true,
            "type": "pie"
           }
          ],
          "scatter": [
           {
            "marker": {
             "colorbar": {
              "outlinewidth": 0,
              "ticks": ""
             }
            },
            "type": "scatter"
           }
          ],
          "scatter3d": [
           {
            "line": {
             "colorbar": {
              "outlinewidth": 0,
              "ticks": ""
             }
            },
            "marker": {
             "colorbar": {
              "outlinewidth": 0,
              "ticks": ""
             }
            },
            "type": "scatter3d"
           }
          ],
          "scattercarpet": [
           {
            "marker": {
             "colorbar": {
              "outlinewidth": 0,
              "ticks": ""
             }
            },
            "type": "scattercarpet"
           }
          ],
          "scattergeo": [
           {
            "marker": {
             "colorbar": {
              "outlinewidth": 0,
              "ticks": ""
             }
            },
            "type": "scattergeo"
           }
          ],
          "scattergl": [
           {
            "marker": {
             "colorbar": {
              "outlinewidth": 0,
              "ticks": ""
             }
            },
            "type": "scattergl"
           }
          ],
          "scattermapbox": [
           {
            "marker": {
             "colorbar": {
              "outlinewidth": 0,
              "ticks": ""
             }
            },
            "type": "scattermapbox"
           }
          ],
          "scatterpolar": [
           {
            "marker": {
             "colorbar": {
              "outlinewidth": 0,
              "ticks": ""
             }
            },
            "type": "scatterpolar"
           }
          ],
          "scatterpolargl": [
           {
            "marker": {
             "colorbar": {
              "outlinewidth": 0,
              "ticks": ""
             }
            },
            "type": "scatterpolargl"
           }
          ],
          "scatterternary": [
           {
            "marker": {
             "colorbar": {
              "outlinewidth": 0,
              "ticks": ""
             }
            },
            "type": "scatterternary"
           }
          ],
          "surface": [
           {
            "colorbar": {
             "outlinewidth": 0,
             "ticks": ""
            },
            "colorscale": [
             [
              0,
              "#0d0887"
             ],
             [
              0.1111111111111111,
              "#46039f"
             ],
             [
              0.2222222222222222,
              "#7201a8"
             ],
             [
              0.3333333333333333,
              "#9c179e"
             ],
             [
              0.4444444444444444,
              "#bd3786"
             ],
             [
              0.5555555555555556,
              "#d8576b"
             ],
             [
              0.6666666666666666,
              "#ed7953"
             ],
             [
              0.7777777777777778,
              "#fb9f3a"
             ],
             [
              0.8888888888888888,
              "#fdca26"
             ],
             [
              1,
              "#f0f921"
             ]
            ],
            "type": "surface"
           }
          ],
          "table": [
           {
            "cells": {
             "fill": {
              "color": "#EBF0F8"
             },
             "line": {
              "color": "white"
             }
            },
            "header": {
             "fill": {
              "color": "#C8D4E3"
             },
             "line": {
              "color": "white"
             }
            },
            "type": "table"
           }
          ]
         },
         "layout": {
          "annotationdefaults": {
           "arrowcolor": "#2a3f5f",
           "arrowhead": 0,
           "arrowwidth": 1
          },
          "coloraxis": {
           "colorbar": {
            "outlinewidth": 0,
            "ticks": ""
           }
          },
          "colorscale": {
           "diverging": [
            [
             0,
             "#8e0152"
            ],
            [
             0.1,
             "#c51b7d"
            ],
            [
             0.2,
             "#de77ae"
            ],
            [
             0.3,
             "#f1b6da"
            ],
            [
             0.4,
             "#fde0ef"
            ],
            [
             0.5,
             "#f7f7f7"
            ],
            [
             0.6,
             "#e6f5d0"
            ],
            [
             0.7,
             "#b8e186"
            ],
            [
             0.8,
             "#7fbc41"
            ],
            [
             0.9,
             "#4d9221"
            ],
            [
             1,
             "#276419"
            ]
           ],
           "sequential": [
            [
             0,
             "#0d0887"
            ],
            [
             0.1111111111111111,
             "#46039f"
            ],
            [
             0.2222222222222222,
             "#7201a8"
            ],
            [
             0.3333333333333333,
             "#9c179e"
            ],
            [
             0.4444444444444444,
             "#bd3786"
            ],
            [
             0.5555555555555556,
             "#d8576b"
            ],
            [
             0.6666666666666666,
             "#ed7953"
            ],
            [
             0.7777777777777778,
             "#fb9f3a"
            ],
            [
             0.8888888888888888,
             "#fdca26"
            ],
            [
             1,
             "#f0f921"
            ]
           ],
           "sequentialminus": [
            [
             0,
             "#0d0887"
            ],
            [
             0.1111111111111111,
             "#46039f"
            ],
            [
             0.2222222222222222,
             "#7201a8"
            ],
            [
             0.3333333333333333,
             "#9c179e"
            ],
            [
             0.4444444444444444,
             "#bd3786"
            ],
            [
             0.5555555555555556,
             "#d8576b"
            ],
            [
             0.6666666666666666,
             "#ed7953"
            ],
            [
             0.7777777777777778,
             "#fb9f3a"
            ],
            [
             0.8888888888888888,
             "#fdca26"
            ],
            [
             1,
             "#f0f921"
            ]
           ]
          },
          "colorway": [
           "#636efa",
           "#EF553B",
           "#00cc96",
           "#ab63fa",
           "#FFA15A",
           "#19d3f3",
           "#FF6692",
           "#B6E880",
           "#FF97FF",
           "#FECB52"
          ],
          "font": {
           "color": "#2a3f5f"
          },
          "geo": {
           "bgcolor": "white",
           "lakecolor": "white",
           "landcolor": "#E5ECF6",
           "showlakes": true,
           "showland": true,
           "subunitcolor": "white"
          },
          "hoverlabel": {
           "align": "left"
          },
          "hovermode": "closest",
          "mapbox": {
           "style": "light"
          },
          "paper_bgcolor": "white",
          "plot_bgcolor": "#E5ECF6",
          "polar": {
           "angularaxis": {
            "gridcolor": "white",
            "linecolor": "white",
            "ticks": ""
           },
           "bgcolor": "#E5ECF6",
           "radialaxis": {
            "gridcolor": "white",
            "linecolor": "white",
            "ticks": ""
           }
          },
          "scene": {
           "xaxis": {
            "backgroundcolor": "#E5ECF6",
            "gridcolor": "white",
            "gridwidth": 2,
            "linecolor": "white",
            "showbackground": true,
            "ticks": "",
            "zerolinecolor": "white"
           },
           "yaxis": {
            "backgroundcolor": "#E5ECF6",
            "gridcolor": "white",
            "gridwidth": 2,
            "linecolor": "white",
            "showbackground": true,
            "ticks": "",
            "zerolinecolor": "white"
           },
           "zaxis": {
            "backgroundcolor": "#E5ECF6",
            "gridcolor": "white",
            "gridwidth": 2,
            "linecolor": "white",
            "showbackground": true,
            "ticks": "",
            "zerolinecolor": "white"
           }
          },
          "shapedefaults": {
           "line": {
            "color": "#2a3f5f"
           }
          },
          "ternary": {
           "aaxis": {
            "gridcolor": "white",
            "linecolor": "white",
            "ticks": ""
           },
           "baxis": {
            "gridcolor": "white",
            "linecolor": "white",
            "ticks": ""
           },
           "bgcolor": "#E5ECF6",
           "caxis": {
            "gridcolor": "white",
            "linecolor": "white",
            "ticks": ""
           }
          },
          "title": {
           "x": 0.05
          },
          "xaxis": {
           "automargin": true,
           "gridcolor": "white",
           "linecolor": "white",
           "ticks": "",
           "title": {
            "standoff": 15
           },
           "zerolinecolor": "white",
           "zerolinewidth": 2
          },
          "yaxis": {
           "automargin": true,
           "gridcolor": "white",
           "linecolor": "white",
           "ticks": "",
           "title": {
            "standoff": 15
           },
           "zerolinecolor": "white",
           "zerolinewidth": 2
          }
         }
        },
        "width": 800
       }
      },
      "text/html": [
       "<div>                            <div id=\"2169ea07-a1a5-4289-b3b1-600979877b63\" class=\"plotly-graph-div\" style=\"height:525px; width:800px;\"></div>            <script type=\"text/javascript\">                require([\"plotly\"], function(Plotly) {                    window.PLOTLYENV=window.PLOTLYENV || {};                                    if (document.getElementById(\"2169ea07-a1a5-4289-b3b1-600979877b63\")) {                    Plotly.newPlot(                        \"2169ea07-a1a5-4289-b3b1-600979877b63\",                        [{\"customdata\": [[\"Scrypt\"], [\"Scrypt\"], [\"X13\"], [\"X11\"], [\"SHA-512\"], [\"SHA-256\"], [\"SHA-256\"], [\"X15\"], [\"Scrypt\"], [\"Scrypt\"], [\"Scrypt\"], [\"Scrypt\"], [\"Scrypt\"], [\"Scrypt\"], [\"Groestl\"], [\"PoS\"], [\"Scrypt\"], [\"Scrypt\"], [\"X11\"], [\"X11\"], [\"SHA3\"], [\"Scrypt\"], [\"SHA-256\"], [\"Scrypt\"], [\"X13\"], [\"X13\"], [\"NeoScrypt\"], [\"Scrypt\"], [\"Scrypt\"], [\"Scrypt\"], [\"X11\"], [\"X11\"], [\"Multiple\"], [\"PHI1612\"], [\"X11\"], [\"Scrypt\"], [\"Scrypt\"], [\"Scrypt\"], [\"X11\"], [\"Multiple\"], [\"X13\"], [\"Scrypt\"], [\"Shabal256\"], [\"Counterparty\"], [\"SHA-256\"], [\"Groestl\"], [\"Scrypt\"], [\"X13\"], [\"Scrypt\"], [\"Scrypt\"], [\"X13\"], [\"X11\"], [\"Scrypt\"], [\"X11\"], [\"SHA3\"], [\"QUAIT\"], [\"X11\"], [\"Scrypt\"], [\"X13\"], [\"SHA-256\"], [\"X15\"], [\"BLAKE256\"], [\"SHA-256\"], [\"X11\"], [\"SHA-256\"], [\"NIST5\"], [\"Scrypt\"], [\"Scrypt\"], [\"X11\"], [\"Scrypt\"], [\"SHA-256\"], [\"Scrypt\"], [\"PoS\"], [\"X11\"], [\"SHA-256\"], [\"SHA-256\"], [\"NIST5\"], [\"X11\"], [\"POS 3.0\"], [\"Scrypt\"], [\"Scrypt\"], [\"Scrypt\"], [\"X13\"], [\"X11\"], [\"X11\"], [\"Scrypt\"], [\"SHA-256\"], [\"X11\"], [\"Scrypt\"], [\"Scrypt\"], [\"Scrypt\"], [\"Scrypt\"], [\"SHA-256D\"], [\"PoS\"], [\"Scrypt\"], [\"X11\"], [\"PoS\"], [\"X13\"], [\"X14\"], [\"PoS\"], [\"SHA-256D\"], [\"DPoS\"], [\"X11\"], [\"X13\"], [\"X11\"], [\"PoS\"], [\"Scrypt\"], [\"Scrypt\"], [\"PoS\"], [\"X11\"], [\"SHA-256\"], [\"Scrypt\"], [\"X11\"], [\"Scrypt\"], [\"Scrypt\"], [\"X11\"], [\"Scrypt\"], [\"Scrypt\"], [\"Scrypt\"], [\"Scrypt\"], [\"Quark\"], [\"QuBit\"], [\"Scrypt\"], [\"SHA-256\"], [\"X11\"], [\"Scrypt\"], [\"Scrypt\"], [\"Scrypt\"], [\"Scrypt\"], [\"X13\"], [\"Scrypt\"], [\"Scrypt\"], [\"X11\"], [\"Blake2S\"], [\"X11\"], [\"PoS\"], [\"X11\"], [\"PoS\"], [\"X11\"], [\"Scrypt\"], [\"Scrypt\"], [\"Scrypt\"], [\"SHA-256\"], [\"X11\"], [\"Scrypt\"], [\"PoS\"], [\"Scrypt\"], [\"X15\"], [\"SHA-256\"], [\"POS 3.0\"], [\"536\"], [\"NIST5\"], [\"NIST5\"], [\"Skein\"], [\"X13\"], [\"Scrypt\"], [\"X13\"], [\"SkunkHash v2 Raptor\"], [\"Skein\"], [\"X11\"], [\"Scrypt\"], [\"PoS\"], [\"Scrypt\"], [\"Scrypt\"], [\"SHA-512\"], [\"Ouroboros\"], [\"X11\"], [\"NeoScrypt\"], [\"Scrypt\"], [\"Lyra2REv2\"], [\"Scrypt\"], [\"SHA-256\"], [\"NIST5\"], [\"PHI1612\"], [\"Scrypt\"], [\"Quark\"], [\"POS 2.0\"], [\"Scrypt\"], [\"SHA-256\"], [\"X11\"], [\"DPoS\"], [\"NIST5\"], [\"X13\"], [\"Scrypt\"], [\"NIST5\"], [\"Quark\"], [\"Scrypt\"], [\"Scrypt\"], [\"X11\"], [\"Quark\"], [\"Scrypt\"], [\"Scrypt\"], [\"X11\"], [\"POS 3.0\"], [\"Ethash\"], [\"Scrypt\"], [\"Scrypt\"], [\"X13\"], [\"C11\"], [\"X11\"], [\"XEVAN\"], [\"Scrypt\"], [\"VBFT\"], [\"NIST5\"], [\"Scrypt\"], [\"Scrypt\"], [\"Scrypt\"], [\"Green Protocol\"], [\"PoS\"], [\"Scrypt\"], [\"Semux BFT consensus\"], [\"Quark\"], [\"PoS\"], [\"X16R\"], [\"Scrypt\"], [\"XEVAN\"], [\"Scrypt\"], [\"Scrypt\"], [\"Scrypt\"], [\"SHA-256D\"], [\"Scrypt\"], [\"X15\"], [\"Scrypt\"], [\"Quark\"], [\"SHA-256\"], [\"DPoS\"], [\"X16R\"], [\"Quark\"], [\"Quark\"], [\"Scrypt\"], [\"Lyra2REv2\"], [\"Quark\"], [\"Scrypt\"], [\"X11\"], [\"X11\"], [\"Scrypt\"], [\"PoS\"], [\"Keccak\"], [\"X11\"], [\"Scrypt\"], [\"SHA-512\"], [\"XEVAN\"], [\"XEVAN\"], [\"X11\"], [\"Quark\"], [\"Scrypt\"], [\"Quark\"], [\"Quark\"], [\"Scrypt\"], [\"X11\"], [\"Scrypt\"], [\"XEVAN\"], [\"SHA-256D\"], [\"X11\"], [\"X11\"], [\"DPoS\"], [\"Scrypt\"], [\"X11\"], [\"Scrypt\"], [\"Scrypt\"], [\"SHA-256\"], [\"Scrypt\"], [\"X11\"], [\"Scrypt\"], [\"SHA-256\"], [\"X11\"], [\"Scrypt\"], [\"Scrypt\"], [\"X11\"], [\"Scrypt\"], [\"PoS\"], [\"X11\"], [\"SHA-256\"], [\"DPoS\"], [\"Scrypt\"], [\"Scrypt\"], [\"NeoScrypt\"], [\"X13\"], [\"DPoS\"], [\"DPoS\"], [\"SHA-256\"], [\"PoS\"], [\"PoS\"], [\"SHA-256\"], [\"Scrypt\"], [\"Scrypt\"]], \"hovertemplate\": \"<b>%{hovertext}</b><br><br>Class=%{marker.color}<br>PC 1=%{x}<br>PC 2=%{y}<br>PC 3=%{z}<br>Algorithm=%{customdata[0]}<extra></extra>\", \"hovertext\": [\"42 Coin\", \"404Coin\", \"EliteCoin\", \"Dash\", \"Bitshares\", \"BitcoinDark\", \"PayCoin\", \"KoboCoin\", \"Aurora Coin\", \"BlueCoin\", \"EnergyCoin\", \"BitBar\", \"CryptoBullion\", \"CasinoCoin\", \"Diamond\", \"Exclusive Coin\", \"FlutterCoin\", \"HoboNickels\", \"HyperStake\", \"IOCoin\", \"MaxCoin\", \"MintCoin\", \"MazaCoin\", \"Nautilus Coin\", \"NavCoin\", \"OpalCoin\", \"Orbitcoin\", \"PotCoin\", \"PhoenixCoin\", \"Reddcoin\", \"SuperCoin\", \"SyncCoin\", \"TeslaCoin\", \"TittieCoin\", \"TorCoin\", \"UnitaryStatus Dollar\", \"UltraCoin\", \"VeriCoin\", \"X11 Coin\", \"Crypti\", \"StealthCoin\", \"ZCC Coin\", \"BurstCoin\", \"StorjCoin\", \"Neutron\", \"FairCoin\", \"RubyCoin\", \"Kore\", \"Dnotes\", \"8BIT Coin\", \"Sativa Coin\", \"Ucoin\", \"Vtorrent\", \"IslaCoin\", \"Nexus\", \"Droidz\", \"Squall Coin\", \"Diggits\", \"Paycon\", \"Emercoin\", \"EverGreenCoin\", \"Decred\", \"EDRCoin\", \"Hitcoin\", \"DubaiCoin\", \"PWR Coin\", \"BillaryCoin\", \"GPU Coin\", \"EuropeCoin\", \"ZeitCoin\", \"SwingCoin\", \"SafeExchangeCoin\", \"Nebuchadnezzar\", \"Ratecoin\", \"Revenu\", \"Clockcoin\", \"VIP Tokens\", \"BitSend\", \"Let it Ride\", \"PutinCoin\", \"iBankCoin\", \"Frankywillcoin\", \"MudraCoin\", \"Lutetium Coin\", \"GoldBlocks\", \"CarterCoin\", \"BitTokens\", \"MustangCoin\", \"ZoneCoin\", \"RootCoin\", \"BitCurrency\", \"Swiscoin\", \"BuzzCoin\", \"Opair\", \"PesoBit\", \"Halloween Coin\", \"CoffeeCoin\", \"RoyalCoin\", \"GanjaCoin V2\", \"TeamUP\", \"LanaCoin\", \"ARK\", \"InsaneCoin\", \"EmberCoin\", \"XenixCoin\", \"FreeCoin\", \"PLNCoin\", \"AquariusCoin\", \"Creatio\", \"Eternity\", \"Eurocoin\", \"BitcoinFast\", \"Stakenet\", \"BitConnect Coin\", \"MoneyCoin\", \"Enigma\", \"Russiacoin\", \"PandaCoin\", \"GameUnits\", \"GAKHcoin\", \"Allsafe\", \"LiteCreed\", \"Klingon Empire Darsek\", \"Internet of People\", \"KushCoin\", \"Printerium\", \"Impeach\", \"Zilbercoin\", \"FirstCoin\", \"FindCoin\", \"OpenChat\", \"RenosCoin\", \"VirtacoinPlus\", \"TajCoin\", \"Impact\", \"Atmos\", \"HappyCoin\", \"MacronCoin\", \"Condensate\", \"Independent Money System\", \"ArgusCoin\", \"LomoCoin\", \"ProCurrency\", \"GoldReserve\", \"GrowthCoin\", \"Phreak\", \"Degas Coin\", \"HTML5 Coin\", \"Ultimate Secure Cash\", \"QTUM\", \"Espers\", \"Denarius\", \"Virta Unique Coin\", \"Bitcoin Planet\", \"BritCoin\", \"Linda\", \"DeepOnion\", \"Signatum\", \"Cream\", \"Monoeci\", \"Draftcoin\", \"Stakecoin\", \"CoinonatX\", \"Ethereum Dark\", \"Obsidian\", \"Cardano\", \"Regalcoin\", \"TrezarCoin\", \"TerraNovaCoin\", \"Rupee\", \"WomenCoin\", \"Theresa May Coin\", \"NamoCoin\", \"LUXCoin\", \"Xios\", \"Bitcloud 2.0\", \"KekCoin\", \"BlackholeCoin\", \"Infinity Economics\", \"Magnet\", \"Lamden Tau\", \"Electra\", \"Bitcoin Diamond\", \"Cash & Back Coin\", \"Bulwark\", \"Kalkulus\", \"GermanCoin\", \"LiteCoin Ultra\", \"PhantomX\", \"Digiwage\", \"Trollcoin\", \"Litecoin Plus\", \"Monkey Project\", \"TokenPay\", \"1717 Masonic Commemorative Token\", \"My Big Coin\", \"Unified Society USDEX\", \"Tokyo Coin\", \"Stipend\", \"Pushi\", \"Ellerium\", \"Velox\", \"Ontology\", \"Bitspace\", \"Briacoin\", \"Ignition\", \"MedicCoin\", \"Bitcoin Green\", \"Deviant Coin\", \"Abjcoin\", \"Semux\", \"Carebit\", \"Zealium\", \"Proton\", \"iDealCash\", \"Bitcoin Incognito\", \"HollyWoodCoin\", \"Swisscoin\", \"Xt3ch\", \"TheVig\", \"EmaratCoin\", \"Dekado\", \"Lynx\", \"Poseidon Quark\", \"BitcoinWSpectrum\", \"Muse\", \"Trivechain\", \"Dystem\", \"Giant\", \"Peony Coin\", \"Absolute Coin\", \"Vitae\", \"TPCash\", \"ARENON\", \"EUNO\", \"MMOCoin\", \"Ketan\", \"XDNA\", \"PAXEX\", \"ThunderStake\", \"Kcash\", \"Bettex coin\", \"BitMoney\", \"Junson Ming Chan Coin\", \"HerbCoin\", \"Oduwa\", \"Galilel\", \"Crypto Sports\", \"Credit\", \"Dash Platinum\", \"Nasdacoin\", \"Beetle Coin\", \"Titan Coin\", \"Award\", \"Insane Coin\", \"ALAX\", \"LiteDoge\", \"TruckCoin\", \"OrangeCoin\", \"BitstarCoin\", \"NeosCoin\", \"HyperCoin\", \"PinkCoin\", \"AudioCoin\", \"IncaKoin\", \"Piggy Coin\", \"Genstake\", \"XiaoMiCoin\", \"CapriCoin\", \" ClubCoin\", \"Radium\", \"Creditbit \", \"OKCash\", \"Lisk\", \"HiCoin\", \"WhiteCoin\", \"FriendshipCoin\", \"Triangles Coin\", \"EOS\", \"Oxycoin\", \"TigerCash\", \"Particl\", \"Nxt\", \"ZEPHYR\", \"Gapcoin\", \"BitcoinPlus\"], \"legendgroup\": \"1\", \"marker\": {\"color\": [1, 1, 1, 1, 1, 1, 1, 1, 1, 1, 1, 1, 1, 1, 1, 1, 1, 1, 1, 1, 1, 1, 1, 1, 1, 1, 1, 1, 1, 1, 1, 1, 1, 1, 1, 1, 1, 1, 1, 1, 1, 1, 1, 1, 1, 1, 1, 1, 1, 1, 1, 1, 1, 1, 1, 1, 1, 1, 1, 1, 1, 1, 1, 1, 1, 1, 1, 1, 1, 1, 1, 1, 1, 1, 1, 1, 1, 1, 1, 1, 1, 1, 1, 1, 1, 1, 1, 1, 1, 1, 1, 1, 1, 1, 1, 1, 1, 1, 1, 1, 1, 1, 1, 1, 1, 1, 1, 1, 1, 1, 1, 1, 1, 1, 1, 1, 1, 1, 1, 1, 1, 1, 1, 1, 1, 1, 1, 1, 1, 1, 1, 1, 1, 1, 1, 1, 1, 1, 1, 1, 1, 1, 1, 1, 1, 1, 1, 1, 1, 1, 1, 1, 1, 1, 1, 1, 1, 1, 1, 1, 1, 1, 1, 1, 1, 1, 1, 1, 1, 1, 1, 1, 1, 1, 1, 1, 1, 1, 1, 1, 1, 1, 1, 1, 1, 1, 1, 1, 1, 1, 1, 1, 1, 1, 1, 1, 1, 1, 1, 1, 1, 1, 1, 1, 1, 1, 1, 1, 1, 1, 1, 1, 1, 1, 1, 1, 1, 1, 1, 1, 1, 1, 1, 1, 1, 1, 1, 1, 1, 1, 1, 1, 1, 1, 1, 1, 1, 1, 1, 1, 1, 1, 1, 1, 1, 1, 1, 1, 1, 1, 1, 1, 1, 1, 1, 1, 1, 1, 1, 1, 1, 1, 1, 1, 1, 1, 1, 1, 1, 1, 1, 1, 1, 1, 1, 1, 1, 1, 1, 1, 1, 1, 1, 1, 1, 1], \"coloraxis\": \"coloraxis\", \"symbol\": \"circle\"}, \"mode\": \"markers\", \"name\": \"1\", \"scene\": \"scene\", \"showlegend\": true, \"type\": \"scatter3d\", \"x\": [-0.3363655129815999, -0.319729178849877, 2.2984148796925647, -0.3928636325966567, -0.29267136928485754, -0.3120524454777994, -0.26886645602696074, -0.23851812783303342, -0.3360256486236545, -0.32861355602986897, -0.3348641890276945, -0.33636145727358696, -0.3363457627931686, 0.6866627406334977, -0.37190209115840117, -0.35470052844971556, -0.2837191407167389, -0.33442759230509284, -0.329529483531194, -0.3927584761380355, -0.4070972190393742, -0.03346421044940445, -0.275421820677643, -0.2929310856355831, -0.2803797460345572, -0.281001083825376, -0.34553751620218665, -0.33067779429799055, -0.3347699713323772, 0.021274541046739284, -0.34938824740989477, -0.3931294206536499, -0.2481314176150556, -0.31255757705492954, -0.39304123274196073, -0.31164006284744594, -0.33504524867488783, -0.29324389089520236, -0.39300573660189636, -0.24859801435923037, -0.2807822540560626, -0.3274859582429667, 0.07387477440282213, -0.3519720692307862, -0.31126548793367864, -0.3713244426234364, -0.29291129388928056, -0.28107642348574186, -0.2875752494809801, -0.33634760662482427, -0.2810286661389635, -0.3498325665300702, -0.33608245759879884, -0.3931109754073364, -0.39585928093146233, -0.41416215741356127, -0.37274709084546054, -0.2913155567300036, -0.28055116813295305, -0.304624360447968, -0.24095457816741367, -0.0796175733969983, -0.3120234001548351, -0.07116005754952681, -0.31208694934669884, -0.23118937664616798, -0.33595861892499995, -0.29118537540531286, -0.3902860131112004, 0.85813202338142, -0.3118874359977647, -0.04289859981133236, -0.3543843431806, -0.3909573577489414, -0.310633630528932, -0.3083066037685774, -0.35237852845219425, -0.3918486167566779, -0.35546513012897, -0.3122978119779078, -0.3359966746467735, -0.3344381349965638, -0.23658758489741671, -0.33734398514012226, -0.3925858618512283, -0.33520223801630905, -0.3120679792515038, -0.3931001967713268, -0.3361854580126192, -0.33634184779806736, -0.29117388947890677, -0.24933369343601358, 0.032849975414365844, -0.3533431462000283, -0.33595654499610145, -0.37928926729459883, -0.3526725595710275, -0.23801522124375282, -0.40579637334066815, -0.3524231255556365, -0.2811745320473801, 3.7666975392724082, -0.3926934422071995, 0.8495484339414312, -0.3930551738835929, -0.3538061295422395, -0.3358843896656718, -0.3360385165442953, -0.3543843431806, -0.39263094898121237, -0.3119308396287301, -0.33588509740812683, -0.37581125759074824, -0.33603225722232977, -0.33162951293534854, -0.39308413275249726, -0.33524463263981547, 0.3492806094484517, -0.33623118094938864, -0.33630160597704134, -0.3562527361163284, -0.3561382759111035, -0.33253608209539876, -0.31204442597756504, -0.3929942316481315, -0.33607981019862077, -0.3362065949839045, -0.29281820377325274, -0.2887318824182702, -0.23778345919615076, -0.3170917258457473, -0.29255959640197277, -0.39226144853284883, -0.4127280940704195, -0.39100163489313805, -0.35263379372936715, -0.39215947675581636, -0.3470429631474649, -0.38810810229528875, -0.33614995741927556, -0.33614918466563215, -0.3292852895161558, 0.2626847358632774, -0.3926369920267834, -0.27549413326098704, -0.35441863828211145, -0.3353621609909415, 0.8913918804875272, -0.2675596186036088, -0.35424551718361724, 0.577744763605301, -0.3539116357866304, -0.3524164994194904, -0.4102346671532592, -0.2807142990710973, 0.12768582227632477, -0.2807849179939677, -0.3445080459854859, -0.40974024601683073, -0.39290884569520057, -0.29289211813666777, -0.3542852544673923, -0.33578579673989506, -0.33628456388172834, -0.35063699618581673, 0.657444403292675, -0.3928498418656744, -0.34054569928636397, -0.33624029765342045, -0.31821238962660486, 0.43167685471966694, -0.3103933986688265, -0.3387056345002839, -0.39121670368453043, -0.3361907317075572, -0.3978202440670199, -0.351317061849876, -0.3360612821434968, -0.09563713024552392, -0.39164475816372574, 3.7715449149051454, 0.2046505430928394, -0.2774613668922032, -0.3335260658785624, -0.3105530098075069, -0.35613882415609555, 0.07725935894606462, -0.3352016812494145, -0.3922246256535282, -0.3553052194282867, -0.3227885231445045, -0.336306663404102, -0.34980454021554197, -0.3557466102363411, -0.27637324842860644, -0.29513569383356947, -0.33185927150299727, -0.2295945391591034, -0.36577122758226505, -0.39292614221454764, -0.3368573948372751, -0.29205379853759256, -0.3186256537937111, -0.3535113530787661, -0.3363339749210002, -0.3363157212939749, -0.28644493159702117, -0.3422337202955451, -0.3538804089903234, -0.3360327512536351, 3.964251130309162, -0.3964901385937989, -0.354068774610916, -0.31905690095547556, -0.28300194410542134, -0.31662702871698756, -0.2925867982382819, -0.13977287674851432, -0.29283859061632894, -0.34636202302498026, -0.3355077826619937, -0.19717697525573416, 2.234047296272479, -0.3518558428647018, -0.2676866795576374, 1.041209437322419, -0.36151714538699525, -0.3562522018556701, -0.39950108493946385, -0.1738190027221763, -0.36126349381809814, -0.35497391374682175, -0.3292254647758247, -0.34938270543872313, -0.3924003384821278, -0.29008898024302204, -0.353170464939512, -0.3432880388921983, -0.3492444962959004, -0.19610019070460386, -0.3687965990843029, -0.2937278687744471, 0.4485996340384144, -0.14005158543680318, -0.39879694003421484, -0.33603667604779747, -0.39925224952082405, -0.3563689775179658, 0.5688422837751708, -0.3498587727643081, -0.3355206266076199, -0.3313229166818441, -0.3011690032841758, -0.38997018814813833, -0.3926271596381285, 3.78376703264733, 0.0981141093365748, -0.3901701196287098, -0.33490753686270375, -0.3357306724870467, -0.2688990809457615, -0.3362480163920611, -0.3842690124784529, -0.25012260029840894, -0.09202110737970573, -0.38002574782895443, -0.3355274221143214, -0.32860333906378836, -0.3892014471666402, -0.33396950185948754, -0.35465953390731286, -0.3718157162022515, -0.3105699939676736, 3.767088635088508, -0.10043956670389086, -0.3311688933743202, -0.34516417082091333, -0.28118342003397323, 3.77694354447243, 3.778185930879875, -0.24982743368633872, -0.3545954888042614, -0.35434455936886566, 2.4930800466237457, -0.33441482894147867, -0.2932342958539221], \"y\": [1.066501310711516, 1.0667279595802412, 1.6433110388351821, 1.1937496677492603, 1.6547823496045613, 0.7617511697211662, 0.5767100089715401, 1.8336669163446269, 1.066501860838211, 1.0667783413847511, 1.0665549633530154, 1.0665011099254724, 1.0665013250436293, 0.2142309887602262, 1.0069752243481656, 1.532832932928859, 0.4283824397733376, 1.0664875851397975, 1.0094371829076323, 1.1937534257114963, 2.0125074950294404, 0.8907349919302069, 0.7614025534248128, 0.8814512704889303, 1.7683962585980944, 1.7683740539329342, 0.4441524311550976, 1.0664141391383264, 1.0664905627352952, 1.079282245306135, 1.0087274929307188, 1.1937553817744677, 0.15150667164704085, 1.573111669127709, 1.193751618957891, 1.0662785100085115, 1.0664793421723593, 0.572098154420784, 1.193755999259116, 0.15155914761824474, 1.7683818742230033, 1.0661271314317013, -0.007484673351024531, 1.7180904663465337, 0.7617474838060713, 1.0069988964958834, 0.8814631663633452, 1.768363063448449, 0.8813081064836826, 1.0665019506576285, 1.7683661531598622, 1.0086977842227374, 1.0664975961174779, 1.1937560416412643, 2.246953828434758, 1.787141659445367, 1.0057283753030049, 0.8814510423314674, 1.768355557171409, 0.7613403325831127, 1.8338036873687549, 0.8372711482890126, 0.7617522077099708, 1.1869020537663, 0.7617578889888207, 1.5064876813609094, 1.0664868085747263, 0.8813719858901906, 1.193591458342084, 0.8541386771576776, 0.7617446195210406, 0.2143340242261307, 1.532830402264072, 1.1937811421789302, 0.761663071025251, 0.7615372064609828, 1.5020945253145932, 1.193705034942627, 1.5773601505380341, 1.0659784014107265, 1.0664838350669583, 1.066501038512322, 1.5832318898575983, 1.0087035971696947, 1.1937402322156916, 1.0664806469329913, 0.7617513060995456, 1.1937543523156402, 1.0664932236987628, 1.0665021564600468, 0.8815252557513567, 0.48768892867291574, 1.8329800507083045, 1.5328302700154541, 1.066515925974519, 1.1932127260217673, 1.5328777459802267, 1.5833174431093575, 1.8617475337518554, 1.532706176634272, 1.8303974845764905, 1.7659453068736006, 1.193750217766236, 1.8081885694226185, 1.1937553712112932, 1.5328303206042786, 1.066491853909197, 1.0664839532842387, 1.532830402264072, 1.1937317058753474, 0.7617568985465852, 1.066495659564171, 0.67362681938619, 1.0664938580674785, 1.0662206248626087, 1.1937535433797957, 1.066441790516788, 0.8819288071856665, 1.066497121758423, 1.0665013016860783, 1.4842369589234128, 0.6418112736129737, 1.066292409215858, 0.761752147819732, 1.1937537453430358, 1.0664976907272625, 1.066491822923577, 0.8814284602403137, 0.5504556745931128, 1.5833174103781327, 1.0664985887185232, 0.8814519288248485, 1.1937172503926852, 1.8777830200319465, 1.1937553571158477, 1.5328305252482042, 1.1937208945443816, 1.5328299876058793, 1.1935890752637461, 1.0664943456955915, 1.0664892645430872, 1.0660628289717127, 0.543851619066345, 1.193745320051113, 0.8807025875655454, 1.5328222615969989, 1.0664645591856758, 1.8120527771564476, 0.5766269955019192, 1.5773577504822351, 1.8449909066445673, 1.5020950574048348, 1.5020724231483262, 1.8072996122419986, 1.7683635575182608, 1.0485097127842329, 1.7683687107976496, 1.6569211697231883, 1.8073172813037308, 1.1937566907814323, 0.88145181535315, 1.5328051767269382, 1.0664886613976519, 1.0665012992792617, 1.6551374625640354, 1.4586828416090785, 1.1937467030529427, 0.4440568273206469, 1.066494905837739, 0.7046977147462846, 1.0766610685645888, 0.7617565213265358, 1.5018155791812573, 1.7584406756043214, 1.0664930352334352, 1.669214599691957, 1.5819742792740965, 1.0665019568042817, 0.5766857650768606, 1.1937088626759584, 1.7658592218490126, 1.5013180311116725, 1.7683553359010784, 1.06645756725986, 1.3170412460118757, 1.4842375722460142, 1.046707629038473, 1.0664391764242744, 1.1937531416651601, 1.484198211989818, 1.0663641537151312, 1.0665006478129524, 1.0086980942886108, 1.577355969128742, -0.09330236081803579, 0.5602759664381154, 1.0665019201177424, 1.5830668953354983, 0.9374800410806766, 1.1937453593311529, 1.6200907020239186, 0.8814080637208366, 1.5880232138411203, 1.5020817019836448, 1.0665003632917056, 1.0664996326055955, 0.8813485005020556, 1.656306157674487, 1.532801388832601, 1.0664924573988208, 1.727581540139684, 1.669262133492568, 1.5328001892898313, 0.7247372917710798, 1.064866493520783, 1.4320852329188323, 0.8814567836449766, 1.066473546381913, 0.8814353382528418, 1.8331891870604944, 1.0664738767656177, 1.648733049351788, 0.46547799710831483, 1.483954983311933, 0.5766914823263809, 1.6431138867299167, 0.9097849939842606, 1.484232828975632, 1.669289271108898, 0.8740465174030666, 0.889730557243793, 1.4842238819517228, 1.0660649669204212, 1.0086896581113958, 1.1937468622394098, 0.8813842352484162, 1.5327423961826026, 0.8638170040545089, 1.0086634794686002, 1.0590668319733596, 1.929888149568578, 1.435047869203162, 1.5806732444856164, 1.0162085290974388, 1.6692806556268833, 1.0664985406998522, 1.6692885621361042, 1.4842339319760833, 1.047125894244776, 1.0086970551460939, 1.0664734177632582, 1.6199842239502404, 1.8314158607937308, 1.1935778506928691, 1.1937525864975023, 1.76595024864701, 1.0578255139067438, 1.1938611386091516, 1.0664151128845232, 1.0664864794767719, 0.5767029652517088, 1.0665055097003981, 1.1937262723007884, 1.0623225411066497, 0.7694982269555477, 1.1935321598976891, 1.0665208888798416, 1.0665021038016234, 1.1937519225199524, 1.066476295585965, 1.53282817438444, 0.59203653682678, 0.7617467528302461, 1.7659351371024623, 0.8814203250830325, 1.0664795696082519, 0.44412677365010667, 1.7683674548275305, 1.7663979053304484, 1.7664423043265904, 0.5767075410260986, 1.5328307161503494, 1.3897834819600676, 0.699543903044758, 1.0663981453831295, 0.8814509317787633], \"z\": [-0.5690552061203648, -0.569404350669625, -0.6108921445247146, -0.478095826436299, -0.008608359726929972, -0.3516723317938621, -0.08098773612086733, -0.6261370853946372, -0.5690612268097233, -0.5692646147095349, -0.5690957623544238, -0.5690552214551876, -0.569055551187713, -0.4122763884720608, -0.4481623588442773, -0.07321740443637957, -0.13378555269046014, -0.5690849406137091, -0.20795786172495098, -0.4780986670951085, -0.68048852370271, -0.30538467623724325, -0.3522100698839944, -0.29837248188450105, -0.6004375589297922, -0.6004207743338424, -0.2661578278193974, -0.5691296967909897, -0.5690798379410479, -0.5787163661141134, -0.20742140420909952, -0.47809279257613857, 0.014921736453986896, -0.283787453008297, -0.4780932903905311, -0.5694215864550616, -0.5690720247676435, -0.451009172225994, -0.4780950973633037, 0.014915494424379824, -0.6004266857226458, -0.5691066101662905, -0.38062939382525635, -0.3375542815825466, -0.35168492098936466, -0.44817878871134315, -0.2983760658963786, -0.6004164775545339, -0.2984259793513122, -0.5690556898441718, -0.6004181445844792, -0.2074056322306502, -0.5690590831834433, -0.47809329103786347, -0.6344245122529182, -0.5644487456436664, -0.25464575195808814, -0.29840032606045463, -0.6004235049415402, -0.35168867258183056, -0.6261322745187142, -0.349513112858167, -0.351673116413786, -0.48178661004194756, -0.35167356706698494, -0.5332875883274842, -0.5690582822854767, -0.29838102853986087, -0.47809723296991596, -0.31081189528548236, -0.3516733969295298, -0.3997021573692444, -0.07322217645039407, -0.478137333212023, -0.351672829501217, -0.3516787226889529, -0.5299968662455209, -0.4781011952970968, -0.0662922440072142, -0.5693284322302891, -0.5690568145101199, -0.5690884251185265, -0.3297298547299448, -0.20762294203713255, -0.47809805301364616, -0.5690696685646007, -0.3516721006351425, -0.47809301681287125, -0.5690561123021886, -0.5690558454110495, -0.2984229995151934, -0.5074528510839641, -0.6026233341849733, -0.07324012585821267, -0.5690662538425741, -0.4781839680998612, -0.07326464867602221, -0.3297285109013225, -0.554642315970345, -0.0732221973957701, -0.5964950714322752, -0.5890749375004226, -0.47809891617784217, -0.6308008377050142, -0.47809407222270556, -0.07323214215402818, -0.5690609395771562, -0.5690561239598816, -0.07322217645039407, -0.47809495039545885, -0.3516759937407283, -0.5690619645549154, -0.20696400699720147, -0.5690589315578664, -0.5690605160850943, -0.47809307383037714, -0.5690583462179601, -0.30959608142862727, -0.5690563848797138, -0.5690563075787621, -0.26238048747129294, -0.31154670039877913, -0.5690644204665745, -0.35167273689482637, -0.4780946818096329, -0.569059154699361, -0.5690553654149724, -0.29836821502077204, -0.5011270281229773, -0.32973250539700166, -0.5693873962275502, -0.29837907834795513, -0.47809739334528106, -0.6854597232430106, -0.47812954084787807, -0.07325244864825589, -0.4781001479742464, -0.0733488771295433, -0.4781342043230468, -0.5690570313250704, -0.5690556598428642, -0.569058003677442, -0.08121434507495466, -0.47809855645209454, -0.29846963668899107, -0.0732193653641887, -0.5690625214868208, -0.6397641755220724, -0.08098768548928628, -0.06631265726652198, -0.6379322054911256, -0.529970528639743, -0.5299901865594987, -0.7565600634484683, -0.6004228674822584, -0.5721676690052491, -0.6004230521118268, -0.31240175636336326, -0.7565734195634937, -0.4780969595088732, -0.2983733035008589, -0.07321701305720421, -0.5690617725583366, -0.5690566013049213, -0.007703855227897971, -0.08808461204156227, -0.47809525664882807, -0.2662179994562535, -0.5690556234665635, -0.03674996872990291, -0.58509120021121, -0.35170244841350806, -0.5301570246705397, -0.5539377422560033, -0.569055969840487, -0.5330757286034183, -0.16782894416715452, -0.5690606374374924, -0.08397346114738369, -0.4781057599345937, -0.5891352083656564, -0.5394072594552216, -0.600476817312278, -0.5690923322690015, -0.2592854672199162, -0.2623826223227543, -0.5708054666337139, -0.5690583757010063, -0.47810781131856567, -0.26238629451501977, -0.5692523514976159, -0.5690560420093731, -0.2074062008583812, -0.06628624215772934, 0.08202924876609188, -0.6705611416308682, -0.5691332122222647, -0.32980568331726223, -0.4366078128316464, -0.4780935724287339, -0.4486484749982859, -0.29837586029981955, -0.09905890395964118, -0.529973803130469, -0.5690554926909287, -0.5690556088577243, -0.298456513352716, -0.14315592725372453, -0.07322297392322565, -0.5690585412821522, -0.6034342455829871, -0.5331116595950118, -0.07321939320251479, -0.09062240374553977, -0.5695314415450633, -0.22520467923680912, -0.2983799316136754, -0.5724435453420166, -0.2983697374136286, -0.5961298922315958, -0.5690625454816572, -0.35544986445961146, -0.4721559418016182, -0.262379588250378, -0.0810030660690719, -0.3682970298355344, -0.3613213186363554, -0.26237937111322857, -0.5330670452011397, -0.29841189198630175, -0.30743462730862026, -0.26239901358902007, -0.5690596197614933, -0.2074111883393477, -0.4781030646753151, -0.2984033059468049, -0.07321915935894263, -0.3137042041153494, -0.20740644094357763, -0.5694519120043516, 0.28153903946460324, -0.17796244827613678, -0.06875541574354181, -0.21307634961983396, -0.533076860388785, -0.5690601314447562, -0.5330711503145404, -0.26237765456586876, -0.579410977620443, -0.20740498084436887, -0.5690621985199226, -0.4487150567750996, -0.596427241419285, -0.47809897980971383, -0.47810070671135996, -0.5893711397327439, -0.574195805345376, -0.47817273425976375, -0.5690568983585913, -0.5690621300984297, -0.08098525284997542, -0.5690583801389553, -0.4782379121166866, -0.5694060580187359, -0.35758451721391804, -0.4782583056116489, -0.5690750190380244, -0.5691895046810183, -0.4781597008962857, -0.5690897767019031, -0.07321681566264149, -0.1897942271620213, -0.3516967356061983, -0.5890789215238272, -0.301689112157439, -0.5691390462246934, -0.2661572841573945, -0.6004158261531752, -0.5893752775385228, -0.5894088389187742, -0.08131594018157866, -0.0732186147058844, 0.3713609028016533, -0.3023960939573888, -0.5690607849401902, -0.29836715197223534]}, {\"customdata\": [[\"SHA-256\"], [\"Ethash\"], [\"Scrypt\"], [\"CryptoNight-V7\"], [\"Ethash\"], [\"Equihash\"], [\"Multiple\"], [\"Scrypt\"], [\"X11\"], [\"Scrypt\"], [\"Multiple\"], [\"Scrypt\"], [\"SHA-256\"], [\"Scrypt\"], [\"Scrypt\"], [\"Quark\"], [\"Groestl\"], [\"Scrypt\"], [\"Scrypt\"], [\"Scrypt\"], [\"X11\"], [\"Multiple\"], [\"SHA-256\"], [\"Scrypt\"], [\"Scrypt\"], [\"Scrypt\"], [\"Scrypt\"], [\"Scrypt\"], [\"NeoScrypt\"], [\"Scrypt\"], [\"Scrypt\"], [\"Scrypt\"], [\"Scrypt\"], [\"SHA-256\"], [\"Scrypt\"], [\"Scrypt\"], [\"Scrypt\"], [\"Scrypt\"], [\"HybridScryptHash256\"], [\"Scrypt\"], [\"Scrypt\"], [\"SHA-256\"], [\"Scrypt\"], [\"Scrypt\"], [\"Scrypt\"], [\"Scrypt\"], [\"SHA-256\"], [\"SHA-256\"], [\"SHA-256\"], [\"SHA-256\"], [\"SHA-256\"], [\"X11\"], [\"Scrypt\"], [\"Lyra2REv2\"], [\"Scrypt\"], [\"SHA-256\"], [\"CryptoNight\"], [\"CryptoNight\"], [\"Scrypt\"], [\"Scrypt\"], [\"Scrypt\"], [\"Scrypt\"], [\"Scrypt\"], [\"Scrypt\"], [\"Stanford Folding\"], [\"Multiple\"], [\"QuBit\"], [\"Scrypt\"], [\"Scrypt\"], [\"M7 POW\"], [\"Scrypt\"], [\"SHA-256\"], [\"Scrypt\"], [\"X11\"], [\"Lyra2RE\"], [\"SHA-256\"], [\"X11\"], [\"Scrypt\"], [\"Scrypt\"], [\"Ethash\"], [\"Blake2b\"], [\"X11\"], [\"SHA-256\"], [\"Scrypt\"], [\"1GB AES Pattern Search\"], [\"Scrypt\"], [\"SHA-256\"], [\"X11\"], [\"Dagger\"], [\"Scrypt\"], [\"X11GOST\"], [\"Scrypt\"], [\"X11\"], [\"Scrypt\"], [\"X11\"], [\"Equihash\"], [\"CryptoNight\"], [\"SHA-256\"], [\"Multiple\"], [\"Scrypt\"], [\"SHA-256\"], [\"Scrypt\"], [\"Lyra2Z\"], [\"Ethash\"], [\"Equihash\"], [\"Scrypt\"], [\"X11\"], [\"X11\"], [\"CryptoNight\"], [\"Scrypt\"], [\"CryptoNight\"], [\"Lyra2RE\"], [\"X11\"], [\"CryptoNight-V7\"], [\"Scrypt\"], [\"X11\"], [\"Equihash\"], [\"Scrypt\"], [\"Lyra2RE\"], [\"Dagger-Hashimoto\"], [\"Scrypt\"], [\"NIST5\"], [\"Scrypt\"], [\"SHA-256\"], [\"Scrypt\"], [\"CryptoNight-V7\"], [\"Argon2d\"], [\"Blake2b\"], [\"Cloverhash\"], [\"CryptoNight\"], [\"X11\"], [\"Scrypt\"], [\"Scrypt\"], [\"X11\"], [\"X11\"], [\"CryptoNight\"], [\"Time Travel\"], [\"Scrypt\"], [\"Keccak\"], [\"X11\"], [\"SHA-256\"], [\"Scrypt\"], [\"Scrypt\"], [\"Scrypt\"], [\"Scrypt\"], [\"Scrypt\"], [\"Scrypt\"], [\"CryptoNight\"], [\"Equihash\"], [\"X11\"], [\"NeoScrypt\"], [\"Equihash\"], [\"Dagger\"], [\"Scrypt\"], [\"X11\"], [\"NeoScrypt\"], [\"Ethash\"], [\"NeoScrypt\"], [\"Multiple\"], [\"CryptoNight\"], [\"CryptoNight\"], [\"Ethash\"], [\"X11\"], [\"CryptoNight-V7\"], [\"Scrypt\"], [\"BLAKE256\"], [\"X11\"], [\"NeoScrypt\"], [\"NeoScrypt\"], [\"Scrypt\"], [\"X11\"], [\"SHA-256\"], [\"C11\"], [\"CryptoNight\"], [\"SkunkHash\"], [\"CryptoNight\"], [\"Scrypt\"], [\"Dagger\"], [\"Lyra2REv2\"], [\"Scrypt\"], [\"Scrypt\"], [\"X11\"], [\"Ethash\"], [\"CryptoNight\"], [\"Scrypt\"], [\"IMesh\"], [\"Equihash\"], [\"Lyra2Z\"], [\"X11\"], [\"CryptoNight\"], [\"NIST5\"], [\"Lyra2RE\"], [\"Tribus\"], [\"Lyra2Z\"], [\"CryptoNight\"], [\"CryptoNight Heavy\"], [\"CryptoNight\"], [\"Jump Consistent Hash\"], [\"CryptoNight\"], [\"X16R\"], [\"HMQ1725\"], [\"X11\"], [\"Scrypt\"], [\"CryptoNight-V7\"], [\"Cryptonight-GPU\"], [\"XEVAN\"], [\"CryptoNight Heavy\"], [\"SHA-256\"], [\"X11\"], [\"X16R\"], [\"Equihash\"], [\"Lyra2Z\"], [\"SHA-256\"], [\"CryptoNight\"], [\"Blake\"], [\"Blake\"], [\"Equihash\"], [\"Exosis\"], [\"Scrypt\"], [\"Equihash\"], [\"Equihash\"], [\"QuBit\"], [\"SHA-256\"], [\"X13\"], [\"SHA-256\"], [\"Scrypt\"], [\"NeoScrypt\"], [\"Blake\"], [\"Scrypt\"], [\"SHA-256\"], [\"Scrypt\"], [\"Groestl\"], [\"Scrypt\"], [\"Scrypt\"], [\"Multiple\"], [\"Equihash+Scrypt\"], [\"Ethash\"], [\"CryptoNight\"], [\"Equihash\"]], \"hovertemplate\": \"<b>%{hovertext}</b><br><br>Class=%{marker.color}<br>PC 1=%{x}<br>PC 2=%{y}<br>PC 3=%{z}<br>Algorithm=%{customdata[0]}<extra></extra>\", \"hovertext\": [\"Bitcoin\", \"Ethereum\", \"Litecoin\", \"Monero\", \"Ethereum Classic\", \"ZCash\", \"DigiByte\", \"ProsperCoin\", \"Spreadcoin\", \"Argentum\", \"MyriadCoin\", \"MoonCoin\", \"ZetaCoin\", \"SexCoin\", \"Quatloo\", \"QuarkCoin\", \"Riecoin\", \"Digitalcoin \", \"Catcoin\", \"CannaCoin\", \"CryptCoin\", \"Verge\", \"DevCoin\", \"EarthCoin\", \"E-Gulden\", \"Einsteinium\", \"Emerald\", \"Franko\", \"FeatherCoin\", \"GrandCoin\", \"GlobalCoin\", \"GoldCoin\", \"Infinite Coin\", \"IXcoin\", \"KrugerCoin\", \"LuckyCoin\", \"Litebar \", \"MegaCoin\", \"MediterraneanCoin\", \"MinCoin\", \"NobleCoin\", \"Namecoin\", \"NyanCoin\", \"RonPaulCoin\", \"StableCoin\", \"SmartCoin\", \"SysCoin\", \"TigerCoin\", \"TerraCoin\", \"UnbreakableCoin\", \"Unobtanium\", \"UroCoin\", \"ViaCoin\", \"Vertcoin\", \"WorldCoin\", \"JouleCoin\", \"ByteCoin\", \"DigitalNote \", \"MonaCoin\", \"Gulden\", \"PesetaCoin\", \"Wild Beast Coin\", \"Flo\", \"ArtByte\", \"Folding Coin\", \"Unitus\", \"CypherPunkCoin\", \"OmniCron\", \"GreenCoin\", \"Cryptonite\", \"MasterCoin\", \"SoonCoin\", \"1Credit\", \"MarsCoin \", \"Crypto\", \"Anarchists Prime\", \"BowsCoin\", \"Song Coin\", \"BitZeny\", \"Expanse\", \"Siacoin\", \"MindCoin\", \"I0coin\", \"Revolution VR\", \"HOdlcoin\", \"Gamecredits\", \"CarpeDiemCoin\", \"Adzcoin\", \"SoilCoin\", \"YoCoin\", \"SibCoin\", \"Francs\", \"BolivarCoin\", \"Omni\", \"PizzaCoin\", \"Komodo\", \"Karbo\", \"ZayedCoin\", \"Circuits of Value\", \"DopeCoin\", \"DollarCoin\", \"Shilling\", \"ZCoin\", \"Elementrem\", \"ZClassic\", \"KiloCoin\", \"ArtexCoin\", \"Kurrent\", \"Cannabis Industry Coin\", \"OsmiumCoin\", \"Bikercoins\", \"HexxCoin\", \"PacCoin\", \"Citadel\", \"BeaverCoin\", \"VaultCoin\", \"Zero\", \"Canada eCoin\", \"Zoin\", \"DubaiCoin\", \"EB3coin\", \"Coinonat\", \"BenjiRolls\", \"ILCoin\", \"EquiTrader\", \"Quantum Resistant Ledger\", \"Dynamic\", \"Nano\", \"ChanCoin\", \"Dinastycoin\", \"DigitalPrice\", \"Unify\", \"SocialCoin\", \"ArcticCoin\", \"DAS\", \"LeviarCoin\", \"Bitcore\", \"gCn Coin\", \"SmartCash\", \"Onix\", \"Bitcoin Cash\", \"Sojourn Coin\", \"NewYorkCoin\", \"FrazCoin\", \"Kronecoin\", \"AdCoin\", \"Linx\", \"Sumokoin\", \"BitcoinZ\", \"Elements\", \"VIVO Coin\", \"Bitcoin Gold\", \"Pirl\", \"eBoost\", \"Pura\", \"Innova\", \"Ellaism\", \"GoByte\", \"SHIELD\", \"UltraNote\", \"BitCoal\", \"DaxxCoin\", \"AC3\", \"Lethean\", \"PopularCoin\", \"Photon\", \"Sucre\", \"SparksPay\", \"GunCoin\", \"IrishCoin\", \"Pioneer Coin\", \"UnitedBitcoin\", \"Interzone\", \"TurtleCoin\", \"MUNcoin\", \"Niobio Cash\", \"ShareChain\", \"Travelflex\", \"KREDS\", \"BitFlip\", \"LottoCoin\", \"Crypto Improvement Fund\", \"Callisto Network\", \"BitTube\", \"Poseidon\", \"Aidos Kuneen\", \"Bitrolium\", \"Alpenschillling\", \"FuturoCoin\", \"Monero Classic\", \"Jumpcoin\", \"Infinex\", \"KEYCO\", \"GINcoin\", \"PlatinCoin\", \"Loki\", \"Newton Coin\", \"MassGrid\", \"PluraCoin\", \"Motion\", \"PlusOneCoin\", \"Axe\", \"HexCoin\", \"Webchain\", \"Ryo\", \"Urals Coin\", \"Qwertycoin\", \"Project Pai\", \"Azart\", \"Xchange\", \"CrypticCoin\", \"Actinium\", \"Bitcoin SV\", \"FREDEnergy\", \"Universal Molecule\", \"Lithium\", \"PirateCash\", \"Exosis\", \"Block-Logic\", \"Beam\", \"Bithereum\", \"SLICE\", \"BLAST\", \"Bitcoin Rhodium\", \"GlobalToken\", \"SolarCoin\", \"UFO Coin\", \"BlakeCoin\", \"Crypto Escudo\", \"Crown Coin\", \"SmileyCoin\", \"Groestlcoin\", \"Bata\", \"Pakcoin\", \"JoinCoin\", \"Vollar\", \"Reality Clash\", \"Beldex\", \"Horizen\"], \"legendgroup\": \"0\", \"marker\": {\"color\": [0, 0, 0, 0, 0, 0, 0, 0, 0, 0, 0, 0, 0, 0, 0, 0, 0, 0, 0, 0, 0, 0, 0, 0, 0, 0, 0, 0, 0, 0, 0, 0, 0, 0, 0, 0, 0, 0, 0, 0, 0, 0, 0, 0, 0, 0, 0, 0, 0, 0, 0, 0, 0, 0, 0, 0, 0, 0, 0, 0, 0, 0, 0, 0, 0, 0, 0, 0, 0, 0, 0, 0, 0, 0, 0, 0, 0, 0, 0, 0, 0, 0, 0, 0, 0, 0, 0, 0, 0, 0, 0, 0, 0, 0, 0, 0, 0, 0, 0, 0, 0, 0, 0, 0, 0, 0, 0, 0, 0, 0, 0, 0, 0, 0, 0, 0, 0, 0, 0, 0, 0, 0, 0, 0, 0, 0, 0, 0, 0, 0, 0, 0, 0, 0, 0, 0, 0, 0, 0, 0, 0, 0, 0, 0, 0, 0, 0, 0, 0, 0, 0, 0, 0, 0, 0, 0, 0, 0, 0, 0, 0, 0, 0, 0, 0, 0, 0, 0, 0, 0, 0, 0, 0, 0, 0, 0, 0, 0, 0, 0, 0, 0, 0, 0, 0, 0, 0, 0, 0, 0, 0, 0, 0, 0, 0, 0, 0, 0, 0, 0, 0, 0, 0, 0, 0, 0, 0, 0, 0, 0, 0, 0, 0, 0, 0, 0, 0, 0, 0, 0, 0, 0, 0, 0, 0, 0, 0, 0, 0, 0, 0, 0, 0, 0, 0, 0, 0, 0, 0], \"coloraxis\": \"coloraxis\", \"symbol\": \"diamond\"}, \"mode\": \"markers\", \"name\": \"0\", \"scene\": \"scene\", \"showlegend\": true, \"type\": \"scatter3d\", \"x\": [-0.14403669425487337, -0.15039345751130664, -0.1671823862546562, -0.148306826785965, -0.14883865242819835, -0.1535125700368497, 0.1625879332106378, -0.16832674220929192, -0.22503209306748112, -0.16794401970200623, -0.09037633280600836, 2.5479181169956875, -0.1411263649697101, -0.16520410293669563, -0.16774849519866952, -0.22687607720121958, -0.20295484341554346, -0.1677969447813404, -0.16830903260868363, -0.1683953305211143, -0.225121302769042, 0.18632632861916032, 0.23318740107379698, 0.07992677564721173, -0.16814201284516286, -0.1637547376211733, -0.16808144404903455, -0.16845224577650028, -0.17286103402778227, -0.14771006379096735, -0.16724929646153563, -0.16752637370373497, 1.5776077058416667, -0.14399811679615213, -0.16482044012881072, -0.16816841318442227, -0.1685226475675879, -0.16778311547511085, -0.13464323769553882, -0.16840411967261268, -0.03356859086156801, -0.14407562063618629, -0.16207835042865615, -0.16838364330127012, -0.16648172208408857, -0.16787124011126778, -0.13124961762284224, -0.14354025354881444, -0.14382703903062377, -0.14381023375186378, -0.14439973678336585, -0.22529486978351182, -0.16810053230715777, -0.19275916661238618, -0.165208886061841, -0.14360744593984723, 3.8539734717915834, 0.45847375610144425, -0.16697008621603934, -0.15159788533252583, -0.1656909658845135, -0.16852486011098192, -0.16555615948011435, -0.15180285805745633, -0.12510085071645285, -0.12432635507456836, -0.18916723644221603, -0.16839811587599518, -0.041559821382467596, -0.11310785926126722, -0.16853373057596638, -0.14410335998706442, 0.4822748546789973, -0.2246830600823034, -0.14893703090890686, -0.14384374056305924, -0.22496750846659463, -0.16666112063879174, -0.16585466769689322, -0.15145953197634793, 0.36820367325038084, -0.22500283202860857, -0.1439992376052718, -0.16449817479505136, -0.15211232598556318, -0.16709946689004387, 0.2738033816727794, -0.22416504133275308, -0.15043786787752916, -0.16734696758814036, -0.1528754435351085, -0.16832402613236125, -0.22496617023625876, -0.16853378897554386, -0.22511593532444082, -0.2750146693228856, 0.30364063916610745, -0.14425890994818638, -0.10443210261449312, -0.16570537291150372, -0.1442176008804005, -0.1681977960318662, -0.14734565857016313, -0.1512020887908939, -0.15353415741766477, -0.09540965663929943, -0.21172001361187923, -0.22294806811673384, 0.30363495652783284, -0.16851556225027445, 0.3037654733107093, -0.1494764583758606, 0.4886538463694283, -0.1470741399273667, -0.16848389610612358, -0.2178647807527312, -0.15354649548803398, -0.16662020183489393, -0.1491952793543112, -0.14703260499969414, -0.13946722222459051, -0.1857485826740796, -0.16804703294697917, -0.11064256918193494, -0.16786952234626035, -0.1469316757027454, -0.15674222608426802, -0.031551622714695145, -0.15191323113748575, 0.33969760602386717, -0.22417350244412457, -0.16818808490428955, -0.16795206581428088, -0.224567443010505, -0.22514389928067366, 0.30402923882578564, -0.15467361966129733, 3.235496540186615, -0.1154041482657571, -0.2160339000961765, -0.14403585961920426, -0.09426144416253354, 1.5760875791494613, -0.1682858017277005, -0.16773851394076408, -0.16743997868584143, -0.16742692754759414, 0.304212424086069, 0.05838461192637324, -0.17960224490659976, -0.177541807796148, -0.15339277782198893, -0.14919929167974433, -0.1666184134474553, -0.2206960804840956, -0.17738752094371918, -0.1495707905635699, -0.17748752322008002, -0.11457484250516424, 1.1400067774993232, 0.30361779191596916, -0.07461121992361358, -0.22043899941632933, -0.13606311395388204, -0.08481312676361995, 1.0916823308826697, -0.22511793802419441, -0.17753934009455252, -0.17058913619185773, -0.16753804840221304, -0.22504346367698064, -0.14401528116302068, -0.19791738118510008, 8.02588701823478, -0.15238450479685905, 0.30748530372643973, 0.024192209189939126, -0.1487029101025603, -0.1783420649039634, -0.16811086705389935, 0.13845309548905024, -0.21919477624915173, -0.102704571306282, 0.31152516319296775, -0.1683474584316642, -0.16079057110793069, -0.152385495932565, -0.14513359306469603, -0.22421421898957958, 0.303800031115584, -0.18580782741248245, -0.14932198987903372, -0.15449466446776533, -0.14742986528564417, 0.3077199736366143, 0.5743042410888244, 2.108892613112571, -0.13400183300646498, 0.31738145146948454, -0.19447639710469597, -0.15017787356655218, -0.22510012865158374, -0.1683720120695625, -0.13594688397973598, -0.15177546793733238, -0.1678016495560972, 3.0924876396373917, -0.10392900168548863, -0.22507155338325557, -0.19390529121627942, -0.048320916440841404, -0.14682880828265105, -0.1440358971331694, 0.3834108335697917, -0.14058993049817756, -0.1409810206331741, -0.2775412779570707, -0.15172982511773528, -0.16726631365410105, -0.15145674181312702, -0.15322587490015754, -0.1883797880393358, -0.14331324519626643, -0.11333701000657258, -0.1421832521163958, 0.5261038128479366, -0.10282726463776962, -0.09154900088811103, -0.151953237819599, -0.1438264103443224, 0.54607526668714, -0.2025165494452297, -0.16844866015931165, -0.16640805270723083, -0.12506024736706312, -0.12500308119435913, -0.1512351933515311, 0.325338201682194, -0.1535136255364865], \"y\": [-1.3833326045627565, -2.053296879227002, -1.0785995232767045, -2.2328006498655233, -2.05338653178699, -2.078654549746331, -1.812765757602943, -1.0785968540456092, -0.9513399981764424, -1.0786129115336192, -1.8086672790845504, -1.2470508520222658, -1.3833314916715642, -1.0786436157543013, -1.0786308183442028, -0.47579771452018677, -1.1381310104450404, -1.0785967062188415, -1.0785962211599915, -1.078593869933732, -0.9513418032380354, -1.8088436741906844, -1.3843589181393596, -1.0790458710958901, -1.0785902523971398, -1.0786262518022152, -1.0785956944326096, -1.078594587148378, -1.7009952140117848, -1.078827918093202, -1.0785922333430857, -1.0786036881320065, -1.0788386203711051, -1.3833312259252883, -1.0786405684355784, -1.0785905043557533, -1.0785902669811744, -1.0785919481720778, -2.328391787358974, -1.0785920126992203, -1.0841390999074059, -1.383333995669608, -1.0785920722452733, -1.0785988875122894, -1.0786892738581366, -1.0786014593325874, -1.3834751708870698, -1.383332850779736, -1.3833396337842014, -1.3833653104732315, -1.3833312297994715, -0.9513355588573681, -1.0785901530262532, -1.2553582308356788, -1.0786544502757032, -1.3833338607357073, -2.3101828296740456, -2.310881931553422, -1.0786065409615913, -1.0791462268556962, -1.0786031950635244, -1.0785912297961842, -1.0785939615429672, -1.0786833273391296, -2.2428149657310845, -1.8084975329421702, -1.5032560118272955, -1.078587214377049, -1.0809671476205964, -2.2296221047151628, -1.0785901578922519, -1.3833349869870633, -1.1189504927956295, -0.951336514419468, -2.2104302129511915, -1.3833483627641634, -0.9513383816320004, -1.078668190691262, -1.0786668648997395, -2.0533466682748176, -2.2447936780176323, -0.9513361864515724, -1.3833312659794934, -1.0785907278245903, -2.2465582605472463, -1.0785965599985083, -1.3833405071529874, -0.9513532688979532, -2.3026327195541376, -1.0786637343921828, -2.204057303145605, -1.078596065474769, -0.951341099834897, -1.0785901578840045, -0.9513464519697342, -1.5161857958435987, -2.309507029283962, -1.3833327567229412, -1.8086163828310058, -1.0786269542338667, -1.383331904411505, -1.0785984694742623, -2.1422538398976285, -2.0533438984818733, -2.0786553212116616, -1.0828915719490022, -0.9511961894278436, -0.9514093550635898, -2.3095148389380427, -1.078590957187138, -2.3095129407043604, -2.21041091185743, -0.9949719458677264, -2.2328845262521355, -1.0785902720539973, -0.9517615375275097, -2.0786529961085707, -1.078590496675836, -2.210408469975602, -2.2148510097780334, -1.0803170106695723, -0.6430105957947266, -1.0785968990680892, -1.3838534484683311, -1.078615781285734, -2.232824114486185, -2.487901476201977, -2.259314986884893, -2.3747606349728616, -2.3095945647629663, -0.9513646353797726, -1.0785907072636722, -1.0786208056508535, -0.9513510533103243, -0.951343233122623, -2.309523568247729, -2.308198106299463, -1.0952417097647982, -1.2823324044238582, -0.9517652582678141, -1.3833325747354854, -1.08319629181581, -1.0162424321451742, -1.0785946994543545, -1.078619397537111, -1.0786197929310297, -1.0786193265242554, -2.3095411476827215, -2.0855891290159274, -0.950947359835095, -1.7009488146051541, -2.078650268748044, -2.302675798682915, -1.0785904327644744, -0.9514132399092623, -1.7009557479983826, -2.053461101582637, -1.7009501938770177, -1.8086054389115203, -2.3383890848005553, -2.309509574539979, -2.0575037272196783, -0.9515423539904154, -2.233054246173344, -1.079055351365283, -1.3341801735937844, -0.9513429277047754, -1.7009445773766523, -1.7010274306132718, -1.0785984033918166, -0.9513424790466777, -1.38333126260932, -1.2076127411850088, -2.7250379964503746, -2.13674943644207, -2.3095950642280183, -1.078617376137135, -2.302619123074666, -1.255545579680611, -1.0786022779726916, -1.0803475336147037, -0.9514633140160547, -2.0560874218711143, -2.3099098528040596, -1.078597594378465, -2.0565674054749397, -2.0786481554818996, -2.142367441394189, -0.9513660904614876, -2.30950714177209, -0.6429938680736604, -2.210416649368315, -2.2275317610469263, -2.142249311757983, -2.3097692360047763, -2.2467395975959654, -2.372223311457242, -2.0895078948762786, -2.309700567416653, -1.235292499344063, -2.317398708912009, -0.9513431210617348, -1.078599236145364, -2.233569081086325, -2.0244976609511887, -0.525060323653365, -2.2842061424552096, -1.3833369239031381, -0.9513448658982645, -1.2353259749901557, -2.080136259515105, -2.1422786576117447, -1.3833325760761168, -2.3122367521457456, -2.252218512993057, -2.2521772440225183, -0.11864727343379483, -2.2887436105898944, -1.0786274168223942, -2.078748287224739, -2.0786511403966133, -1.5032970215658752, -1.383336485551767, -0.37672443187009447, -1.3833680198442968, -1.1216023744639552, -1.7010261073855248, -2.255233800033482, -1.0786887014404873, -1.3833396113169234, -1.0876271819681018, -1.1381298688343413, -1.0785901469027916, -1.0786396186855827, -1.8085256961713747, -2.157105218042121, -2.0533438938065496, -2.3096929747450012, -2.078654587466582], \"z\": [0.1941942335645392, 0.35717824508141843, -0.02320415630199831, 0.38619060309035236, 0.3571758217988921, 0.5105550456239526, 0.2863181053516193, -0.023185116380285916, 0.06777552668558472, -0.023187351110864948, 0.289570754957138, -0.024194152399959198, 0.1941436577445286, -0.02322631173634362, -0.023185848197245076, 0.012720775909563694, 0.09769423745518738, -0.023194308295793043, -0.02318559478107705, -0.02318474489567168, 0.06777755963429631, 0.28483911764926734, 0.18795784591696613, -0.027351027150147235, -0.023190106592989663, -0.023256080231659676, -0.023189669660982865, -0.023183566280128423, 0.2796456364404055, -0.023478270410562635, -0.02320498732460828, -0.023197079223493622, -0.053278185454046084, 0.1941931914469279, -0.023233769583583936, -0.02318958188877045, -0.023183527601815135, -0.02319584395129549, 0.4210539376119908, -0.023185099248993285, -0.024002406479712506, 0.19419528510782993, -0.02329435323144477, -0.023183579274621245, -0.023191798591507443, -0.023191729505423864, 0.19401220727971824, 0.19418572524082742, 0.19419252777996976, 0.19419923548067142, 0.1942001300149379, 0.06777885594012621, -0.02319085020321712, 0.2384248649482512, -0.023223276244645576, 0.1941871611662695, 0.387353412412289, 0.44619720481397784, -0.02320591091683155, -0.023324360169673534, -0.023228918113449244, -0.02318322697460949, -0.023233763263151453, -0.023446979354238867, 0.5343189774880777, 0.29011093853691244, 0.23433341721175838, -0.023186510704801728, -0.024728859572804584, 0.40046301220244807, -0.023183365887283015, 0.19419603444869293, -0.023425406071628643, 0.06776854807970994, 0.34042406107878875, 0.19419519529833273, 0.06777397048543456, -0.023194445754356672, -0.02320873761353894, 0.3572102298993848, 0.3720718625578216, 0.06777398237812894, 0.19419322172406292, -0.023252920028250027, 0.360715942878521, -0.023206396255937747, 0.1869786923037085, 0.06776416622554855, 0.3976668425439527, -0.023183813087729488, 0.4678564062289472, -0.02318537821647774, 0.06777468819522058, -0.023183364880746907, 0.06777873389552992, 0.9485084663692945, 0.4484970450334829, 0.19419811354899116, 0.2897996804231765, -0.023222193862503605, 0.19419716769231976, -0.02318690350043215, 0.39834043288470644, 0.35720502798502524, 0.5105556287777069, -0.02327417946142706, 0.0675063821828936, 0.06775843031747272, 0.4484992716579468, -0.02318346188178299, 0.448496499784704, 0.34042811868212297, 0.0673390082035819, 0.3861921697672434, -0.02318419560509837, 0.06776660724822406, 0.510555208213649, -0.023216327508987677, 0.3404225961289128, 0.33559001564026936, -0.023214814595953, 0.015899455189043264, -0.023189935757721783, 0.19375934155808006, -0.023187855835160497, 0.3861732440846465, 0.47239795343121005, 0.38293483990353355, 0.5898455992795768, 0.4478980605585606, 0.06776741023201147, -0.023189186781929272, -0.02318506064036321, 0.06777051339840501, 0.06777833966690519, 0.44849484000468465, 0.47513356167813864, -0.07744572095067197, 0.23141864040064106, 0.06773599500215582, 0.19419421101799572, -0.02321096432847298, -0.07031205617955734, -0.023186410796818272, -0.02318913326840051, -0.023194182351529914, -0.02319453491029162, 0.44849646684038985, 0.5087847398427567, 0.06688376889744259, 0.2797138454769894, 0.5105518096000804, 0.3976571884979167, -0.023216375819843746, 0.06772058867020637, 0.2797130699985333, 0.35720879207010453, 0.2797132836852577, 0.2899719016211205, 0.4419213963915153, 0.4484981333835555, 0.3570157415789538, 0.06775133698754793, 0.3860482231776056, -0.024502755638928727, 0.18620918122515914, 0.06777780797740424, 0.2797126480249954, 0.2796151724787845, -0.023198317873767364, 0.06777639924234115, 0.19419349793910642, 0.10926400430083467, 0.4283542347920037, 0.3344344855939513, 0.4484546262568894, -0.026505061314187593, 0.3976331675722126, 0.23822688704605086, -0.023187367117976324, -0.028007241862587105, 0.0677083027364821, 0.35711501755724623, 0.44847063574714163, -0.023184556759694337, 0.3491731686002349, 0.5105338340370301, 0.39833318330861406, 0.06776851013414845, 0.44849432238314485, 0.01589591955518152, 0.34042701413706683, 0.4428433336544295, 0.3983406533454709, 0.4484980418429739, 0.42356976736004676, 0.4344063037965336, 0.26198124528463984, 0.448312436078717, 0.1845603769211063, 0.3734624530346223, 0.06777755303948606, -0.023183685173074627, 0.38618652989763724, 0.47290768945519795, 0.09721845455891125, 0.3902823461142516, 0.19350259763070032, 0.06777753497770876, 0.18455963527998762, 0.5091418127966029, 0.3983382687897122, 0.1941942120313846, 0.4478630747224193, 0.4353131264105815, 0.435308634478576, 0.23536886957596348, 0.5049586590146651, -0.02319510437503321, 0.510545081071294, 0.5105491641101191, 0.2343309918698793, 0.19418279456926754, -0.05454412464663242, 0.1941718697087567, -0.02345974891196126, 0.27844430534211767, 0.43528779635596726, -0.023442917049347964, 0.19419251079686384, -0.033064420216760676, 0.09768635530563453, -0.023184838373605368, -0.02320660429401293, 0.29013129134193244, 0.2733881698529015, 0.35720559855308465, 0.4481729232660319, 0.5105550741368416]}, {\"customdata\": [[\"VeChainThor Authority\"], [\"Proof-of-BibleHash\"], [\"SHA-256 + Hive\"], [\"Proof-of-Authority\"], [\"ECC 256K1\"], [\"Leased POS\"]], \"hovertemplate\": \"<b>%{hovertext}</b><br><br>Class=%{marker.color}<br>PC 1=%{x}<br>PC 2=%{y}<br>PC 3=%{z}<br>Algorithm=%{customdata[0]}<extra></extra>\", \"hovertext\": [\"Vechain\", \"BiblePay\", \"LitecoinCash\", \"Poa Network\", \"Acute Angle Cloud\", \"Waves\"], \"legendgroup\": \"3\", \"marker\": {\"color\": [3, 3, 3, 3, 3, 3], \"coloraxis\": \"coloraxis\", \"symbol\": \"square\"}, \"mode\": \"markers\", \"name\": \"3\", \"scene\": \"scene\", \"showlegend\": true, \"type\": \"scatter3d\", \"x\": [4.403695093209789, -0.17528560576256544, -0.3881522133419149, -0.3414476438203682, -0.36883287410176424, -0.3919236321937934], \"y\": [2.4317712864723213, 2.994348082188059, 3.4089347480243823, 2.895314159289333, 3.8483370172736686, 2.816269371286539], \"z\": [10.741470714051458, 9.601552874517694, 15.08307114977093, 7.460230553096419, 18.16489823233283, 13.040638975862826]}, {\"customdata\": [[\"TRC10\"]], \"hovertemplate\": \"<b>%{hovertext}</b><br><br>Class=%{marker.color}<br>PC 1=%{x}<br>PC 2=%{y}<br>PC 3=%{z}<br>Algorithm=%{customdata[0]}<extra></extra>\", \"hovertext\": [\"BitTorrent\"], \"legendgroup\": \"2\", \"marker\": {\"color\": [2], \"coloraxis\": \"coloraxis\", \"symbol\": \"x\"}, \"mode\": \"markers\", \"name\": \"2\", \"scene\": \"scene\", \"showlegend\": true, \"type\": \"scatter3d\", \"x\": [34.033092745335715], \"y\": [1.7725873367220502], \"z\": [-1.229371370011119]}],                        {\"coloraxis\": {\"colorbar\": {\"title\": {\"text\": \"Class\"}}, \"colorscale\": [[0.0, \"#0d0887\"], [0.1111111111111111, \"#46039f\"], [0.2222222222222222, \"#7201a8\"], [0.3333333333333333, \"#9c179e\"], [0.4444444444444444, \"#bd3786\"], [0.5555555555555556, \"#d8576b\"], [0.6666666666666666, \"#ed7953\"], [0.7777777777777778, \"#fb9f3a\"], [0.8888888888888888, \"#fdca26\"], [1.0, \"#f0f921\"]]}, \"legend\": {\"title\": {\"text\": \"Class\"}, \"tracegroupgap\": 0, \"x\": 0, \"y\": 1}, \"margin\": {\"t\": 60}, \"scene\": {\"domain\": {\"x\": [0.0, 1.0], \"y\": [0.0, 1.0]}, \"xaxis\": {\"title\": {\"text\": \"PC 1\"}}, \"yaxis\": {\"title\": {\"text\": \"PC 2\"}}, \"zaxis\": {\"title\": {\"text\": \"PC 3\"}}}, \"template\": {\"data\": {\"bar\": [{\"error_x\": {\"color\": \"#2a3f5f\"}, \"error_y\": {\"color\": \"#2a3f5f\"}, \"marker\": {\"line\": {\"color\": \"#E5ECF6\", \"width\": 0.5}}, \"type\": \"bar\"}], \"barpolar\": [{\"marker\": {\"line\": {\"color\": \"#E5ECF6\", \"width\": 0.5}}, \"type\": \"barpolar\"}], \"carpet\": [{\"aaxis\": {\"endlinecolor\": \"#2a3f5f\", \"gridcolor\": \"white\", \"linecolor\": \"white\", \"minorgridcolor\": \"white\", \"startlinecolor\": \"#2a3f5f\"}, \"baxis\": {\"endlinecolor\": \"#2a3f5f\", \"gridcolor\": \"white\", \"linecolor\": \"white\", \"minorgridcolor\": \"white\", \"startlinecolor\": \"#2a3f5f\"}, \"type\": \"carpet\"}], \"choropleth\": [{\"colorbar\": {\"outlinewidth\": 0, \"ticks\": \"\"}, \"type\": \"choropleth\"}], \"contour\": [{\"colorbar\": {\"outlinewidth\": 0, \"ticks\": \"\"}, \"colorscale\": [[0.0, \"#0d0887\"], [0.1111111111111111, \"#46039f\"], [0.2222222222222222, \"#7201a8\"], [0.3333333333333333, \"#9c179e\"], [0.4444444444444444, \"#bd3786\"], [0.5555555555555556, \"#d8576b\"], [0.6666666666666666, \"#ed7953\"], [0.7777777777777778, \"#fb9f3a\"], [0.8888888888888888, \"#fdca26\"], [1.0, \"#f0f921\"]], \"type\": \"contour\"}], \"contourcarpet\": [{\"colorbar\": {\"outlinewidth\": 0, \"ticks\": \"\"}, \"type\": \"contourcarpet\"}], \"heatmap\": [{\"colorbar\": {\"outlinewidth\": 0, \"ticks\": \"\"}, \"colorscale\": [[0.0, \"#0d0887\"], [0.1111111111111111, \"#46039f\"], [0.2222222222222222, \"#7201a8\"], [0.3333333333333333, \"#9c179e\"], [0.4444444444444444, \"#bd3786\"], [0.5555555555555556, \"#d8576b\"], [0.6666666666666666, \"#ed7953\"], [0.7777777777777778, \"#fb9f3a\"], [0.8888888888888888, \"#fdca26\"], [1.0, \"#f0f921\"]], \"type\": \"heatmap\"}], \"heatmapgl\": [{\"colorbar\": {\"outlinewidth\": 0, \"ticks\": \"\"}, \"colorscale\": [[0.0, \"#0d0887\"], [0.1111111111111111, \"#46039f\"], [0.2222222222222222, \"#7201a8\"], [0.3333333333333333, \"#9c179e\"], [0.4444444444444444, \"#bd3786\"], [0.5555555555555556, \"#d8576b\"], [0.6666666666666666, \"#ed7953\"], [0.7777777777777778, \"#fb9f3a\"], [0.8888888888888888, \"#fdca26\"], [1.0, \"#f0f921\"]], \"type\": \"heatmapgl\"}], \"histogram\": [{\"marker\": {\"colorbar\": {\"outlinewidth\": 0, \"ticks\": \"\"}}, \"type\": \"histogram\"}], \"histogram2d\": [{\"colorbar\": {\"outlinewidth\": 0, \"ticks\": \"\"}, \"colorscale\": [[0.0, \"#0d0887\"], [0.1111111111111111, \"#46039f\"], [0.2222222222222222, \"#7201a8\"], [0.3333333333333333, \"#9c179e\"], [0.4444444444444444, \"#bd3786\"], [0.5555555555555556, \"#d8576b\"], [0.6666666666666666, \"#ed7953\"], [0.7777777777777778, \"#fb9f3a\"], [0.8888888888888888, \"#fdca26\"], [1.0, \"#f0f921\"]], \"type\": \"histogram2d\"}], \"histogram2dcontour\": [{\"colorbar\": {\"outlinewidth\": 0, \"ticks\": \"\"}, \"colorscale\": [[0.0, \"#0d0887\"], [0.1111111111111111, \"#46039f\"], [0.2222222222222222, \"#7201a8\"], [0.3333333333333333, \"#9c179e\"], [0.4444444444444444, \"#bd3786\"], [0.5555555555555556, \"#d8576b\"], [0.6666666666666666, \"#ed7953\"], [0.7777777777777778, \"#fb9f3a\"], [0.8888888888888888, \"#fdca26\"], [1.0, \"#f0f921\"]], \"type\": \"histogram2dcontour\"}], \"mesh3d\": [{\"colorbar\": {\"outlinewidth\": 0, \"ticks\": \"\"}, \"type\": \"mesh3d\"}], \"parcoords\": [{\"line\": {\"colorbar\": {\"outlinewidth\": 0, \"ticks\": \"\"}}, \"type\": \"parcoords\"}], \"pie\": [{\"automargin\": true, \"type\": \"pie\"}], \"scatter\": [{\"marker\": {\"colorbar\": {\"outlinewidth\": 0, \"ticks\": \"\"}}, \"type\": \"scatter\"}], \"scatter3d\": [{\"line\": {\"colorbar\": {\"outlinewidth\": 0, \"ticks\": \"\"}}, \"marker\": {\"colorbar\": {\"outlinewidth\": 0, \"ticks\": \"\"}}, \"type\": \"scatter3d\"}], \"scattercarpet\": [{\"marker\": {\"colorbar\": {\"outlinewidth\": 0, \"ticks\": \"\"}}, \"type\": \"scattercarpet\"}], \"scattergeo\": [{\"marker\": {\"colorbar\": {\"outlinewidth\": 0, \"ticks\": \"\"}}, \"type\": \"scattergeo\"}], \"scattergl\": [{\"marker\": {\"colorbar\": {\"outlinewidth\": 0, \"ticks\": \"\"}}, \"type\": \"scattergl\"}], \"scattermapbox\": [{\"marker\": {\"colorbar\": {\"outlinewidth\": 0, \"ticks\": \"\"}}, \"type\": \"scattermapbox\"}], \"scatterpolar\": [{\"marker\": {\"colorbar\": {\"outlinewidth\": 0, \"ticks\": \"\"}}, \"type\": \"scatterpolar\"}], \"scatterpolargl\": [{\"marker\": {\"colorbar\": {\"outlinewidth\": 0, \"ticks\": \"\"}}, \"type\": \"scatterpolargl\"}], \"scatterternary\": [{\"marker\": {\"colorbar\": {\"outlinewidth\": 0, \"ticks\": \"\"}}, \"type\": \"scatterternary\"}], \"surface\": [{\"colorbar\": {\"outlinewidth\": 0, \"ticks\": \"\"}, \"colorscale\": [[0.0, \"#0d0887\"], [0.1111111111111111, \"#46039f\"], [0.2222222222222222, \"#7201a8\"], [0.3333333333333333, \"#9c179e\"], [0.4444444444444444, \"#bd3786\"], [0.5555555555555556, \"#d8576b\"], [0.6666666666666666, \"#ed7953\"], [0.7777777777777778, \"#fb9f3a\"], [0.8888888888888888, \"#fdca26\"], [1.0, \"#f0f921\"]], \"type\": \"surface\"}], \"table\": [{\"cells\": {\"fill\": {\"color\": \"#EBF0F8\"}, \"line\": {\"color\": \"white\"}}, \"header\": {\"fill\": {\"color\": \"#C8D4E3\"}, \"line\": {\"color\": \"white\"}}, \"type\": \"table\"}]}, \"layout\": {\"annotationdefaults\": {\"arrowcolor\": \"#2a3f5f\", \"arrowhead\": 0, \"arrowwidth\": 1}, \"coloraxis\": {\"colorbar\": {\"outlinewidth\": 0, \"ticks\": \"\"}}, \"colorscale\": {\"diverging\": [[0, \"#8e0152\"], [0.1, \"#c51b7d\"], [0.2, \"#de77ae\"], [0.3, \"#f1b6da\"], [0.4, \"#fde0ef\"], [0.5, \"#f7f7f7\"], [0.6, \"#e6f5d0\"], [0.7, \"#b8e186\"], [0.8, \"#7fbc41\"], [0.9, \"#4d9221\"], [1, \"#276419\"]], \"sequential\": [[0.0, \"#0d0887\"], [0.1111111111111111, \"#46039f\"], [0.2222222222222222, \"#7201a8\"], [0.3333333333333333, \"#9c179e\"], [0.4444444444444444, \"#bd3786\"], [0.5555555555555556, \"#d8576b\"], [0.6666666666666666, \"#ed7953\"], [0.7777777777777778, \"#fb9f3a\"], [0.8888888888888888, \"#fdca26\"], [1.0, \"#f0f921\"]], \"sequentialminus\": [[0.0, \"#0d0887\"], [0.1111111111111111, \"#46039f\"], [0.2222222222222222, \"#7201a8\"], [0.3333333333333333, \"#9c179e\"], [0.4444444444444444, \"#bd3786\"], [0.5555555555555556, \"#d8576b\"], [0.6666666666666666, \"#ed7953\"], [0.7777777777777778, \"#fb9f3a\"], [0.8888888888888888, \"#fdca26\"], [1.0, \"#f0f921\"]]}, \"colorway\": [\"#636efa\", \"#EF553B\", \"#00cc96\", \"#ab63fa\", \"#FFA15A\", \"#19d3f3\", \"#FF6692\", \"#B6E880\", \"#FF97FF\", \"#FECB52\"], \"font\": {\"color\": \"#2a3f5f\"}, \"geo\": {\"bgcolor\": \"white\", \"lakecolor\": \"white\", \"landcolor\": \"#E5ECF6\", \"showlakes\": true, \"showland\": true, \"subunitcolor\": \"white\"}, \"hoverlabel\": {\"align\": \"left\"}, \"hovermode\": \"closest\", \"mapbox\": {\"style\": \"light\"}, \"paper_bgcolor\": \"white\", \"plot_bgcolor\": \"#E5ECF6\", \"polar\": {\"angularaxis\": {\"gridcolor\": \"white\", \"linecolor\": \"white\", \"ticks\": \"\"}, \"bgcolor\": \"#E5ECF6\", \"radialaxis\": {\"gridcolor\": \"white\", \"linecolor\": \"white\", \"ticks\": \"\"}}, \"scene\": {\"xaxis\": {\"backgroundcolor\": \"#E5ECF6\", \"gridcolor\": \"white\", \"gridwidth\": 2, \"linecolor\": \"white\", \"showbackground\": true, \"ticks\": \"\", \"zerolinecolor\": \"white\"}, \"yaxis\": {\"backgroundcolor\": \"#E5ECF6\", \"gridcolor\": \"white\", \"gridwidth\": 2, \"linecolor\": \"white\", \"showbackground\": true, \"ticks\": \"\", \"zerolinecolor\": \"white\"}, \"zaxis\": {\"backgroundcolor\": \"#E5ECF6\", \"gridcolor\": \"white\", \"gridwidth\": 2, \"linecolor\": \"white\", \"showbackground\": true, \"ticks\": \"\", \"zerolinecolor\": \"white\"}}, \"shapedefaults\": {\"line\": {\"color\": \"#2a3f5f\"}}, \"ternary\": {\"aaxis\": {\"gridcolor\": \"white\", \"linecolor\": \"white\", \"ticks\": \"\"}, \"baxis\": {\"gridcolor\": \"white\", \"linecolor\": \"white\", \"ticks\": \"\"}, \"bgcolor\": \"#E5ECF6\", \"caxis\": {\"gridcolor\": \"white\", \"linecolor\": \"white\", \"ticks\": \"\"}}, \"title\": {\"x\": 0.05}, \"xaxis\": {\"automargin\": true, \"gridcolor\": \"white\", \"linecolor\": \"white\", \"ticks\": \"\", \"title\": {\"standoff\": 15}, \"zerolinecolor\": \"white\", \"zerolinewidth\": 2}, \"yaxis\": {\"automargin\": true, \"gridcolor\": \"white\", \"linecolor\": \"white\", \"ticks\": \"\", \"title\": {\"standoff\": 15}, \"zerolinecolor\": \"white\", \"zerolinewidth\": 2}}}, \"width\": 800},                        {\"responsive\": true}                    ).then(function(){\n",
       "                            \n",
       "var gd = document.getElementById('2169ea07-a1a5-4289-b3b1-600979877b63');\n",
       "var x = new MutationObserver(function (mutations, observer) {{\n",
       "        var display = window.getComputedStyle(gd).display;\n",
       "        if (!display || display === 'none') {{\n",
       "            console.log([gd, 'removed!']);\n",
       "            Plotly.purge(gd);\n",
       "            observer.disconnect();\n",
       "        }}\n",
       "}});\n",
       "\n",
       "// Listen for the removal of the full notebook cells\n",
       "var notebookContainer = gd.closest('#notebook-container');\n",
       "if (notebookContainer) {{\n",
       "    x.observe(notebookContainer, {childList: true});\n",
       "}}\n",
       "\n",
       "// Listen for the clearing of the current output cell\n",
       "var outputEl = gd.closest('.output');\n",
       "if (outputEl) {{\n",
       "    x.observe(outputEl, {childList: true});\n",
       "}}\n",
       "\n",
       "                        })                };                });            </script>        </div>"
      ]
     },
     "metadata": {},
     "output_type": "display_data"
    }
   ],
   "source": [
    "# Creating a 3D-Scatter with the PCA data and the clusters\n",
    "import plotly.express as px\n",
    "import hvplot.pandas\n",
    "fig = px.scatter_3d(\n",
    "    clustered_df,\n",
    "    x=\"PC 1\",\n",
    "    y=\"PC 2\",\n",
    "    z=\"PC 3\",\n",
    "    color=\"Class\",\n",
    "    symbol=\"Class\",\n",
    "    hover_name='CoinName',\n",
    "    hover_data=['Algorithm'],\n",
    "    width=800,\n",
    ")\n",
    "fig.update_layout(legend=dict(x=0, y=1))\n",
    "fig.show()\n"
   ]
  },
  {
   "cell_type": "code",
   "execution_count": 91,
   "metadata": {},
   "outputs": [
    {
     "data": {},
     "metadata": {},
     "output_type": "display_data"
    },
    {
     "data": {
      "application/vnd.holoviews_exec.v0+json": "",
      "text/html": [
       "<div id='1304'>\n",
       "\n",
       "\n",
       "\n",
       "\n",
       "\n",
       "  <div class=\"bk-root\" id=\"15f6c24e-4a51-46b3-8f20-4eaec4006af1\" data-root-id=\"1304\"></div>\n",
       "</div>\n",
       "<script type=\"application/javascript\">(function(root) {\n",
       "  function embed_document(root) {\n",
       "  var docs_json = {\"91230975-fae9-4c6c-9747-28aa51117a10\":{\"roots\":{\"references\":[{\"attributes\":{\"editor\":{\"id\":\"1319\"},\"field\":\"ProofType\",\"formatter\":{\"id\":\"1318\"},\"title\":\"ProofType\"},\"id\":\"1320\",\"type\":\"TableColumn\"},{\"attributes\":{\"margin\":[5,5,5,5],\"name\":\"HSpacer02105\",\"sizing_mode\":\"stretch_width\"},\"id\":\"1305\",\"type\":\"Spacer\"},{\"attributes\":{},\"id\":\"1334\",\"type\":\"IntEditor\"},{\"attributes\":{\"editor\":{\"id\":\"1309\"},\"field\":\"CoinName\",\"formatter\":{\"id\":\"1308\"},\"title\":\"CoinName\"},\"id\":\"1310\",\"type\":\"TableColumn\"},{\"attributes\":{},\"id\":\"1319\",\"type\":\"StringEditor\"},{\"attributes\":{\"editor\":{\"id\":\"1334\"},\"field\":\"Class\",\"formatter\":{\"id\":\"1333\"},\"title\":\"Class\"},\"id\":\"1335\",\"type\":\"TableColumn\"},{\"attributes\":{\"editor\":{\"id\":\"1314\"},\"field\":\"Algorithm\",\"formatter\":{\"id\":\"1313\"},\"title\":\"Algorithm\"},\"id\":\"1315\",\"type\":\"TableColumn\"},{\"attributes\":{},\"id\":\"1329\",\"type\":\"NumberEditor\"},{\"attributes\":{},\"id\":\"1341\",\"type\":\"UnionRenderers\"},{\"attributes\":{},\"id\":\"1313\",\"type\":\"StringFormatter\"},{\"attributes\":{\"data\":{\"Algorithm\":[\"Scrypt\",\"Scrypt\",\"X13\",\"SHA-256\",\"Ethash\",\"Scrypt\",\"X11\",\"CryptoNight-V7\",\"Ethash\",\"Equihash\",\"SHA-512\",\"Multiple\",\"SHA-256\",\"SHA-256\",\"Scrypt\",\"X15\",\"X11\",\"Scrypt\",\"Scrypt\",\"Scrypt\",\"Multiple\",\"Scrypt\",\"SHA-256\",\"Scrypt\",\"Scrypt\",\"Scrypt\",\"Quark\",\"Groestl\",\"Scrypt\",\"Scrypt\",\"Scrypt\",\"Scrypt\",\"Scrypt\",\"X11\",\"Scrypt\",\"Groestl\",\"Multiple\",\"SHA-256\",\"Scrypt\",\"Scrypt\",\"Scrypt\",\"Scrypt\",\"PoS\",\"Scrypt\",\"Scrypt\",\"NeoScrypt\",\"Scrypt\",\"Scrypt\",\"Scrypt\",\"Scrypt\",\"X11\",\"Scrypt\",\"X11\",\"SHA-256\",\"Scrypt\",\"Scrypt\",\"Scrypt\",\"SHA3\",\"Scrypt\",\"HybridScryptHash256\",\"Scrypt\",\"Scrypt\",\"SHA-256\",\"Scrypt\",\"X13\",\"Scrypt\",\"SHA-256\",\"Scrypt\",\"X13\",\"NeoScrypt\",\"Scrypt\",\"Scrypt\",\"Scrypt\",\"Scrypt\",\"Scrypt\",\"Scrypt\",\"X11\",\"X11\",\"SHA-256\",\"Multiple\",\"SHA-256\",\"PHI1612\",\"X11\",\"SHA-256\",\"SHA-256\",\"SHA-256\",\"X11\",\"Scrypt\",\"Scrypt\",\"Scrypt\",\"Scrypt\",\"Lyra2REv2\",\"Scrypt\",\"X11\",\"Multiple\",\"SHA-256\",\"X13\",\"Scrypt\",\"CryptoNight\",\"CryptoNight\",\"Shabal256\",\"Counterparty\",\"Scrypt\",\"SHA-256\",\"Groestl\",\"Scrypt\",\"Scrypt\",\"Scrypt\",\"X13\",\"Scrypt\",\"Scrypt\",\"Scrypt\",\"Scrypt\",\"X13\",\"Scrypt\",\"Stanford Folding\",\"X11\",\"Multiple\",\"QuBit\",\"Scrypt\",\"Scrypt\",\"Scrypt\",\"M7 POW\",\"Scrypt\",\"SHA-256\",\"Scrypt\",\"X11\",\"SHA3\",\"X11\",\"Lyra2RE\",\"SHA-256\",\"QUAIT\",\"X11\",\"X11\",\"Scrypt\",\"Scrypt\",\"Scrypt\",\"Ethash\",\"X13\",\"Blake2b\",\"SHA-256\",\"X15\",\"X11\",\"SHA-256\",\"BLAKE256\",\"Scrypt\",\"1GB AES Pattern Search\",\"SHA-256\",\"X11\",\"Scrypt\",\"SHA-256\",\"SHA-256\",\"NIST5\",\"Scrypt\",\"Scrypt\",\"X11\",\"Dagger\",\"Scrypt\",\"X11GOST\",\"X11\",\"Scrypt\",\"SHA-256\",\"Scrypt\",\"PoS\",\"Scrypt\",\"X11\",\"X11\",\"SHA-256\",\"SHA-256\",\"NIST5\",\"X11\",\"Scrypt\",\"POS 3.0\",\"Scrypt\",\"Scrypt\",\"Scrypt\",\"X13\",\"X11\",\"X11\",\"Equihash\",\"X11\",\"Scrypt\",\"CryptoNight\",\"SHA-256\",\"SHA-256\",\"X11\",\"Scrypt\",\"Multiple\",\"Scrypt\",\"Scrypt\",\"Scrypt\",\"SHA-256\",\"Scrypt\",\"Scrypt\",\"SHA-256D\",\"PoS\",\"Scrypt\",\"X11\",\"Lyra2Z\",\"PoS\",\"X13\",\"X14\",\"PoS\",\"SHA-256D\",\"Ethash\",\"Equihash\",\"DPoS\",\"X11\",\"Scrypt\",\"X11\",\"X13\",\"X11\",\"PoS\",\"Scrypt\",\"Scrypt\",\"X11\",\"PoS\",\"X11\",\"SHA-256\",\"Scrypt\",\"X11\",\"Scrypt\",\"Scrypt\",\"X11\",\"CryptoNight\",\"Scrypt\",\"Scrypt\",\"Scrypt\",\"Scrypt\",\"Quark\",\"QuBit\",\"Scrypt\",\"CryptoNight\",\"Lyra2RE\",\"Scrypt\",\"SHA-256\",\"X11\",\"Scrypt\",\"X11\",\"Scrypt\",\"CryptoNight-V7\",\"Scrypt\",\"Scrypt\",\"Scrypt\",\"X13\",\"X11\",\"Equihash\",\"Scrypt\",\"Scrypt\",\"Lyra2RE\",\"Scrypt\",\"Dagger-Hashimoto\",\"X11\",\"Blake2S\",\"X11\",\"Scrypt\",\"PoS\",\"X11\",\"NIST5\",\"PoS\",\"X11\",\"Scrypt\",\"Scrypt\",\"Scrypt\",\"SHA-256\",\"X11\",\"Scrypt\",\"Scrypt\",\"SHA-256\",\"PoS\",\"Scrypt\",\"X15\",\"SHA-256\",\"Scrypt\",\"POS 3.0\",\"CryptoNight-V7\",\"536\",\"Argon2d\",\"Blake2b\",\"Cloverhash\",\"CryptoNight\",\"NIST5\",\"X11\",\"NIST5\",\"Skein\",\"Scrypt\",\"X13\",\"Scrypt\",\"X11\",\"X11\",\"Scrypt\",\"CryptoNight\",\"X13\",\"Time Travel\",\"Scrypt\",\"Keccak\",\"SkunkHash v2 Raptor\",\"X11\",\"Skein\",\"SHA-256\",\"X11\",\"Scrypt\",\"VeChainThor Authority\",\"Scrypt\",\"PoS\",\"Scrypt\",\"Scrypt\",\"Scrypt\",\"Scrypt\",\"Scrypt\",\"Scrypt\",\"Scrypt\",\"CryptoNight\",\"SHA-512\",\"Ouroboros\",\"X11\",\"Equihash\",\"NeoScrypt\",\"X11\",\"Scrypt\",\"NeoScrypt\",\"Lyra2REv2\",\"Equihash\",\"Scrypt\",\"SHA-256\",\"NIST5\",\"PHI1612\",\"Dagger\",\"Scrypt\",\"Quark\",\"Scrypt\",\"POS 2.0\",\"Scrypt\",\"SHA-256\",\"X11\",\"NeoScrypt\",\"Ethash\",\"NeoScrypt\",\"X11\",\"DPoS\",\"NIST5\",\"X13\",\"Multiple\",\"Scrypt\",\"CryptoNight\",\"CryptoNight\",\"Ethash\",\"NIST5\",\"Quark\",\"X11\",\"CryptoNight-V7\",\"Scrypt\",\"Scrypt\",\"Scrypt\",\"X11\",\"BLAKE256\",\"X11\",\"NeoScrypt\",\"Quark\",\"NeoScrypt\",\"Scrypt\",\"Scrypt\",\"Scrypt\",\"X11\",\"X11\",\"SHA-256\",\"C11\",\"POS 3.0\",\"Ethash\",\"Scrypt\",\"CryptoNight\",\"SkunkHash\",\"Scrypt\",\"CryptoNight\",\"Scrypt\",\"Dagger\",\"Lyra2REv2\",\"X13\",\"Proof-of-BibleHash\",\"SHA-256 + Hive\",\"Scrypt\",\"Scrypt\",\"X11\",\"C11\",\"Proof-of-Authority\",\"X11\",\"XEVAN\",\"Scrypt\",\"VBFT\",\"Ethash\",\"CryptoNight\",\"Scrypt\",\"IMesh\",\"NIST5\",\"Scrypt\",\"Scrypt\",\"Equihash\",\"Scrypt\",\"Lyra2Z\",\"Green Protocol\",\"PoS\",\"Scrypt\",\"Semux BFT consensus\",\"X11\",\"Quark\",\"PoS\",\"CryptoNight\",\"X16R\",\"Scrypt\",\"NIST5\",\"Lyra2RE\",\"XEVAN\",\"Tribus\",\"Scrypt\",\"Lyra2Z\",\"CryptoNight\",\"CryptoNight Heavy\",\"CryptoNight\",\"Scrypt\",\"Scrypt\",\"Jump Consistent Hash\",\"SHA-256D\",\"CryptoNight\",\"Scrypt\",\"X15\",\"Scrypt\",\"Quark\",\"SHA-256\",\"DPoS\",\"X16R\",\"HMQ1725\",\"X11\",\"X16R\",\"Quark\",\"Quark\",\"Scrypt\",\"Lyra2REv2\",\"Quark\",\"Scrypt\",\"Scrypt\",\"CryptoNight-V7\",\"Cryptonight-GPU\",\"XEVAN\",\"CryptoNight Heavy\",\"X11\",\"X11\",\"Scrypt\",\"PoS\",\"SHA-256\",\"Keccak\",\"X11\",\"X11\",\"Scrypt\",\"SHA-512\",\"X16R\",\"ECC 256K1\",\"Equihash\",\"XEVAN\",\"Lyra2Z\",\"SHA-256\",\"XEVAN\",\"X11\",\"CryptoNight\",\"Quark\",\"Blake\",\"Blake\",\"Equihash\",\"Exosis\",\"Scrypt\",\"Scrypt\",\"Equihash\",\"Quark\",\"Equihash\",\"Quark\",\"Scrypt\",\"QuBit\",\"X11\",\"Scrypt\",\"XEVAN\",\"SHA-256D\",\"X11\",\"SHA-256\",\"X13\",\"SHA-256\",\"X11\",\"DPoS\",\"Scrypt\",\"Scrypt\",\"X11\",\"NeoScrypt\",\"Scrypt\",\"Blake\",\"Scrypt\",\"SHA-256\",\"Scrypt\",\"X11\",\"Scrypt\",\"Scrypt\",\"SHA-256\",\"X11\",\"SHA-256\",\"Scrypt\",\"Scrypt\",\"Scrypt\",\"Groestl\",\"X11\",\"Scrypt\",\"PoS\",\"Scrypt\",\"Scrypt\",\"X11\",\"SHA-256\",\"DPoS\",\"Scrypt\",\"Scrypt\",\"NeoScrypt\",\"Multiple\",\"X13\",\"Equihash+Scrypt\",\"DPoS\",\"Ethash\",\"DPoS\",\"SHA-256\",\"Leased POS\",\"PoS\",\"TRC10\",\"PoS\",\"SHA-256\",\"Scrypt\",\"CryptoNight\",\"Equihash\",\"Scrypt\"],\"Class\":{\"__ndarray__\":\"AQAAAAEAAAABAAAAAAAAAAAAAAAAAAAAAQAAAAAAAAAAAAAAAAAAAAEAAAAAAAAAAQAAAAEAAAAAAAAAAQAAAAAAAAAAAAAAAQAAAAEAAAAAAAAAAAAAAAAAAAAAAAAAAAAAAAEAAAAAAAAAAAAAAAAAAAABAAAAAAAAAAEAAAAAAAAAAAAAAAEAAAABAAAAAAAAAAAAAAAAAAAAAAAAAAAAAAAAAAAAAQAAAAEAAAAAAAAAAAAAAAAAAAAAAAAAAAAAAAEAAAABAAAAAAAAAAEAAAAAAAAAAAAAAAAAAAAAAAAAAQAAAAAAAAAAAAAAAQAAAAAAAAABAAAAAQAAAAEAAAAAAAAAAAAAAAAAAAABAAAAAQAAAAEAAAABAAAAAQAAAAAAAAAAAAAAAAAAAAEAAAABAAAAAAAAAAEAAAAAAAAAAQAAAAEAAAAAAAAAAAAAAAAAAAAAAAAAAQAAAAEAAAAAAAAAAQAAAAAAAAAAAAAAAQAAAAEAAAAAAAAAAQAAAAEAAAAAAAAAAAAAAAEAAAABAAAAAAAAAAEAAAABAAAAAAAAAAEAAAAAAAAAAQAAAAAAAAABAAAAAAAAAAEAAAABAAAAAAAAAAAAAAABAAAAAAAAAAAAAAAAAAAAAQAAAAAAAAAAAAAAAAAAAAAAAAAAAAAAAQAAAAEAAAAAAAAAAAAAAAAAAAABAAAAAAAAAAEAAAAAAAAAAAAAAAEAAAAAAAAAAQAAAAAAAAABAAAAAQAAAAAAAAAAAAAAAQAAAAAAAAAAAAAAAQAAAAEAAAAAAAAAAQAAAAAAAAABAAAAAQAAAAEAAAAAAAAAAAAAAAAAAAAAAAAAAQAAAAEAAAABAAAAAQAAAAEAAAAAAAAAAAAAAAEAAAABAAAAAQAAAAEAAAABAAAAAAAAAAEAAAABAAAAAQAAAAEAAAABAAAAAAAAAAEAAAAAAAAAAQAAAAEAAAAAAAAAAQAAAAAAAAABAAAAAQAAAAAAAAABAAAAAAAAAAEAAAAAAAAAAQAAAAAAAAABAAAAAQAAAAEAAAABAAAAAAAAAAEAAAABAAAAAQAAAAEAAAABAAAAAAAAAAAAAAABAAAAAQAAAAAAAAAAAAAAAQAAAAEAAAABAAAAAQAAAAEAAAAAAAAAAQAAAAEAAAABAAAAAQAAAAEAAAABAAAAAQAAAAEAAAAAAAAAAQAAAAEAAAABAAAAAQAAAAEAAAABAAAAAAAAAAAAAAAAAAAAAQAAAAEAAAABAAAAAQAAAAAAAAABAAAAAAAAAAEAAAABAAAAAAAAAAEAAAAAAAAAAAAAAAEAAAAAAAAAAAAAAAEAAAAAAAAAAQAAAAEAAAABAAAAAAAAAAEAAAABAAAAAAAAAAEAAAABAAAAAQAAAAEAAAABAAAAAQAAAAEAAAAAAAAAAQAAAAAAAAABAAAAAQAAAAEAAAABAAAAAAAAAAEAAAAAAAAAAQAAAAAAAAAAAAAAAAAAAAAAAAABAAAAAAAAAAEAAAABAAAAAAAAAAEAAAAAAAAAAAAAAAAAAAABAAAAAAAAAAEAAAAAAAAAAAAAAAAAAAABAAAAAAAAAAEAAAAAAAAAAQAAAAEAAAADAAAAAAAAAAEAAAAAAAAAAAAAAAAAAAAAAAAAAAAAAAEAAAABAAAAAAAAAAEAAAABAAAAAQAAAAAAAAABAAAAAAAAAAEAAAAAAAAAAQAAAAAAAAABAAAAAQAAAAEAAAABAAAAAAAAAAEAAAABAAAAAAAAAAEAAAABAAAAAQAAAAAAAAAAAAAAAAAAAAAAAAABAAAAAQAAAAEAAAABAAAAAAAAAAEAAAAAAAAAAAAAAAAAAAABAAAAAQAAAAAAAAAAAAAAAQAAAAEAAAAAAAAAAQAAAAAAAAAAAAAAAAAAAAEAAAAAAAAAAAAAAAEAAAABAAAAAQAAAAAAAAAAAAAAAAAAAAEAAAABAAAAAQAAAAAAAAAAAAAAAQAAAAAAAAAAAAAAAAAAAAAAAAABAAAAAwAAAAMAAAAAAAAAAAAAAAAAAAABAAAAAwAAAAEAAAABAAAAAQAAAAEAAAAAAAAAAAAAAAAAAAAAAAAAAQAAAAEAAAABAAAAAAAAAAEAAAAAAAAAAQAAAAEAAAABAAAAAQAAAAAAAAABAAAAAQAAAAAAAAABAAAAAQAAAAAAAAAAAAAAAQAAAAAAAAABAAAAAAAAAAAAAAAAAAAAAAAAAAEAAAABAAAAAAAAAAEAAAAAAAAAAQAAAAEAAAABAAAAAQAAAAEAAAABAAAAAAAAAAAAAAAAAAAAAQAAAAEAAAABAAAAAQAAAAEAAAABAAAAAAAAAAEAAAAAAAAAAAAAAAAAAAAAAAAAAQAAAAEAAAABAAAAAQAAAAAAAAABAAAAAQAAAAAAAAABAAAAAQAAAAAAAAADAAAAAAAAAAEAAAAAAAAAAAAAAAEAAAABAAAAAAAAAAEAAAAAAAAAAAAAAAEAAAAAAAAAAAAAAAEAAAAAAAAAAQAAAAAAAAABAAAAAQAAAAAAAAABAAAAAQAAAAEAAAABAAAAAQAAAAAAAAAAAAAAAAAAAAEAAAABAAAAAQAAAAAAAAABAAAAAAAAAAEAAAAAAAAAAQAAAAEAAAABAAAAAQAAAAAAAAABAAAAAQAAAAEAAAAAAAAAAQAAAAAAAAABAAAAAAAAAAEAAAABAAAAAQAAAAAAAAAAAAAAAQAAAAEAAAABAAAAAQAAAAEAAAABAAAAAAAAAAEAAAAAAAAAAQAAAAAAAAABAAAAAQAAAAMAAAABAAAAAgAAAAEAAAABAAAAAQAAAAAAAAAAAAAAAQAAAA==\",\"dtype\":\"int32\",\"order\":\"little\",\"shape\":[532]},\"CoinName\":[\"42 Coin\",\"404Coin\",\"EliteCoin\",\"Bitcoin\",\"Ethereum\",\"Litecoin\",\"Dash\",\"Monero\",\"Ethereum Classic\",\"ZCash\",\"Bitshares\",\"DigiByte\",\"BitcoinDark\",\"PayCoin\",\"ProsperCoin\",\"KoboCoin\",\"Spreadcoin\",\"Argentum\",\"Aurora Coin\",\"BlueCoin\",\"MyriadCoin\",\"MoonCoin\",\"ZetaCoin\",\"SexCoin\",\"Quatloo\",\"EnergyCoin\",\"QuarkCoin\",\"Riecoin\",\"Digitalcoin \",\"BitBar\",\"Catcoin\",\"CryptoBullion\",\"CannaCoin\",\"CryptCoin\",\"CasinoCoin\",\"Diamond\",\"Verge\",\"DevCoin\",\"EarthCoin\",\"E-Gulden\",\"Einsteinium\",\"Emerald\",\"Exclusive Coin\",\"FlutterCoin\",\"Franko\",\"FeatherCoin\",\"GrandCoin\",\"GlobalCoin\",\"GoldCoin\",\"HoboNickels\",\"HyperStake\",\"Infinite Coin\",\"IOCoin\",\"IXcoin\",\"KrugerCoin\",\"LuckyCoin\",\"Litebar \",\"MaxCoin\",\"MegaCoin\",\"MediterraneanCoin\",\"MintCoin\",\"MinCoin\",\"MazaCoin\",\"Nautilus Coin\",\"NavCoin\",\"NobleCoin\",\"Namecoin\",\"NyanCoin\",\"OpalCoin\",\"Orbitcoin\",\"PotCoin\",\"PhoenixCoin\",\"Reddcoin\",\"RonPaulCoin\",\"StableCoin\",\"SmartCoin\",\"SuperCoin\",\"SyncCoin\",\"SysCoin\",\"TeslaCoin\",\"TigerCoin\",\"TittieCoin\",\"TorCoin\",\"TerraCoin\",\"UnbreakableCoin\",\"Unobtanium\",\"UroCoin\",\"UnitaryStatus Dollar\",\"UltraCoin\",\"ViaCoin\",\"VeriCoin\",\"Vertcoin\",\"WorldCoin\",\"X11 Coin\",\"Crypti\",\"JouleCoin\",\"StealthCoin\",\"ZCC Coin\",\"ByteCoin\",\"DigitalNote \",\"BurstCoin\",\"StorjCoin\",\"MonaCoin\",\"Neutron\",\"FairCoin\",\"Gulden\",\"RubyCoin\",\"PesetaCoin\",\"Kore\",\"Wild Beast Coin\",\"Dnotes\",\"Flo\",\"8BIT Coin\",\"Sativa Coin\",\"ArtByte\",\"Folding Coin\",\"Ucoin\",\"Unitus\",\"CypherPunkCoin\",\"OmniCron\",\"Vtorrent\",\"GreenCoin\",\"Cryptonite\",\"MasterCoin\",\"SoonCoin\",\"1Credit\",\"IslaCoin\",\"Nexus\",\"MarsCoin \",\"Crypto\",\"Anarchists Prime\",\"Droidz\",\"BowsCoin\",\"Squall Coin\",\"Song Coin\",\"BitZeny\",\"Diggits\",\"Expanse\",\"Paycon\",\"Siacoin\",\"Emercoin\",\"EverGreenCoin\",\"MindCoin\",\"I0coin\",\"Decred\",\"Revolution VR\",\"HOdlcoin\",\"EDRCoin\",\"Hitcoin\",\"Gamecredits\",\"DubaiCoin\",\"CarpeDiemCoin\",\"PWR Coin\",\"BillaryCoin\",\"GPU Coin\",\"Adzcoin\",\"SoilCoin\",\"YoCoin\",\"SibCoin\",\"EuropeCoin\",\"ZeitCoin\",\"SwingCoin\",\"SafeExchangeCoin\",\"Nebuchadnezzar\",\"Francs\",\"BolivarCoin\",\"Ratecoin\",\"Revenu\",\"Clockcoin\",\"VIP Tokens\",\"BitSend\",\"Omni\",\"Let it Ride\",\"PutinCoin\",\"iBankCoin\",\"Frankywillcoin\",\"MudraCoin\",\"PizzaCoin\",\"Lutetium Coin\",\"Komodo\",\"GoldBlocks\",\"CarterCoin\",\"Karbo\",\"BitTokens\",\"ZayedCoin\",\"MustangCoin\",\"ZoneCoin\",\"Circuits of Value\",\"RootCoin\",\"DopeCoin\",\"BitCurrency\",\"DollarCoin\",\"Swiscoin\",\"Shilling\",\"BuzzCoin\",\"Opair\",\"PesoBit\",\"Halloween Coin\",\"ZCoin\",\"CoffeeCoin\",\"RoyalCoin\",\"GanjaCoin V2\",\"TeamUP\",\"LanaCoin\",\"Elementrem\",\"ZClassic\",\"ARK\",\"InsaneCoin\",\"KiloCoin\",\"ArtexCoin\",\"EmberCoin\",\"XenixCoin\",\"FreeCoin\",\"PLNCoin\",\"AquariusCoin\",\"Kurrent\",\"Creatio\",\"Eternity\",\"Eurocoin\",\"BitcoinFast\",\"Stakenet\",\"BitConnect Coin\",\"MoneyCoin\",\"Enigma\",\"Cannabis Industry Coin\",\"Russiacoin\",\"PandaCoin\",\"GameUnits\",\"GAKHcoin\",\"Allsafe\",\"LiteCreed\",\"OsmiumCoin\",\"Bikercoins\",\"HexxCoin\",\"Klingon Empire Darsek\",\"Internet of People\",\"KushCoin\",\"Printerium\",\"PacCoin\",\"Impeach\",\"Citadel\",\"Zilbercoin\",\"FirstCoin\",\"BeaverCoin\",\"FindCoin\",\"VaultCoin\",\"Zero\",\"OpenChat\",\"Canada eCoin\",\"Zoin\",\"RenosCoin\",\"DubaiCoin\",\"VirtacoinPlus\",\"TajCoin\",\"Impact\",\"EB3coin\",\"Atmos\",\"HappyCoin\",\"Coinonat\",\"MacronCoin\",\"Condensate\",\"Independent Money System\",\"ArgusCoin\",\"LomoCoin\",\"ProCurrency\",\"GoldReserve\",\"BenjiRolls\",\"GrowthCoin\",\"ILCoin\",\"Phreak\",\"Degas Coin\",\"HTML5 Coin\",\"Ultimate Secure Cash\",\"EquiTrader\",\"QTUM\",\"Quantum Resistant Ledger\",\"Espers\",\"Dynamic\",\"Nano\",\"ChanCoin\",\"Dinastycoin\",\"Denarius\",\"DigitalPrice\",\"Virta Unique Coin\",\"Bitcoin Planet\",\"Unify\",\"BritCoin\",\"SocialCoin\",\"ArcticCoin\",\"DAS\",\"Linda\",\"LeviarCoin\",\"DeepOnion\",\"Bitcore\",\"gCn Coin\",\"SmartCash\",\"Signatum\",\"Onix\",\"Cream\",\"Bitcoin Cash\",\"Monoeci\",\"Draftcoin\",\"Vechain\",\"Sojourn Coin\",\"Stakecoin\",\"NewYorkCoin\",\"FrazCoin\",\"Kronecoin\",\"AdCoin\",\"Linx\",\"CoinonatX\",\"Ethereum Dark\",\"Sumokoin\",\"Obsidian\",\"Cardano\",\"Regalcoin\",\"BitcoinZ\",\"TrezarCoin\",\"Elements\",\"TerraNovaCoin\",\"VIVO Coin\",\"Rupee\",\"Bitcoin Gold\",\"WomenCoin\",\"Theresa May Coin\",\"NamoCoin\",\"LUXCoin\",\"Pirl\",\"Xios\",\"Bitcloud 2.0\",\"eBoost\",\"KekCoin\",\"BlackholeCoin\",\"Infinity Economics\",\"Pura\",\"Innova\",\"Ellaism\",\"GoByte\",\"Magnet\",\"Lamden Tau\",\"Electra\",\"Bitcoin Diamond\",\"SHIELD\",\"Cash & Back Coin\",\"UltraNote\",\"BitCoal\",\"DaxxCoin\",\"Bulwark\",\"Kalkulus\",\"AC3\",\"Lethean\",\"GermanCoin\",\"LiteCoin Ultra\",\"PopularCoin\",\"PhantomX\",\"Photon\",\"Sucre\",\"SparksPay\",\"Digiwage\",\"GunCoin\",\"IrishCoin\",\"Trollcoin\",\"Litecoin Plus\",\"Monkey Project\",\"Pioneer Coin\",\"UnitedBitcoin\",\"Interzone\",\"TokenPay\",\"1717 Masonic Commemorative Token\",\"My Big Coin\",\"TurtleCoin\",\"MUNcoin\",\"Unified Society USDEX\",\"Niobio Cash\",\"ShareChain\",\"Travelflex\",\"KREDS\",\"Tokyo Coin\",\"BiblePay\",\"LitecoinCash\",\"BitFlip\",\"LottoCoin\",\"Crypto Improvement Fund\",\"Stipend\",\"Poa Network\",\"Pushi\",\"Ellerium\",\"Velox\",\"Ontology\",\"Callisto Network\",\"BitTube\",\"Poseidon\",\"Aidos Kuneen\",\"Bitspace\",\"Briacoin\",\"Ignition\",\"Bitrolium\",\"MedicCoin\",\"Alpenschillling\",\"Bitcoin Green\",\"Deviant Coin\",\"Abjcoin\",\"Semux\",\"FuturoCoin\",\"Carebit\",\"Zealium\",\"Monero Classic\",\"Proton\",\"iDealCash\",\"Jumpcoin\",\"Infinex\",\"Bitcoin Incognito\",\"KEYCO\",\"HollyWoodCoin\",\"GINcoin\",\"PlatinCoin\",\"Loki\",\"Newton Coin\",\"Swisscoin\",\"Xt3ch\",\"MassGrid\",\"TheVig\",\"PluraCoin\",\"EmaratCoin\",\"Dekado\",\"Lynx\",\"Poseidon Quark\",\"BitcoinWSpectrum\",\"Muse\",\"Motion\",\"PlusOneCoin\",\"Axe\",\"Trivechain\",\"Dystem\",\"Giant\",\"Peony Coin\",\"Absolute Coin\",\"Vitae\",\"HexCoin\",\"TPCash\",\"Webchain\",\"Ryo\",\"Urals Coin\",\"Qwertycoin\",\"ARENON\",\"EUNO\",\"MMOCoin\",\"Ketan\",\"Project Pai\",\"XDNA\",\"PAXEX\",\"Azart\",\"ThunderStake\",\"Kcash\",\"Xchange\",\"Acute Angle Cloud\",\"CrypticCoin\",\"Bettex coin\",\"Actinium\",\"Bitcoin SV\",\"BitMoney\",\"Junson Ming Chan Coin\",\"FREDEnergy\",\"HerbCoin\",\"Universal Molecule\",\"Lithium\",\"PirateCash\",\"Exosis\",\"Block-Logic\",\"Oduwa\",\"Beam\",\"Galilel\",\"Bithereum\",\"Crypto Sports\",\"Credit\",\"SLICE\",\"Dash Platinum\",\"Nasdacoin\",\"Beetle Coin\",\"Titan Coin\",\"Award\",\"BLAST\",\"Bitcoin Rhodium\",\"GlobalToken\",\"Insane Coin\",\"ALAX\",\"LiteDoge\",\"SolarCoin\",\"TruckCoin\",\"UFO Coin\",\"OrangeCoin\",\"BlakeCoin\",\"BitstarCoin\",\"NeosCoin\",\"HyperCoin\",\"PinkCoin\",\"Crypto Escudo\",\"AudioCoin\",\"IncaKoin\",\"Piggy Coin\",\"Crown Coin\",\"Genstake\",\"SmileyCoin\",\"XiaoMiCoin\",\"Groestlcoin\",\"CapriCoin\",\" ClubCoin\",\"Radium\",\"Bata\",\"Pakcoin\",\"Creditbit \",\"OKCash\",\"Lisk\",\"HiCoin\",\"WhiteCoin\",\"FriendshipCoin\",\"JoinCoin\",\"Triangles Coin\",\"Vollar\",\"EOS\",\"Reality Clash\",\"Oxycoin\",\"TigerCash\",\"Waves\",\"Particl\",\"BitTorrent\",\"Nxt\",\"ZEPHYR\",\"Gapcoin\",\"Beldex\",\"Horizen\",\"BitcoinPlus\"],\"ProofType\":[\"PoW/PoS\",\"PoW/PoS\",\"PoW/PoS\",\"PoW\",\"PoW\",\"PoW\",\"PoW/PoS\",\"PoW\",\"PoW\",\"PoW\",\"PoS\",\"PoW\",\"PoW/PoS\",\"PoS\",\"PoW\",\"PoW/PoS\",\"PoW\",\"PoW\",\"PoW/PoS\",\"PoW/PoS\",\"PoW\",\"PoW\",\"PoW\",\"PoW\",\"PoW\",\"PoW/PoS\",\"PoW\",\"PoW\",\"PoW\",\"PoW/PoS\",\"PoW\",\"PoW/PoS\",\"PoW\",\"PoW\",\"PoC\",\"PoW/PoS\",\"PoW\",\"PoW\",\"PoW\",\"PoW\",\"PoW\",\"PoW\",\"PoS\",\"PoS/PoW/PoT\",\"PoW\",\"PoW\",\"PoW\",\"PoW\",\"PoW\",\"PoW/PoS\",\"PoS\",\"PoW\",\"PoW/PoS\",\"PoW\",\"PoW\",\"PoW\",\"PoW\",\"PoW/PoS\",\"PoW\",\"PoW\",\"PoS\",\"PoW\",\"PoW/PoS\",\"PoS\",\"PoW/PoS\",\"PoW\",\"PoW\",\"PoW\",\"PoW/PoS\",\"PoW/PoS\",\"PoW/PoS\",\"PoW/PoS\",\"PoW/PoS\",\"PoW\",\"PoW\",\"PoW\",\"PoS\",\"PoW/PoS\",\"PoW\",\"PoS\",\"PoW\",\"PoS\",\"PoW/PoS\",\"PoW\",\"PoW\",\"PoW\",\"PoW\",\"PoW/PoS\",\"PoW/PoS\",\"PoW\",\"PoST\",\"PoW\",\"PoW\",\"PoW/PoS\",\"PoS\",\"PoW\",\"PoW/PoS\",\"PoW/PoS\",\"PoW\",\"PoW\",\"PoC\",\"PoS\",\"PoW\",\"PoW/PoS\",\"PoW/PoS\",\"PoW\",\"PoS\",\"PoW\",\"PoW/PoS\",\"PoW\",\"PoS\",\"PoW\",\"PoW/PoS\",\"PoW/PoS\",\"PoW\",\"PoW\",\"PoS\",\"PoW\",\"PoW\",\"PoW\",\"PoW/PoS\",\"PoW\",\"PoW\",\"PoW\",\"PoW\",\"PoW\",\"PoW/PoS\",\"PoW/nPoS\",\"PoW\",\"PoW\",\"PoW\",\"PoW/PoS\",\"PoW\",\"PoS/PoW\",\"PoW\",\"PoW\",\"PoS\",\"PoW\",\"PoW/PoS\",\"PoW\",\"PoW/PoS\",\"PoW/PoS\",\"PoW\",\"PoW\",\"PoW/PoS\",\"PoW\",\"PoW\",\"PoW/PoS\",\"PoW/PoS\",\"PoW\",\"PoW/PoS\",\"PoW\",\"PoW/PoS\",\"PoW/PoS\",\"PoS\",\"PoW\",\"PoW\",\"PoW\",\"PoW\",\"PoW/PoS\",\"PoS\",\"PoW/PoS\",\"PoC\",\"PoS\",\"PoW\",\"PoW\",\"PoW/PoS\",\"PoW/PoS\",\"PoW/PoS\",\"PoW/PoS\",\"PoW/PoS\",\"PoW\",\"PoS\",\"PoW/PoS\",\"PoW/PoS\",\"PoW/PoS\",\"PoS\",\"PoW\",\"PoS\",\"dPoW/PoW\",\"PoW/PoS\",\"PoW/PoS\",\"PoW\",\"PoW/PoS\",\"PoW\",\"PoW/PoS\",\"PoW/PoS\",\"PoW\",\"PoW/PoS\",\"PoW\",\"PoS\",\"PoW\",\"PoW/PoW\",\"PoW\",\"PoW/PoS\",\"PoS\",\"PoW/PoS\",\"PoW/PoS\",\"PoW\",\"PoS\",\"PoS\",\"PoW/PoS\",\"PoS\",\"PoW/PoS\",\"PoW\",\"PoW\",\"DPoS\",\"PoW/PoS\",\"PoW\",\"PoW\",\"PoW/PoS\",\"PoW/PoS\",\"PoS\",\"PoW/PoS\",\"PoW/PoS\",\"PoW\",\"PoS\",\"PoW/PoS\",\"PoW/PoS\",\"PoW/PoS\",\"TPoS\",\"PoW/PoS\",\"PoW/PoS\",\"PoW/PoS\",\"PoW\",\"PoW/PoS\",\"PoS\",\"PoW/PoS\",\"PoW/PoS\",\"PoS\",\"PoW/PoS\",\"PoW\",\"PoW\",\"PoW\",\"PoW/PoS\",\"PoW/PoS\",\"PoW/PoS\",\"PoW/PoS\",\"PoW\",\"PoW/PoS\",\"PoW\",\"PoS\",\"PoW/PoS \",\"PoW\",\"PoS\",\"PoW\",\"PoW\",\"PoW/PoS\",\"PoW\",\"PoW\",\"PoS\",\"PoW\",\"PoW/PoS\",\"PoW/PoS\",\"PoW/PoS\",\"PoW\",\"PoS\",\"PoW/PoS\",\"PoW\",\"PoS\",\"PoW/PoS\",\"PoW/PoS\",\"PoW/PoS\",\"PoW/PoS\",\"PoS\",\"PoW/PoS\",\"PoW\",\"PoS\",\"PoW\",\"PoS\",\"PoW/PoS\",\"PoW/PoS\",\"PoS\",\"PoW\",\"PoS\",\"PoW\",\"PoW/PoS\",\"PoW\",\"PoW\",\"PoW\",\"PoW\",\"PoW/PoS\",\"PoW\",\"PoW/PoS\",\"PoW/PoS\",\"PoW\",\"PoW/PoS\",\"PoW\",\"PoW\",\"PoW\",\"PoW/PoS\",\"PoW\",\"PoW/PoS\",\"PoW\",\"PoW\",\"PoW\",\"PoS\",\"PoW\",\"PoW/PoS\",\"PoW\",\"PoW/PoS\",\"PoS\",\"Proof of Authority\",\"PoW\",\"PoS\",\"PoW\",\"PoW\",\"PoW\",\"PoW\",\"PoW\",\"PoW/PoS\",\"PoW/PoS\",\"PoW\",\"PoS\",\"PoS\",\"PoW/PoS\",\"PoW\",\"PoW/PoS\",\"PoW\",\"PoW/PoS\",\"PoW\",\"PoS\",\"PoW\",\"PoW/PoS\",\"PoW/PoS\",\"PoW/PoS\",\"PoW/PoS\",\"PoW\",\"PoW/PoS\",\"PoW/PoS\",\"PoW\",\"PoS\",\"PoW/PoS\",\"PoS\",\"PoW\",\"PoW\",\"PoW\",\"PoW\",\"PoW/PoS\",\"DPoS\",\"PoW/PoS\",\"PoW/PoS\",\"PoW\",\"PoW/PoS\",\"PoW\",\"PoW\",\"PoW\",\"PoS\",\"PoS\",\"PoW\",\"PoW\",\"PoW/PoS\",\"PoW/PoS\",\"PoW\",\"PoW/PoS\",\"PoW\",\"PoW\",\"PoW\",\"PoS\",\"PoW\",\"PoW\",\"PoW/PoS\",\"PoW/PoS\",\"PoS\",\"PoW\",\"PoW\",\"PoW\",\"PoS\",\"PoS\",\"PoW and PoS\",\"PoW\",\"PoW\",\"PoW/PoS\",\"PoW\",\"PoW\",\"PoW\",\"PoW\",\"PoS\",\"POBh\",\"PoW + Hive\",\"PoW\",\"PoW\",\"PoW\",\"PoW/PoS\",\"PoA\",\"PoW/PoS\",\"PoW/PoS\",\"PoS\",\"PoS\",\"PoW\",\"PoW\",\"PoW\",\"PoW\",\"PoW/PoS\",\"PoW/PoS\",\"PoW/PoS\",\"PoW\",\"PoS\",\"PoW\",\"PoS\",\"PoS\",\"PoW/PoS\",\"DPoS\",\"PoW\",\"PoW/PoS\",\"PoS\",\"PoW\",\"PoS\",\"PoW/PoS\",\"PoW\",\"PoW\",\"PoS/PoW\",\"PoW\",\"PoS\",\"PoW\",\"PoW\",\"PoW\",\"PoW\",\"PoW/PoS\",\"PoS\",\"PoW\",\"PoW/PoS\",\"PoW\",\"PoW/PoS\",\"PoS\",\"HPoW\",\"PoS\",\"PoS\",\"PoS\",\"PoW\",\"PoW\",\"PoW\",\"PoW/PoS\",\"PoS\",\"PoW/PoS\",\"PoS\",\"PoW/PoS\",\"PoS\",\"PoW\",\"PoW/PoS\",\"PoW\",\"PoW\",\"PoW\",\"PoW\",\"PoS\",\"PoW/PoS\",\"PoS\",\"PoS\",\"PoW\",\"PoW/PoS\",\"PoS\",\"PoW\",\"PoW/PoS\",\"Zero-Knowledge Proof\",\"PoW\",\"DPOS\",\"PoW\",\"PoS\",\"PoW\",\"PoW\",\"Pos\",\"PoS\",\"PoW\",\"PoW/PoS\",\"PoW\",\"PoW\",\"PoS\",\"PoW\",\"PoW\",\"PoW/PoS\",\"PoW\",\"PoW/PoS\",\"PoW\",\"PoS\",\"PoW/PoS\",\"PoW\",\"PoS\",\"PoW/PoS\",\"PoW/PoS\",\"PoW/PoS\",\"PoW/PoS\",\"PoW\",\"PoW\",\"PoW\",\"PoW/PoS\",\"DPoS\",\"PoW/PoS\",\"PoW\",\"PoW/PoS\",\"PoW\",\"PoW/PoS\",\"PoW\",\"PoW/PoS\",\"PoS\",\"PoW/PoS\",\"PoW/PoS\",\"PoW\",\"PoW/PoS\",\"PoW/PoS\",\"PoW/PoS\",\"PoW\",\"PoW/PoS\",\"PoW\",\"PoW/PoS\",\"PoW\",\"PoW/PoS\",\"PoW/PoS\",\"PoS\",\"PoW\",\"PoW\",\"Proof of Trust\",\"PoW/PoS\",\"DPoS\",\"PoS\",\"PoW/PoS\",\"PoW/PoS\",\"PoW\",\"PoW/PoS\",\"PoW\",\"DPoS\",\"PoW\",\"DPoS\",\"PoS\",\"LPoS\",\"PoS\",\"DPoS\",\"PoS/LPoS\",\"DPoS\",\"PoW/PoS\",\"PoW\",\"PoW\",\"PoS\"],\"TotalCoinSupply\":[\"42\",\"532000000\",\"314159265359\",\"21000000\",\"0\",\"84000000\",\"22000000\",\"0\",\"210000000\",\"21000000\",\"3600570502\",\"21000000000\",\"22000000\",\"12500000\",\"21000000\",\"350000000\",\"20000000\",\"64000000\",\"16768584\",\"0\",\"2000000000\",\"384000000000\",\"169795588\",\"250000000\",\"100000000\",\"0\",\"247000000\",\"84000000\",\"48166000\",\"500000\",\"21000000 \",\"1000000\",\"13140000\",\"18000000\",\"40000000000\",\"4380000\",\"16555000000\",\"21000000000\",\"13500000000\",\"21000000 \",\"299792458\",\"32000000\",\"0\",\"0\",\"11235813\",\"336000000\",\"1420609614\",\"70000000\",\"72245700\",\"120000000\",\"0\",\"90600000000\",\"22000000\",\"21000000\",\"265420800\",\"20000000\",\"1350000\",\"100000000\",\"42000000\",\"200000000\",\"0\",\"10000000\",\"2419200000\",\"16180000\",\"0\",\"15000000000\",\"21000000\",\"337000000\",\"0\",\"3770000\",\"420000000\",\"98000000\",\"0\",\"21000000\",\"250000000\",\"51200000\",\"0\",\"1000\",\"888000000\",\"100000000\",\"47011968\",\"2300000000\",\"10000000\",\"42000000\",\"80000000\",\"250000\",\"0\",\"1600000000\",\"100000000\",\"23000000\",\"0\",\"84000000\",\"265420800\",\"5500000\",\"0\",\"45000000\",\"0\",\"1000000000\",\"184467440735\",\"10000000000\",\"2158812800\",\"500000000\",\"105120000\",\"68000000\",\"0\",\"1680000000\",\"0\",\"166386000\",\"12000000\",\"2628000\",\"500000000\",\"160000000\",\"0\",\"10000000\",\"1000000000\",\"1000000000\",\"20000000\",\"0\",\"0\",\"3371337\",\"20000000\",\"10000000000\",\"1840000000\",\"619478\",\"21000000\",\"92000000000\",\"0\",\"78000000\",\"33000000\",\"65789100\",\"53760000\",\"5060000\",\"21000000\",\"0\",\"210240000\",\"250000000\",\"100000000\",\"16906397\",\"50000000\",\"0\",\"1000000000\",\"26298000\",\"16000000\",\"21000000\",\"21000000\",\"210000000\",\"81962100\",\"22000000\",\"26550000000\",\"84000000\",\"10500000\",\"21626280000 \",\"0\",\"42000000\",\"221052632\",\"84000000\",\"30000000\",\"168351300\",\"24000000\",\"384000000\",\" 99000000000\",\"40000000\",\"2147483647\",\"20000000\",\"20000000\",\"25000000\",\"75000000\",\"222725000\",\"525000000\",\"90000000\",\"139000000\",\"616448\",\"33500000\",\"2000000000\",\"44333333\",\"100000000\",\"200000000\",\"25000000\",\"657000000\",\"200000000\",\"50000000\",\"90000000\",\"10000000\",\"21000000\",\"9736000\",\"3000000\",\"21000000\",\"1200000000\",\"0\",\"200000000\",\"0\",\"10638298\",\"3100000000\",\"30000000\",\"20000000000\",\"74000000\",\"0\",\"1500000000\",\"21400000\",\"39999898\",\"2500124\",\"100000000\",\"301000000\",\"7506000000\",\"26205539\",\"21000000\",\"125000000\",\"30000000\",\"10000000000\",\"500000000\",\"850000000\",\"3853326.77707314\",\"50000000\",\"38540000 \",\"42000000\",\"228000000\",\"20000000\",\"60000000\",\"20000000\",\"33000000\",\"76500000\",\"28000000\",\"650659833\",\"5000000\",\"21000000\",\"144000000\",\"32514916898\",\"13000000\",\"3315789\",\"15000000\",\"78835200\",\"2714286\",\"25000000\",\"9999999\",\"500000000\",\"21000000\",\"9354000\",\"20000000\",\"100000000000\",\"21933333\",\"185000000\",\"55000000\",\"110000000\",\"3360000\",\"14524851.4827\",\"1000000000\",\"17000000\",\"1000000000\",\"100000000 \",\"21000000\",\"34426423\",\"2232901\",\"100000000\",\"36900000\",\"110000000\",\"4000000000\",\"110290030\",\"100000000\",\"48252000\",\"400000000\",\"500000000\",\"21212121\",\"28600000\",\"1000000000\",\"75000000000\",\"40000000\",\"35520400\",\"2000000000\",\"2500000000\",\"30000000\",\"105000000\",\"90000000000\",\"200084200\",\"72000000\",\"100000000\",\"105000000\",\"50000000000\",\"0\",\"340282367\",\"30000000\",\"2000000000\",\"10000000\",\"100000000\",\"120000000\",\"100000000\",\"19276800\",\"30000000\",\" 75000000\",\"60000000\",\"18900000\",\"50000000000\",\"54000000\",\"18898187.6216583\",\"21000000\",\"200000000000\",\"5000000000\",\"137500000\",\"1100000000\",\"100000000\",\"21000000\",\"9507271\",\"17405891.19707116\",\"86712634466\",\"10500000000\",\"61599965\",\"0\",\"20000000\",\"84000000\",\"100000000\",\"100000000\",\"48252000\",\"4200000\",\"88888888\",\"91388946\",\"45000000000\",\"27000000\",\"21000000000\",\"400000000\",\"1800000000\",\"15733333\",\"27000000\",\"24000000\",\"21000000\",\"25000000000\",\"100000000\",\"1200000000\",\"60000000\",\"156306732.71\",\"21000000\",\"200000000\",\"100000000\",\"21000000\",\"14788275.991\",\"9000000000\",\"350000000\",\"45000000\",\"280000000\",\"31800000\",\"144000000\",\"500000000\",\"30000000000\",\"210000000\",\"660000000\",\"210000000\",\"85000000000\",\"12500000\",\"10000000000\",\"27716121\",\"20000000\",\"550000000\",\"999481516\",\"50000000000\",\"150000000\",\"4999999999\",\"50000000\",\" 90000000000\",\"19800000\",\"21000000\",\"120000000\",\"500000000\",\"64000000\",\"900000000\",\"4000000\",\"21000000\",\"23000000\",\"20166000\",\"23000000\",\"25000000\",\"1618033\",\"30000000\",\"1000000000000\",\"16600000\",\"232000000\",\"336000000\",\"10000000000\",\"100000000\",\"1100000000\",\"800000000\",\"5200000000\",\"840000000\",\"40000000\",\"18406979840\",\"500000000\",\"19340594\",\"252460800\",\"25000000\",\"60000000\",\"124000000\",\"1000000000\",\"6500000000\",\"1000000000\",\"21000000\",\"25000000\",\"50000000\",\"3000000\",\"5000000\",\"70000000\",\"500000000\",\"300000000\",\"21000000\",\"88000000\",\"30000000\",\"100000000\",\"100000000\",\"200000000\",\"80000000\",\"18400000\",\"45000000\",\"5121951220\",\"21000000\",\"26280000\",\"21000000\",\"18000000\",\"26000000\",\"10500000\",\"600000518\",\"150000000\",\"184000000000\",\"10200000000\",\"44000000\",\"168000000\",\"100000000\",\"1000000000\",\"84000000\",\"90000000\",\"92000000000\",\"650000000 \",\"100262205\",\"18081806 \",\"22075700\",\"21000000\",\"21000000\",\"82546564\",\"21000000\",\"5151000\",\"16880000000\",\"52500000\",\"100000000\",\"22105263\",\"1000000000\",\"1750000000\",\"88188888\",\"210000000\",\"184470000000\",\"55000000\",\"50000000\",\"260000000\",\"210000000\",\"2100000000\",\"366000000\",\"100000000\",\"25000000\",\"18000000000\",\"1000000000\",\"100000000\",\"1000000000\",\"7600000000\",\"50000000\",\"84000000\",\"21000000\",\"70000000000\",\"0\",\"8080000000\",\"54000000\",\"105120001.44\",\"25228800\",\"105000000\",\"21000000\",\"120000000\",\"21000000\",\"262800000\",\"19035999\",\"30886000\",\"13370000\",\"74800000000\",\"100000000\",\"19700000\",\"84000000\",\"500000000\",\"5000000000\",\"420000000\",\"64000000\",\"2100000\",\"168000000\",\"30000000\",\"1000000000\",\"35000000000\",\"98100000000\",\"0\",\"4000000000\",\"200000000\",\"7000000000\",\"54256119\",\"21000000\",\"0\",\"500000000\",\"1000000000\",\"10500000000\",\"190000000\",\"1000000000\",\"42000000\",\"15000000\",\"50000000000\",\"400000000\",\"105000000\",\"208000000\",\"160000000\",\"9000000\",\"5000000\",\"182000000\",\"16504333\",\"105000000\",\"159918400\",\"10008835635\",\"300000000\",\"60168145\",\"2800000\",\"120000\",\"2100000000\",\"0\",\"24487944\",\"0\",\"1000000000\",\"100000000\",\"8634140\",\"990000000000\",\"1000000000\",\"2000000000\",\"250000000\",\"1400222610\",\"21000000\",\"1000000\"],\"TotalCoinsMined\":{\"__ndarray__\":\"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\",\"dtype\":\"float64\",\"order\":\"little\",\"shape\":[532]}},\"selected\":{\"id\":\"1307\"},\"selection_policy\":{\"id\":\"1341\"}},\"id\":\"1306\",\"type\":\"ColumnDataSource\"},{\"attributes\":{\"editor\":{\"id\":\"1329\"},\"field\":\"TotalCoinsMined\",\"formatter\":{\"id\":\"1328\"},\"title\":\"TotalCoinsMined\"},\"id\":\"1330\",\"type\":\"TableColumn\"},{\"attributes\":{\"children\":[{\"id\":\"1305\"},{\"id\":\"1338\"},{\"id\":\"1344\"}],\"margin\":[0,0,0,0],\"name\":\"Row02101\",\"tags\":[\"embedded\"]},\"id\":\"1304\",\"type\":\"Row\"},{\"attributes\":{\"format\":\"0,0.0[00000]\"},\"id\":\"1328\",\"type\":\"NumberFormatter\"},{\"attributes\":{},\"id\":\"1333\",\"type\":\"NumberFormatter\"},{\"attributes\":{},\"id\":\"1308\",\"type\":\"StringFormatter\"},{\"attributes\":{\"columns\":[{\"id\":\"1310\"},{\"id\":\"1315\"},{\"id\":\"1320\"},{\"id\":\"1325\"},{\"id\":\"1330\"},{\"id\":\"1335\"}],\"height\":300,\"reorderable\":false,\"source\":{\"id\":\"1306\"},\"view\":{\"id\":\"1339\"},\"width\":700},\"id\":\"1338\",\"type\":\"DataTable\"},{\"attributes\":{\"source\":{\"id\":\"1306\"}},\"id\":\"1339\",\"type\":\"CDSView\"},{\"attributes\":{},\"id\":\"1318\",\"type\":\"StringFormatter\"},{\"attributes\":{},\"id\":\"1309\",\"type\":\"StringEditor\"},{\"attributes\":{},\"id\":\"1314\",\"type\":\"StringEditor\"},{\"attributes\":{\"editor\":{\"id\":\"1324\"},\"field\":\"TotalCoinSupply\",\"formatter\":{\"id\":\"1323\"},\"title\":\"TotalCoinSupply\"},\"id\":\"1325\",\"type\":\"TableColumn\"},{\"attributes\":{},\"id\":\"1323\",\"type\":\"StringFormatter\"},{\"attributes\":{\"margin\":[5,5,5,5],\"name\":\"HSpacer02106\",\"sizing_mode\":\"stretch_width\"},\"id\":\"1344\",\"type\":\"Spacer\"},{\"attributes\":{},\"id\":\"1324\",\"type\":\"StringEditor\"},{\"attributes\":{},\"id\":\"1307\",\"type\":\"Selection\"}],\"root_ids\":[\"1304\"]},\"title\":\"Bokeh Application\",\"version\":\"2.1.1\"}};\n",
       "  var render_items = [{\"docid\":\"91230975-fae9-4c6c-9747-28aa51117a10\",\"root_ids\":[\"1304\"],\"roots\":{\"1304\":\"15f6c24e-4a51-46b3-8f20-4eaec4006af1\"}}];\n",
       "  root.Bokeh.embed.embed_items_notebook(docs_json, render_items);\n",
       "  }\n",
       "if (root.Bokeh !== undefined) {\n",
       "    embed_document(root);\n",
       "  } else {\n",
       "    var attempts = 0;\n",
       "    var timer = setInterval(function(root) {\n",
       "      if (root.Bokeh !== undefined) {\n",
       "        clearInterval(timer);\n",
       "        embed_document(root);\n",
       "      } else if (document.readyState == \"complete\") {\n",
       "        attempts++;\n",
       "        if (attempts > 100) {\n",
       "          clearInterval(timer);\n",
       "          console.log(\"Bokeh: ERROR: Unable to run BokehJS code because BokehJS library is missing\");\n",
       "        }\n",
       "      }\n",
       "    }, 10, root)\n",
       "  }\n",
       "})(window);</script>"
      ],
      "text/plain": [
       ":Table   [CoinName,Algorithm,ProofType,TotalCoinSupply,TotalCoinsMined,Class]"
      ]
     },
     "execution_count": 91,
     "metadata": {
      "application/vnd.holoviews_exec.v0+json": {
       "id": "1304"
      }
     },
     "output_type": "execute_result"
    }
   ],
   "source": [
    "# Create a table with tradable cryptocurrencies.\n",
    "clustered_df.hvplot.table(columns=['CoinName', 'Algorithm', 'ProofType', 'TotalCoinSupply', 'TotalCoinsMined', 'Class'])"
   ]
  },
  {
   "cell_type": "code",
   "execution_count": 100,
   "metadata": {},
   "outputs": [
    {
     "name": "stdout",
     "output_type": "stream",
     "text": [
      "There are 532 tradable cryptocurrencies\n"
     ]
    }
   ],
   "source": [
    "# Print the total number of tradable cryptocurrencies.\n",
    "print(f\"There are {clustered_df.shape[0]} tradable cryptocurrencies\")"
   ]
  },
  {
   "cell_type": "code",
   "execution_count": 106,
   "metadata": {},
   "outputs": [
    {
     "name": "stdout",
     "output_type": "stream",
     "text": [
      "[[4.20000000e-11 0.00000000e+00]\n",
      " [5.32000000e-04 1.06585544e-03]\n",
      " [3.14159265e-01 2.95755135e-02]\n",
      " ...\n",
      " [1.40022261e-03 9.90135079e-04]\n",
      " [2.10000000e-05 7.37028150e-06]\n",
      " [1.00000000e-06 1.29582282e-07]]\n"
     ]
    }
   ],
   "source": [
    "# Scaling data to create the scatter plot with tradable cryptocurrencies.\n",
    "# Create the dataframe for just TotalCoinSupply and TotalCoinsMined\n",
    "data_df = clustered_df.filter([\"TotalCoinSupply\", \"TotalCoinsMined\"])\n",
    "\n",
    "#Scale the columns with MinMaxScaler\n",
    "crypto_minMax_scaled = MinMaxScaler().fit_transform(data_df)\n",
    "print(crypto_minMax_scaled)"
   ]
  },
  {
   "cell_type": "code",
   "execution_count": 107,
   "metadata": {},
   "outputs": [
    {
     "data": {
      "text/html": [
       "<div>\n",
       "<style scoped>\n",
       "    .dataframe tbody tr th:only-of-type {\n",
       "        vertical-align: middle;\n",
       "    }\n",
       "\n",
       "    .dataframe tbody tr th {\n",
       "        vertical-align: top;\n",
       "    }\n",
       "\n",
       "    .dataframe thead th {\n",
       "        text-align: right;\n",
       "    }\n",
       "</style>\n",
       "<table border=\"1\" class=\"dataframe\">\n",
       "  <thead>\n",
       "    <tr style=\"text-align: right;\">\n",
       "      <th></th>\n",
       "      <th>TotalCoinSupply</th>\n",
       "      <th>TotalCoinsMined</th>\n",
       "      <th>CoinName</th>\n",
       "      <th>Class</th>\n",
       "    </tr>\n",
       "  </thead>\n",
       "  <tbody>\n",
       "    <tr>\n",
       "      <th>42</th>\n",
       "      <td>4.200000e-11</td>\n",
       "      <td>0.000000</td>\n",
       "      <td>42 Coin</td>\n",
       "      <td>1</td>\n",
       "    </tr>\n",
       "    <tr>\n",
       "      <th>404</th>\n",
       "      <td>5.320000e-04</td>\n",
       "      <td>0.001066</td>\n",
       "      <td>404Coin</td>\n",
       "      <td>1</td>\n",
       "    </tr>\n",
       "    <tr>\n",
       "      <th>1337</th>\n",
       "      <td>3.141593e-01</td>\n",
       "      <td>0.029576</td>\n",
       "      <td>EliteCoin</td>\n",
       "      <td>1</td>\n",
       "    </tr>\n",
       "    <tr>\n",
       "      <th>BTC</th>\n",
       "      <td>2.100000e-05</td>\n",
       "      <td>0.000018</td>\n",
       "      <td>Bitcoin</td>\n",
       "      <td>0</td>\n",
       "    </tr>\n",
       "    <tr>\n",
       "      <th>ETH</th>\n",
       "      <td>0.000000e+00</td>\n",
       "      <td>0.000109</td>\n",
       "      <td>Ethereum</td>\n",
       "      <td>0</td>\n",
       "    </tr>\n",
       "    <tr>\n",
       "      <th>LTC</th>\n",
       "      <td>8.400000e-05</td>\n",
       "      <td>0.000064</td>\n",
       "      <td>Litecoin</td>\n",
       "      <td>0</td>\n",
       "    </tr>\n",
       "    <tr>\n",
       "      <th>DASH</th>\n",
       "      <td>2.200000e-05</td>\n",
       "      <td>0.000009</td>\n",
       "      <td>Dash</td>\n",
       "      <td>1</td>\n",
       "    </tr>\n",
       "    <tr>\n",
       "      <th>XMR</th>\n",
       "      <td>0.000000e+00</td>\n",
       "      <td>0.000017</td>\n",
       "      <td>Monero</td>\n",
       "      <td>0</td>\n",
       "    </tr>\n",
       "    <tr>\n",
       "      <th>ETC</th>\n",
       "      <td>2.100000e-04</td>\n",
       "      <td>0.000115</td>\n",
       "      <td>Ethereum Classic</td>\n",
       "      <td>0</td>\n",
       "    </tr>\n",
       "    <tr>\n",
       "      <th>ZEC</th>\n",
       "      <td>2.100000e-05</td>\n",
       "      <td>0.000007</td>\n",
       "      <td>ZCash</td>\n",
       "      <td>0</td>\n",
       "    </tr>\n",
       "  </tbody>\n",
       "</table>\n",
       "</div>"
      ],
      "text/plain": [
       "      TotalCoinSupply  TotalCoinsMined          CoinName  Class\n",
       "42       4.200000e-11         0.000000           42 Coin      1\n",
       "404      5.320000e-04         0.001066           404Coin      1\n",
       "1337     3.141593e-01         0.029576         EliteCoin      1\n",
       "BTC      2.100000e-05         0.000018           Bitcoin      0\n",
       "ETH      0.000000e+00         0.000109          Ethereum      0\n",
       "LTC      8.400000e-05         0.000064          Litecoin      0\n",
       "DASH     2.200000e-05         0.000009              Dash      1\n",
       "XMR      0.000000e+00         0.000017            Monero      0\n",
       "ETC      2.100000e-04         0.000115  Ethereum Classic      0\n",
       "ZEC      2.100000e-05         0.000007             ZCash      0"
      ]
     },
     "execution_count": 107,
     "metadata": {},
     "output_type": "execute_result"
    }
   ],
   "source": [
    "# Create a new DataFrame that has the scaled data with the clustered_df DataFrame index.\n",
    "plot_df = pd.DataFrame(data=crypto_minMax_scaled, columns=[\"TotalCoinSupply\", \"TotalCoinsMined\"], index=clustered_df.index)\n",
    "\n",
    "# Add the \"CoinName\" column from the clustered_df DataFrame to the new DataFrame.\n",
    "plot_df['CoinName'] = clustered_df['CoinName']\n",
    "\n",
    "# Add the \"Class\" column from the clustered_df DataFrame to the new DataFrame. \n",
    "plot_df['Class'] = clustered_df['Class']\n",
    "\n",
    "plot_df.head(10)"
   ]
  },
  {
   "cell_type": "code",
   "execution_count": 108,
   "metadata": {},
   "outputs": [
    {
     "data": {},
     "metadata": {},
     "output_type": "display_data"
    },
    {
     "data": {
      "application/vnd.holoviews_exec.v0+json": "",
      "text/html": [
       "<div id='1356'>\n",
       "\n",
       "\n",
       "\n",
       "\n",
       "\n",
       "  <div class=\"bk-root\" id=\"73c523a2-0f91-49e5-8766-b3e038dbf277\" data-root-id=\"1356\"></div>\n",
       "</div>\n",
       "<script type=\"application/javascript\">(function(root) {\n",
       "  function embed_document(root) {\n",
       "  var docs_json = {\"738a9908-b948-4c7a-876c-9a9c66260da3\":{\"roots\":{\"references\":[{\"attributes\":{},\"id\":\"1385\",\"type\":\"ResetTool\"},{\"attributes\":{\"fill_alpha\":{\"value\":0.1},\"fill_color\":{\"value\":\"#2ba02b\"},\"line_alpha\":{\"value\":0.1},\"line_color\":{\"value\":\"#2ba02b\"},\"size\":{\"units\":\"screen\",\"value\":5.477225575051661},\"x\":{\"field\":\"TotalCoinsMined\"},\"y\":{\"field\":\"TotalCoinSupply\"}},\"id\":\"1439\",\"type\":\"Scatter\"},{\"attributes\":{\"click_policy\":\"mute\",\"items\":[{\"id\":\"1415\"},{\"id\":\"1434\"},{\"id\":\"1455\"},{\"id\":\"1478\"}],\"location\":[0,0],\"title\":\"Class\"},\"id\":\"1414\",\"type\":\"Legend\"},{\"attributes\":{\"fill_alpha\":{\"value\":0.2},\"fill_color\":{\"value\":\"#2ba02b\"},\"line_alpha\":{\"value\":0.2},\"line_color\":{\"value\":\"#2ba02b\"},\"size\":{\"units\":\"screen\",\"value\":5.477225575051661},\"x\":{\"field\":\"TotalCoinsMined\"},\"y\":{\"field\":\"TotalCoinSupply\"}},\"id\":\"1440\",\"type\":\"Scatter\"},{\"attributes\":{\"fill_alpha\":{\"value\":0.1},\"fill_color\":{\"value\":\"#d62628\"},\"line_alpha\":{\"value\":0.1},\"line_color\":{\"value\":\"#d62628\"},\"size\":{\"units\":\"screen\",\"value\":5.477225575051661},\"x\":{\"field\":\"TotalCoinsMined\"},\"y\":{\"field\":\"TotalCoinSupply\"}},\"id\":\"1460\",\"type\":\"Scatter\"},{\"attributes\":{},\"id\":\"1454\",\"type\":\"UnionRenderers\"},{\"attributes\":{\"axis\":{\"id\":\"1373\"},\"grid_line_color\":null,\"ticker\":null},\"id\":\"1376\",\"type\":\"Grid\"},{\"attributes\":{\"data_source\":{\"id\":\"1416\"},\"glyph\":{\"id\":\"1419\"},\"hover_glyph\":null,\"muted_glyph\":{\"id\":\"1421\"},\"nonselection_glyph\":{\"id\":\"1420\"},\"selection_glyph\":null,\"view\":{\"id\":\"1423\"}},\"id\":\"1422\",\"type\":\"GlyphRenderer\"},{\"attributes\":{\"source\":{\"id\":\"1435\"}},\"id\":\"1442\",\"type\":\"CDSView\"},{\"attributes\":{},\"id\":\"1369\",\"type\":\"LinearScale\"},{\"attributes\":{\"fill_color\":{\"value\":\"#ff7e0e\"},\"line_color\":{\"value\":\"#ff7e0e\"},\"size\":{\"units\":\"screen\",\"value\":5.477225575051661},\"x\":{\"field\":\"TotalCoinsMined\"},\"y\":{\"field\":\"TotalCoinSupply\"}},\"id\":\"1419\",\"type\":\"Scatter\"},{\"attributes\":{},\"id\":\"1417\",\"type\":\"Selection\"},{\"attributes\":{\"axis_label\":\"TotalCoinsMined\",\"bounds\":\"auto\",\"formatter\":{\"id\":\"1395\"},\"major_label_orientation\":\"horizontal\",\"ticker\":{\"id\":\"1374\"}},\"id\":\"1373\",\"type\":\"LinearAxis\"},{\"attributes\":{\"fill_alpha\":{\"value\":0.1},\"fill_color\":{\"value\":\"#ff7e0e\"},\"line_alpha\":{\"value\":0.1},\"line_color\":{\"value\":\"#ff7e0e\"},\"size\":{\"units\":\"screen\",\"value\":5.477225575051661},\"x\":{\"field\":\"TotalCoinsMined\"},\"y\":{\"field\":\"TotalCoinSupply\"}},\"id\":\"1420\",\"type\":\"Scatter\"},{\"attributes\":{},\"id\":\"1436\",\"type\":\"Selection\"},{\"attributes\":{\"margin\":[5,5,5,5],\"name\":\"HSpacer02297\",\"sizing_mode\":\"stretch_width\"},\"id\":\"1605\",\"type\":\"Spacer\"},{\"attributes\":{\"end\":1.042857142857143,\"reset_end\":1.042857142857143,\"reset_start\":-0.04285714285714286,\"start\":-0.04285714285714286,\"tags\":[[[\"TotalCoinsMined\",\"TotalCoinsMined\",null]]]},\"id\":\"1358\",\"type\":\"Range1d\"},{\"attributes\":{},\"id\":\"1378\",\"type\":\"BasicTicker\"},{\"attributes\":{\"data\":{\"Class\":[0,0,0,0,0,0,0,0,0,0,0,0,0,0,0,0,0,0,0,0,0,0,0,0,0,0,0,0,0,0,0,0,0,0,0,0,0,0,0,0,0,0,0,0,0,0,0,0,0,0,0,0,0,0,0,0,0,0,0,0,0,0,0,0,0,0,0,0,0,0,0,0,0,0,0,0,0,0,0,0,0,0,0,0,0,0,0,0,0,0,0,0,0,0,0,0,0,0,0,0,0,0,0,0,0,0,0,0,0,0,0,0,0,0,0,0,0,0,0,0,0,0,0,0,0,0,0,0,0,0,0,0,0,0,0,0,0,0,0,0,0,0,0,0,0,0,0,0,0,0,0,0,0,0,0,0,0,0,0,0,0,0,0,0,0,0,0,0,0,0,0,0,0,0,0,0,0,0,0,0,0,0,0,0,0,0,0,0,0,0,0,0,0,0,0,0,0,0,0,0,0,0,0,0,0,0,0,0,0,0,0,0,0,0,0,0,0,0,0,0,0,0,0,0,0,0,0,0,0,0,0,0,0,0,0,0,0,0],\"TotalCoinSupply\":{\"__ndarray__\":\"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\",\"dtype\":\"float64\",\"order\":\"little\",\"shape\":[238]},\"TotalCoinsMined\":{\"__ndarray__\":\"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\",\"dtype\":\"float64\",\"order\":\"little\",\"shape\":[238]}},\"selected\":{\"id\":\"1399\"},\"selection_policy\":{\"id\":\"1413\"}},\"id\":\"1398\",\"type\":\"ColumnDataSource\"},{\"attributes\":{},\"id\":\"1374\",\"type\":\"BasicTicker\"},{\"attributes\":{\"fill_alpha\":{\"value\":0.2},\"fill_color\":{\"value\":\"#1f77b3\"},\"line_alpha\":{\"value\":0.2},\"line_color\":{\"value\":\"#1f77b3\"},\"size\":{\"units\":\"screen\",\"value\":5.477225575051661},\"x\":{\"field\":\"TotalCoinsMined\"},\"y\":{\"field\":\"TotalCoinSupply\"}},\"id\":\"1403\",\"type\":\"Scatter\"},{\"attributes\":{},\"id\":\"1457\",\"type\":\"Selection\"},{\"attributes\":{\"margin\":[5,5,5,5],\"name\":\"HSpacer02296\",\"sizing_mode\":\"stretch_width\"},\"id\":\"1357\",\"type\":\"Spacer\"},{\"attributes\":{\"fill_alpha\":{\"value\":0.2},\"fill_color\":{\"value\":\"#d62628\"},\"line_alpha\":{\"value\":0.2},\"line_color\":{\"value\":\"#d62628\"},\"size\":{\"units\":\"screen\",\"value\":5.477225575051661},\"x\":{\"field\":\"TotalCoinsMined\"},\"y\":{\"field\":\"TotalCoinSupply\"}},\"id\":\"1461\",\"type\":\"Scatter\"},{\"attributes\":{},\"id\":\"1413\",\"type\":\"UnionRenderers\"},{\"attributes\":{\"fill_alpha\":{\"value\":0.1},\"fill_color\":{\"value\":\"#1f77b3\"},\"line_alpha\":{\"value\":0.1},\"line_color\":{\"value\":\"#1f77b3\"},\"size\":{\"units\":\"screen\",\"value\":5.477225575051661},\"x\":{\"field\":\"TotalCoinsMined\"},\"y\":{\"field\":\"TotalCoinSupply\"}},\"id\":\"1402\",\"type\":\"Scatter\"},{\"attributes\":{\"fill_alpha\":{\"value\":0.2},\"fill_color\":{\"value\":\"#ff7e0e\"},\"line_alpha\":{\"value\":0.2},\"line_color\":{\"value\":\"#ff7e0e\"},\"size\":{\"units\":\"screen\",\"value\":5.477225575051661},\"x\":{\"field\":\"TotalCoinsMined\"},\"y\":{\"field\":\"TotalCoinSupply\"}},\"id\":\"1421\",\"type\":\"Scatter\"},{\"attributes\":{},\"id\":\"1433\",\"type\":\"UnionRenderers\"},{\"attributes\":{\"source\":{\"id\":\"1416\"}},\"id\":\"1423\",\"type\":\"CDSView\"},{\"attributes\":{\"axis_label\":\"TotalCoinSupply\",\"bounds\":\"auto\",\"formatter\":{\"id\":\"1397\"},\"major_label_orientation\":\"horizontal\",\"ticker\":{\"id\":\"1378\"}},\"id\":\"1377\",\"type\":\"LinearAxis\"},{\"attributes\":{\"active_drag\":\"auto\",\"active_inspect\":\"auto\",\"active_multi\":null,\"active_scroll\":\"auto\",\"active_tap\":\"auto\",\"tools\":[{\"id\":\"1360\"},{\"id\":\"1381\"},{\"id\":\"1382\"},{\"id\":\"1383\"},{\"id\":\"1384\"},{\"id\":\"1385\"}]},\"id\":\"1387\",\"type\":\"Toolbar\"},{\"attributes\":{\"data_source\":{\"id\":\"1435\"},\"glyph\":{\"id\":\"1438\"},\"hover_glyph\":null,\"muted_glyph\":{\"id\":\"1440\"},\"nonselection_glyph\":{\"id\":\"1439\"},\"selection_glyph\":null,\"view\":{\"id\":\"1442\"}},\"id\":\"1441\",\"type\":\"GlyphRenderer\"},{\"attributes\":{\"axis\":{\"id\":\"1377\"},\"dimension\":1,\"grid_line_color\":null,\"ticker\":null},\"id\":\"1380\",\"type\":\"Grid\"},{\"attributes\":{\"callback\":null,\"renderers\":[{\"id\":\"1404\"},{\"id\":\"1422\"},{\"id\":\"1441\"},{\"id\":\"1462\"}],\"tags\":[\"hv_created\"],\"tooltips\":[[\"Class\",\"@{Class}\"],[\"TotalCoinsMined\",\"@{TotalCoinsMined}\"],[\"TotalCoinSupply\",\"@{TotalCoinSupply}\"]]},\"id\":\"1360\",\"type\":\"HoverTool\"},{\"attributes\":{\"label\":{\"value\":\"1\"},\"renderers\":[{\"id\":\"1422\"}]},\"id\":\"1434\",\"type\":\"LegendItem\"},{\"attributes\":{\"source\":{\"id\":\"1398\"}},\"id\":\"1405\",\"type\":\"CDSView\"},{\"attributes\":{\"bottom_units\":\"screen\",\"fill_alpha\":0.5,\"fill_color\":\"lightgrey\",\"left_units\":\"screen\",\"level\":\"overlay\",\"line_alpha\":1.0,\"line_color\":\"black\",\"line_dash\":[4,4],\"line_width\":2,\"right_units\":\"screen\",\"top_units\":\"screen\"},\"id\":\"1386\",\"type\":\"BoxAnnotation\"},{\"attributes\":{\"fill_color\":{\"value\":\"#d62628\"},\"line_color\":{\"value\":\"#d62628\"},\"size\":{\"units\":\"screen\",\"value\":5.477225575051661},\"x\":{\"field\":\"TotalCoinsMined\"},\"y\":{\"field\":\"TotalCoinSupply\"}},\"id\":\"1459\",\"type\":\"Scatter\"},{\"attributes\":{},\"id\":\"1397\",\"type\":\"BasicTickFormatter\"},{\"attributes\":{\"data\":{\"Class\":[3,3,3,3,3,3],\"TotalCoinSupply\":{\"__ndarray__\":\"+nQumcwytj+U9gZfmEx1P7x5qkNuhks/hFoo4ZaLMD/8qfHSTWJQPyxDHOviNho/\",\"dtype\":\"float64\",\"order\":\"little\",\"shape\":[6]},\"TotalCoinsMined\":{\"__ndarray__\":\"zaDgBxGurD+PWA2R2lNdP5CkxfJKIUU/nBkleI8SKz96Q0MFuIxQP/tFfmC/eho/\",\"dtype\":\"float64\",\"order\":\"little\",\"shape\":[6]}},\"selected\":{\"id\":\"1457\"},\"selection_policy\":{\"id\":\"1477\"}},\"id\":\"1456\",\"type\":\"ColumnDataSource\"},{\"attributes\":{\"label\":{\"value\":\"2\"},\"renderers\":[{\"id\":\"1441\"}]},\"id\":\"1455\",\"type\":\"LegendItem\"},{\"attributes\":{},\"id\":\"1477\",\"type\":\"UnionRenderers\"},{\"attributes\":{\"data_source\":{\"id\":\"1456\"},\"glyph\":{\"id\":\"1459\"},\"hover_glyph\":null,\"muted_glyph\":{\"id\":\"1461\"},\"nonselection_glyph\":{\"id\":\"1460\"},\"selection_glyph\":null,\"view\":{\"id\":\"1463\"}},\"id\":\"1462\",\"type\":\"GlyphRenderer\"},{\"attributes\":{\"label\":{\"value\":\"0\"},\"renderers\":[{\"id\":\"1404\"}]},\"id\":\"1415\",\"type\":\"LegendItem\"},{\"attributes\":{\"source\":{\"id\":\"1456\"}},\"id\":\"1463\",\"type\":\"CDSView\"},{\"attributes\":{\"fill_color\":{\"value\":\"#1f77b3\"},\"line_color\":{\"value\":\"#1f77b3\"},\"size\":{\"units\":\"screen\",\"value\":5.477225575051661},\"x\":{\"field\":\"TotalCoinsMined\"},\"y\":{\"field\":\"TotalCoinSupply\"}},\"id\":\"1401\",\"type\":\"Scatter\"},{\"attributes\":{},\"id\":\"1399\",\"type\":\"Selection\"},{\"attributes\":{\"children\":[{\"id\":\"1357\"},{\"id\":\"1364\"},{\"id\":\"1605\"}],\"margin\":[0,0,0,0],\"name\":\"Row02292\",\"tags\":[\"embedded\"]},\"id\":\"1356\",\"type\":\"Row\"},{\"attributes\":{\"fill_color\":{\"value\":\"#2ba02b\"},\"line_color\":{\"value\":\"#2ba02b\"},\"size\":{\"units\":\"screen\",\"value\":5.477225575051661},\"x\":{\"field\":\"TotalCoinsMined\"},\"y\":{\"field\":\"TotalCoinSupply\"}},\"id\":\"1438\",\"type\":\"Scatter\"},{\"attributes\":{},\"id\":\"1381\",\"type\":\"SaveTool\"},{\"attributes\":{\"label\":{\"value\":\"3\"},\"renderers\":[{\"id\":\"1462\"}]},\"id\":\"1478\",\"type\":\"LegendItem\"},{\"attributes\":{\"data\":{\"Class\":[2],\"TotalCoinSupply\":{\"__ndarray__\":\"rkfhehSu7z8=\",\"dtype\":\"float64\",\"order\":\"little\",\"shape\":[1]},\"TotalCoinsMined\":{\"__ndarray__\":\"AAAAAAAA8D8=\",\"dtype\":\"float64\",\"order\":\"little\",\"shape\":[1]}},\"selected\":{\"id\":\"1436\"},\"selection_policy\":{\"id\":\"1454\"}},\"id\":\"1435\",\"type\":\"ColumnDataSource\"},{\"attributes\":{\"below\":[{\"id\":\"1373\"}],\"center\":[{\"id\":\"1376\"},{\"id\":\"1380\"}],\"left\":[{\"id\":\"1377\"}],\"margin\":null,\"min_border_bottom\":10,\"min_border_left\":10,\"min_border_right\":10,\"min_border_top\":10,\"plot_height\":300,\"plot_width\":700,\"renderers\":[{\"id\":\"1404\"},{\"id\":\"1422\"},{\"id\":\"1441\"},{\"id\":\"1462\"}],\"right\":[{\"id\":\"1414\"}],\"sizing_mode\":\"fixed\",\"title\":{\"id\":\"1365\"},\"toolbar\":{\"id\":\"1387\"},\"x_range\":{\"id\":\"1358\"},\"x_scale\":{\"id\":\"1369\"},\"y_range\":{\"id\":\"1359\"},\"y_scale\":{\"id\":\"1371\"}},\"id\":\"1364\",\"subtype\":\"Figure\",\"type\":\"Plot\"},{\"attributes\":{},\"id\":\"1383\",\"type\":\"WheelZoomTool\"},{\"attributes\":{\"data\":{\"Class\":[1,1,1,1,1,1,1,1,1,1,1,1,1,1,1,1,1,1,1,1,1,1,1,1,1,1,1,1,1,1,1,1,1,1,1,1,1,1,1,1,1,1,1,1,1,1,1,1,1,1,1,1,1,1,1,1,1,1,1,1,1,1,1,1,1,1,1,1,1,1,1,1,1,1,1,1,1,1,1,1,1,1,1,1,1,1,1,1,1,1,1,1,1,1,1,1,1,1,1,1,1,1,1,1,1,1,1,1,1,1,1,1,1,1,1,1,1,1,1,1,1,1,1,1,1,1,1,1,1,1,1,1,1,1,1,1,1,1,1,1,1,1,1,1,1,1,1,1,1,1,1,1,1,1,1,1,1,1,1,1,1,1,1,1,1,1,1,1,1,1,1,1,1,1,1,1,1,1,1,1,1,1,1,1,1,1,1,1,1,1,1,1,1,1,1,1,1,1,1,1,1,1,1,1,1,1,1,1,1,1,1,1,1,1,1,1,1,1,1,1,1,1,1,1,1,1,1,1,1,1,1,1,1,1,1,1,1,1,1,1,1,1,1,1,1,1,1,1,1,1,1,1,1,1,1,1,1,1,1,1,1,1,1,1,1,1,1,1,1,1,1,1,1,1,1,1,1,1,1,1,1,1,1,1,1,1,1],\"TotalCoinSupply\":{\"__ndarray__\":\"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\",\"dtype\":\"float64\",\"order\":\"little\",\"shape\":[287]},\"TotalCoinsMined\":{\"__ndarray__\":\"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\",\"dtype\":\"float64\",\"order\":\"little\",\"shape\":[287]}},\"selected\":{\"id\":\"1417\"},\"selection_policy\":{\"id\":\"1433\"}},\"id\":\"1416\",\"type\":\"ColumnDataSource\"},{\"attributes\":{},\"id\":\"1382\",\"type\":\"PanTool\"},{\"attributes\":{},\"id\":\"1371\",\"type\":\"LinearScale\"},{\"attributes\":{\"end\":1.1,\"reset_end\":1.1,\"reset_start\":-0.1,\"start\":-0.1,\"tags\":[[[\"TotalCoinSupply\",\"TotalCoinSupply\",null]]]},\"id\":\"1359\",\"type\":\"Range1d\"},{\"attributes\":{\"data_source\":{\"id\":\"1398\"},\"glyph\":{\"id\":\"1401\"},\"hover_glyph\":null,\"muted_glyph\":{\"id\":\"1403\"},\"nonselection_glyph\":{\"id\":\"1402\"},\"selection_glyph\":null,\"view\":{\"id\":\"1405\"}},\"id\":\"1404\",\"type\":\"GlyphRenderer\"},{\"attributes\":{\"overlay\":{\"id\":\"1386\"}},\"id\":\"1384\",\"type\":\"BoxZoomTool\"},{\"attributes\":{},\"id\":\"1395\",\"type\":\"BasicTickFormatter\"},{\"attributes\":{\"text\":\"\",\"text_color\":{\"value\":\"black\"},\"text_font_size\":{\"value\":\"12pt\"}},\"id\":\"1365\",\"type\":\"Title\"}],\"root_ids\":[\"1356\"]},\"title\":\"Bokeh Application\",\"version\":\"2.1.1\"}};\n",
       "  var render_items = [{\"docid\":\"738a9908-b948-4c7a-876c-9a9c66260da3\",\"root_ids\":[\"1356\"],\"roots\":{\"1356\":\"73c523a2-0f91-49e5-8766-b3e038dbf277\"}}];\n",
       "  root.Bokeh.embed.embed_items_notebook(docs_json, render_items);\n",
       "  }\n",
       "if (root.Bokeh !== undefined) {\n",
       "    embed_document(root);\n",
       "  } else {\n",
       "    var attempts = 0;\n",
       "    var timer = setInterval(function(root) {\n",
       "      if (root.Bokeh !== undefined) {\n",
       "        clearInterval(timer);\n",
       "        embed_document(root);\n",
       "      } else if (document.readyState == \"complete\") {\n",
       "        attempts++;\n",
       "        if (attempts > 100) {\n",
       "          clearInterval(timer);\n",
       "          console.log(\"Bokeh: ERROR: Unable to run BokehJS code because BokehJS library is missing\");\n",
       "        }\n",
       "      }\n",
       "    }, 10, root)\n",
       "  }\n",
       "})(window);</script>"
      ],
      "text/plain": [
       ":NdOverlay   [Class]\n",
       "   :Scatter   [TotalCoinsMined]   (TotalCoinSupply)"
      ]
     },
     "execution_count": 108,
     "metadata": {
      "application/vnd.holoviews_exec.v0+json": {
       "id": "1356"
      }
     },
     "output_type": "execute_result"
    }
   ],
   "source": [
    "# Create a hvplot.scatter plot using x=\"TotalCoinsMined\" and y=\"TotalCoinSupply\".\n",
    "plot_df.hvplot.scatter(x=\"TotalCoinsMined\", y=\"TotalCoinSupply\", by=\"Class\")"
   ]
  },
  {
   "cell_type": "code",
   "execution_count": null,
   "metadata": {},
   "outputs": [],
   "source": []
  },
  {
   "cell_type": "code",
   "execution_count": null,
   "metadata": {},
   "outputs": [],
   "source": []
  }
 ],
 "metadata": {
  "kernelspec": {
   "display_name": "mlenv",
   "language": "python",
   "name": "mlenv"
  },
  "language_info": {
   "codemirror_mode": {
    "name": "ipython",
    "version": 3
   },
   "file_extension": ".py",
   "mimetype": "text/x-python",
   "name": "python",
   "nbconvert_exporter": "python",
   "pygments_lexer": "ipython3",
   "version": "3.7.7"
  }
 },
 "nbformat": 4,
 "nbformat_minor": 4
}
